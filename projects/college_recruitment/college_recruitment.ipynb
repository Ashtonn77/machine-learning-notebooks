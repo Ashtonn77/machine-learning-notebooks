{
 "cells": [
  {
   "cell_type": "markdown",
   "metadata": {
    "collapsed": true,
    "pycharm": {
     "name": "#%% md\n"
    }
   },
   "source": [
    "# College Recruitment"
   ]
  },
  {
   "cell_type": "markdown",
   "source": [
    "### Importing the Dependencies"
   ],
   "metadata": {
    "collapsed": false,
    "pycharm": {
     "name": "#%% md\n"
    }
   }
  },
  {
   "cell_type": "code",
   "execution_count": 186,
   "outputs": [],
   "source": [
    "import numpy as np\n",
    "import pandas as pd\n",
    "from sklearn.preprocessing import StandardScaler\n",
    "from sklearn.model_selection import train_test_split\n",
    "from sklearn import svm\n",
    "from sklearn.metrics import accuracy_score"
   ],
   "metadata": {
    "collapsed": false,
    "pycharm": {
     "name": "#%%\n"
    }
   }
  },
  {
   "cell_type": "markdown",
   "source": [
    "### Data Collection and Analysis"
   ],
   "metadata": {
    "collapsed": false,
    "pycharm": {
     "name": "#%% md\n"
    }
   }
  },
  {
   "cell_type": "code",
   "execution_count": 187,
   "outputs": [],
   "source": [
    "college_dataset = pd.read_csv('Placement_Data_Full_Class.csv')"
   ],
   "metadata": {
    "collapsed": false,
    "pycharm": {
     "name": "#%%\n"
    }
   }
  },
  {
   "cell_type": "code",
   "execution_count": 188,
   "outputs": [
    {
     "data": {
      "text/plain": "   sl_no gender  ssc_p    ssc_b  hsc_p    hsc_b     hsc_s  degree_p  \\\n0      1      M  67.00   Others  91.00   Others  Commerce     58.00   \n1      2      M  79.33  Central  78.33   Others   Science     77.48   \n2      3      M  65.00  Central  68.00  Central      Arts     64.00   \n3      4      M  56.00  Central  52.00  Central   Science     52.00   \n4      5      M  85.80  Central  73.60  Central  Commerce     73.30   \n\n    degree_t workex  etest_p specialisation  mba_p      status    salary  \n0   Sci&Tech     No     55.0         Mkt&HR  58.80      Placed  270000.0  \n1   Sci&Tech    Yes     86.5        Mkt&Fin  66.28      Placed  200000.0  \n2  Comm&Mgmt     No     75.0        Mkt&Fin  57.80      Placed  250000.0  \n3   Sci&Tech     No     66.0         Mkt&HR  59.43  Not Placed       NaN  \n4  Comm&Mgmt     No     96.8        Mkt&Fin  55.50      Placed  425000.0  ",
      "text/html": "<div>\n<style scoped>\n    .dataframe tbody tr th:only-of-type {\n        vertical-align: middle;\n    }\n\n    .dataframe tbody tr th {\n        vertical-align: top;\n    }\n\n    .dataframe thead th {\n        text-align: right;\n    }\n</style>\n<table border=\"1\" class=\"dataframe\">\n  <thead>\n    <tr style=\"text-align: right;\">\n      <th></th>\n      <th>sl_no</th>\n      <th>gender</th>\n      <th>ssc_p</th>\n      <th>ssc_b</th>\n      <th>hsc_p</th>\n      <th>hsc_b</th>\n      <th>hsc_s</th>\n      <th>degree_p</th>\n      <th>degree_t</th>\n      <th>workex</th>\n      <th>etest_p</th>\n      <th>specialisation</th>\n      <th>mba_p</th>\n      <th>status</th>\n      <th>salary</th>\n    </tr>\n  </thead>\n  <tbody>\n    <tr>\n      <th>0</th>\n      <td>1</td>\n      <td>M</td>\n      <td>67.00</td>\n      <td>Others</td>\n      <td>91.00</td>\n      <td>Others</td>\n      <td>Commerce</td>\n      <td>58.00</td>\n      <td>Sci&amp;Tech</td>\n      <td>No</td>\n      <td>55.0</td>\n      <td>Mkt&amp;HR</td>\n      <td>58.80</td>\n      <td>Placed</td>\n      <td>270000.0</td>\n    </tr>\n    <tr>\n      <th>1</th>\n      <td>2</td>\n      <td>M</td>\n      <td>79.33</td>\n      <td>Central</td>\n      <td>78.33</td>\n      <td>Others</td>\n      <td>Science</td>\n      <td>77.48</td>\n      <td>Sci&amp;Tech</td>\n      <td>Yes</td>\n      <td>86.5</td>\n      <td>Mkt&amp;Fin</td>\n      <td>66.28</td>\n      <td>Placed</td>\n      <td>200000.0</td>\n    </tr>\n    <tr>\n      <th>2</th>\n      <td>3</td>\n      <td>M</td>\n      <td>65.00</td>\n      <td>Central</td>\n      <td>68.00</td>\n      <td>Central</td>\n      <td>Arts</td>\n      <td>64.00</td>\n      <td>Comm&amp;Mgmt</td>\n      <td>No</td>\n      <td>75.0</td>\n      <td>Mkt&amp;Fin</td>\n      <td>57.80</td>\n      <td>Placed</td>\n      <td>250000.0</td>\n    </tr>\n    <tr>\n      <th>3</th>\n      <td>4</td>\n      <td>M</td>\n      <td>56.00</td>\n      <td>Central</td>\n      <td>52.00</td>\n      <td>Central</td>\n      <td>Science</td>\n      <td>52.00</td>\n      <td>Sci&amp;Tech</td>\n      <td>No</td>\n      <td>66.0</td>\n      <td>Mkt&amp;HR</td>\n      <td>59.43</td>\n      <td>Not Placed</td>\n      <td>NaN</td>\n    </tr>\n    <tr>\n      <th>4</th>\n      <td>5</td>\n      <td>M</td>\n      <td>85.80</td>\n      <td>Central</td>\n      <td>73.60</td>\n      <td>Central</td>\n      <td>Commerce</td>\n      <td>73.30</td>\n      <td>Comm&amp;Mgmt</td>\n      <td>No</td>\n      <td>96.8</td>\n      <td>Mkt&amp;Fin</td>\n      <td>55.50</td>\n      <td>Placed</td>\n      <td>425000.0</td>\n    </tr>\n  </tbody>\n</table>\n</div>"
     },
     "execution_count": 188,
     "metadata": {},
     "output_type": "execute_result"
    }
   ],
   "source": [
    "college_dataset.head()"
   ],
   "metadata": {
    "collapsed": false,
    "pycharm": {
     "name": "#%%\n"
    }
   }
  },
  {
   "cell_type": "code",
   "execution_count": 189,
   "outputs": [
    {
     "data": {
      "text/plain": "(215, 15)"
     },
     "execution_count": 189,
     "metadata": {},
     "output_type": "execute_result"
    }
   ],
   "source": [
    "college_dataset.shape"
   ],
   "metadata": {
    "collapsed": false,
    "pycharm": {
     "name": "#%%\n"
    }
   }
  },
  {
   "cell_type": "code",
   "execution_count": 190,
   "outputs": [
    {
     "data": {
      "text/plain": "            sl_no       ssc_p       hsc_p    degree_p     etest_p       mba_p  \\\ncount  215.000000  215.000000  215.000000  215.000000  215.000000  215.000000   \nmean   108.000000   67.303395   66.333163   66.370186   72.100558   62.278186   \nstd     62.209324   10.827205   10.897509    7.358743   13.275956    5.833385   \nmin      1.000000   40.890000   37.000000   50.000000   50.000000   51.210000   \n25%     54.500000   60.600000   60.900000   61.000000   60.000000   57.945000   \n50%    108.000000   67.000000   65.000000   66.000000   71.000000   62.000000   \n75%    161.500000   75.700000   73.000000   72.000000   83.500000   66.255000   \nmax    215.000000   89.400000   97.700000   91.000000   98.000000   77.890000   \n\n              salary  \ncount     148.000000  \nmean   288655.405405  \nstd     93457.452420  \nmin    200000.000000  \n25%    240000.000000  \n50%    265000.000000  \n75%    300000.000000  \nmax    940000.000000  ",
      "text/html": "<div>\n<style scoped>\n    .dataframe tbody tr th:only-of-type {\n        vertical-align: middle;\n    }\n\n    .dataframe tbody tr th {\n        vertical-align: top;\n    }\n\n    .dataframe thead th {\n        text-align: right;\n    }\n</style>\n<table border=\"1\" class=\"dataframe\">\n  <thead>\n    <tr style=\"text-align: right;\">\n      <th></th>\n      <th>sl_no</th>\n      <th>ssc_p</th>\n      <th>hsc_p</th>\n      <th>degree_p</th>\n      <th>etest_p</th>\n      <th>mba_p</th>\n      <th>salary</th>\n    </tr>\n  </thead>\n  <tbody>\n    <tr>\n      <th>count</th>\n      <td>215.000000</td>\n      <td>215.000000</td>\n      <td>215.000000</td>\n      <td>215.000000</td>\n      <td>215.000000</td>\n      <td>215.000000</td>\n      <td>148.000000</td>\n    </tr>\n    <tr>\n      <th>mean</th>\n      <td>108.000000</td>\n      <td>67.303395</td>\n      <td>66.333163</td>\n      <td>66.370186</td>\n      <td>72.100558</td>\n      <td>62.278186</td>\n      <td>288655.405405</td>\n    </tr>\n    <tr>\n      <th>std</th>\n      <td>62.209324</td>\n      <td>10.827205</td>\n      <td>10.897509</td>\n      <td>7.358743</td>\n      <td>13.275956</td>\n      <td>5.833385</td>\n      <td>93457.452420</td>\n    </tr>\n    <tr>\n      <th>min</th>\n      <td>1.000000</td>\n      <td>40.890000</td>\n      <td>37.000000</td>\n      <td>50.000000</td>\n      <td>50.000000</td>\n      <td>51.210000</td>\n      <td>200000.000000</td>\n    </tr>\n    <tr>\n      <th>25%</th>\n      <td>54.500000</td>\n      <td>60.600000</td>\n      <td>60.900000</td>\n      <td>61.000000</td>\n      <td>60.000000</td>\n      <td>57.945000</td>\n      <td>240000.000000</td>\n    </tr>\n    <tr>\n      <th>50%</th>\n      <td>108.000000</td>\n      <td>67.000000</td>\n      <td>65.000000</td>\n      <td>66.000000</td>\n      <td>71.000000</td>\n      <td>62.000000</td>\n      <td>265000.000000</td>\n    </tr>\n    <tr>\n      <th>75%</th>\n      <td>161.500000</td>\n      <td>75.700000</td>\n      <td>73.000000</td>\n      <td>72.000000</td>\n      <td>83.500000</td>\n      <td>66.255000</td>\n      <td>300000.000000</td>\n    </tr>\n    <tr>\n      <th>max</th>\n      <td>215.000000</td>\n      <td>89.400000</td>\n      <td>97.700000</td>\n      <td>91.000000</td>\n      <td>98.000000</td>\n      <td>77.890000</td>\n      <td>940000.000000</td>\n    </tr>\n  </tbody>\n</table>\n</div>"
     },
     "execution_count": 190,
     "metadata": {},
     "output_type": "execute_result"
    }
   ],
   "source": [
    "college_dataset.describe() #you cannot describe non-numerical values"
   ],
   "metadata": {
    "collapsed": false,
    "pycharm": {
     "name": "#%%\n"
    }
   }
  },
  {
   "cell_type": "code",
   "execution_count": 191,
   "outputs": [
    {
     "data": {
      "text/plain": "Placed        148\nNot Placed     67\nName: status, dtype: int64"
     },
     "execution_count": 191,
     "metadata": {},
     "output_type": "execute_result"
    }
   ],
   "source": [
    "college_dataset['status'].value_counts()"
   ],
   "metadata": {
    "collapsed": false,
    "pycharm": {
     "name": "#%%\n"
    }
   }
  },
  {
   "cell_type": "code",
   "execution_count": 192,
   "outputs": [
    {
     "data": {
      "text/plain": "0        Placed\n1        Placed\n2        Placed\n3    Not Placed\n4        Placed\nName: status, dtype: object"
     },
     "execution_count": 192,
     "metadata": {},
     "output_type": "execute_result"
    }
   ],
   "source": [
    "college_dataset['status'].head()"
   ],
   "metadata": {
    "collapsed": false,
    "pycharm": {
     "name": "#%%\n"
    }
   }
  },
  {
   "cell_type": "code",
   "execution_count": 193,
   "outputs": [],
   "source": [
    "#replacing string status with numeric representation\n",
    "college_dataset['status'] = college_dataset['status'].replace(['Placed', 'Not Placed'], [1, 0])"
   ],
   "metadata": {
    "collapsed": false,
    "pycharm": {
     "name": "#%%\n"
    }
   }
  },
  {
   "cell_type": "code",
   "execution_count": 194,
   "outputs": [
    {
     "data": {
      "text/plain": "0    1\n1    1\n2    1\n3    0\n4    1\nName: status, dtype: int64"
     },
     "execution_count": 194,
     "metadata": {},
     "output_type": "execute_result"
    }
   ],
   "source": [
    "college_dataset['status'].head()"
   ],
   "metadata": {
    "collapsed": false,
    "pycharm": {
     "name": "#%%\n"
    }
   }
  },
  {
   "cell_type": "markdown",
   "source": [
    "### 1 = Placed\n",
    "### 0 = Not Placed"
   ],
   "metadata": {
    "collapsed": false,
    "pycharm": {
     "name": "#%% md\n"
    }
   }
  },
  {
   "cell_type": "code",
   "execution_count": 195,
   "outputs": [
    {
     "data": {
      "text/plain": "sl_no              0\ngender             0\nssc_p              0\nssc_b              0\nhsc_p              0\nhsc_b              0\nhsc_s              0\ndegree_p           0\ndegree_t           0\nworkex             0\netest_p            0\nspecialisation     0\nmba_p              0\nstatus             0\nsalary            67\ndtype: int64"
     },
     "execution_count": 195,
     "metadata": {},
     "output_type": "execute_result"
    }
   ],
   "source": [
    "#check for null values\n",
    "college_dataset.isnull().sum()"
   ],
   "metadata": {
    "collapsed": false,
    "pycharm": {
     "name": "#%%\n"
    }
   }
  },
  {
   "cell_type": "code",
   "execution_count": 196,
   "outputs": [],
   "source": [
    "#replacing string workex with numeric representation - yes & no to 1 & 0\n",
    "college_dataset['workex'] = college_dataset['workex'].replace(['Yes', 'No'], [1, 0])"
   ],
   "metadata": {
    "collapsed": false,
    "pycharm": {
     "name": "#%%\n"
    }
   }
  },
  {
   "cell_type": "markdown",
   "source": [
    "### Separate features and labels, and drop unnecessary columns"
   ],
   "metadata": {
    "collapsed": false,
    "pycharm": {
     "name": "#%% md\n"
    }
   }
  },
  {
   "cell_type": "code",
   "execution_count": 197,
   "outputs": [],
   "source": [
    "temp_x = college_dataset.drop(columns=['sl_no', 'status', 'ssc_b', 'hsc_b', 'salary', 'gender', 'specialisation'], axis=1)\n",
    "y = college_dataset['status']"
   ],
   "metadata": {
    "collapsed": false,
    "pycharm": {
     "name": "#%%\n"
    }
   }
  },
  {
   "cell_type": "code",
   "execution_count": 198,
   "outputs": [
    {
     "data": {
      "text/plain": "   ssc_p  hsc_p     hsc_s  degree_p   degree_t  workex  etest_p  mba_p\n0  67.00  91.00  Commerce     58.00   Sci&Tech       0     55.0  58.80\n1  79.33  78.33   Science     77.48   Sci&Tech       1     86.5  66.28\n2  65.00  68.00      Arts     64.00  Comm&Mgmt       0     75.0  57.80\n3  56.00  52.00   Science     52.00   Sci&Tech       0     66.0  59.43\n4  85.80  73.60  Commerce     73.30  Comm&Mgmt       0     96.8  55.50",
      "text/html": "<div>\n<style scoped>\n    .dataframe tbody tr th:only-of-type {\n        vertical-align: middle;\n    }\n\n    .dataframe tbody tr th {\n        vertical-align: top;\n    }\n\n    .dataframe thead th {\n        text-align: right;\n    }\n</style>\n<table border=\"1\" class=\"dataframe\">\n  <thead>\n    <tr style=\"text-align: right;\">\n      <th></th>\n      <th>ssc_p</th>\n      <th>hsc_p</th>\n      <th>hsc_s</th>\n      <th>degree_p</th>\n      <th>degree_t</th>\n      <th>workex</th>\n      <th>etest_p</th>\n      <th>mba_p</th>\n    </tr>\n  </thead>\n  <tbody>\n    <tr>\n      <th>0</th>\n      <td>67.00</td>\n      <td>91.00</td>\n      <td>Commerce</td>\n      <td>58.00</td>\n      <td>Sci&amp;Tech</td>\n      <td>0</td>\n      <td>55.0</td>\n      <td>58.80</td>\n    </tr>\n    <tr>\n      <th>1</th>\n      <td>79.33</td>\n      <td>78.33</td>\n      <td>Science</td>\n      <td>77.48</td>\n      <td>Sci&amp;Tech</td>\n      <td>1</td>\n      <td>86.5</td>\n      <td>66.28</td>\n    </tr>\n    <tr>\n      <th>2</th>\n      <td>65.00</td>\n      <td>68.00</td>\n      <td>Arts</td>\n      <td>64.00</td>\n      <td>Comm&amp;Mgmt</td>\n      <td>0</td>\n      <td>75.0</td>\n      <td>57.80</td>\n    </tr>\n    <tr>\n      <th>3</th>\n      <td>56.00</td>\n      <td>52.00</td>\n      <td>Science</td>\n      <td>52.00</td>\n      <td>Sci&amp;Tech</td>\n      <td>0</td>\n      <td>66.0</td>\n      <td>59.43</td>\n    </tr>\n    <tr>\n      <th>4</th>\n      <td>85.80</td>\n      <td>73.60</td>\n      <td>Commerce</td>\n      <td>73.30</td>\n      <td>Comm&amp;Mgmt</td>\n      <td>0</td>\n      <td>96.8</td>\n      <td>55.50</td>\n    </tr>\n  </tbody>\n</table>\n</div>"
     },
     "execution_count": 198,
     "metadata": {},
     "output_type": "execute_result"
    }
   ],
   "source": [
    "temp_x.head()"
   ],
   "metadata": {
    "collapsed": false,
    "pycharm": {
     "name": "#%%\n"
    }
   }
  },
  {
   "cell_type": "code",
   "execution_count": 198,
   "outputs": [],
   "source": [],
   "metadata": {
    "collapsed": false,
    "pycharm": {
     "name": "#%%\n"
    }
   }
  },
  {
   "cell_type": "code",
   "execution_count": 199,
   "outputs": [
    {
     "data": {
      "text/plain": "\"\\ndummies = pd.get_dummies(temp_x.hsc_s)\\ndummies.head()\\ndummies_2 = pd.get_dummies(temp_x.degree_t)\\none_hot_encoded = pd.concat([dummies, dummies_2], axis=1)\\ntemp_one_hot = pd.concat([temp_x, one_hot_encoded], axis=1)\\ntemp_one_hot = temp_one_hot.drop(['hsc_s', 'degree_t'], axis=1)\\ntemp_one_hot.head()\\n\\n\""
     },
     "execution_count": 199,
     "metadata": {},
     "output_type": "execute_result"
    }
   ],
   "source": [
    "#when building a model we cannot have string/text data\n",
    "#so we have to use one-hot encoding to transform the columns in question\n",
    "#but for now, we will leave this step out\n",
    "\n",
    "\"\"\"\n",
    "dummies = pd.get_dummies(temp_x.hsc_s)\n",
    "dummies.head()\n",
    "dummies_2 = pd.get_dummies(temp_x.degree_t)\n",
    "one_hot_encoded = pd.concat([dummies, dummies_2], axis=1)\n",
    "temp_one_hot = pd.concat([temp_x, one_hot_encoded], axis=1)\n",
    "temp_one_hot = temp_one_hot.drop(['hsc_s', 'degree_t'], axis=1)\n",
    "temp_one_hot.head()\n",
    "\n",
    "\"\"\""
   ],
   "metadata": {
    "collapsed": false,
    "pycharm": {
     "name": "#%%\n"
    }
   }
  },
  {
   "cell_type": "code",
   "execution_count": 200,
   "outputs": [
    {
     "data": {
      "text/plain": "   ssc_p  hsc_p  degree_p  workex  etest_p  mba_p\n0  67.00  91.00     58.00       0     55.0  58.80\n1  79.33  78.33     77.48       1     86.5  66.28\n2  65.00  68.00     64.00       0     75.0  57.80\n3  56.00  52.00     52.00       0     66.0  59.43\n4  85.80  73.60     73.30       0     96.8  55.50",
      "text/html": "<div>\n<style scoped>\n    .dataframe tbody tr th:only-of-type {\n        vertical-align: middle;\n    }\n\n    .dataframe tbody tr th {\n        vertical-align: top;\n    }\n\n    .dataframe thead th {\n        text-align: right;\n    }\n</style>\n<table border=\"1\" class=\"dataframe\">\n  <thead>\n    <tr style=\"text-align: right;\">\n      <th></th>\n      <th>ssc_p</th>\n      <th>hsc_p</th>\n      <th>degree_p</th>\n      <th>workex</th>\n      <th>etest_p</th>\n      <th>mba_p</th>\n    </tr>\n  </thead>\n  <tbody>\n    <tr>\n      <th>0</th>\n      <td>67.00</td>\n      <td>91.00</td>\n      <td>58.00</td>\n      <td>0</td>\n      <td>55.0</td>\n      <td>58.80</td>\n    </tr>\n    <tr>\n      <th>1</th>\n      <td>79.33</td>\n      <td>78.33</td>\n      <td>77.48</td>\n      <td>1</td>\n      <td>86.5</td>\n      <td>66.28</td>\n    </tr>\n    <tr>\n      <th>2</th>\n      <td>65.00</td>\n      <td>68.00</td>\n      <td>64.00</td>\n      <td>0</td>\n      <td>75.0</td>\n      <td>57.80</td>\n    </tr>\n    <tr>\n      <th>3</th>\n      <td>56.00</td>\n      <td>52.00</td>\n      <td>52.00</td>\n      <td>0</td>\n      <td>66.0</td>\n      <td>59.43</td>\n    </tr>\n    <tr>\n      <th>4</th>\n      <td>85.80</td>\n      <td>73.60</td>\n      <td>73.30</td>\n      <td>0</td>\n      <td>96.8</td>\n      <td>55.50</td>\n    </tr>\n  </tbody>\n</table>\n</div>"
     },
     "execution_count": 200,
     "metadata": {},
     "output_type": "execute_result"
    }
   ],
   "source": [
    "X = temp_x.drop(['hsc_s', 'degree_t'], axis=1)\n",
    "X.head()"
   ],
   "metadata": {
    "collapsed": false,
    "pycharm": {
     "name": "#%%\n"
    }
   }
  },
  {
   "cell_type": "markdown",
   "source": [
    "### Data Standardization"
   ],
   "metadata": {
    "collapsed": false,
    "pycharm": {
     "name": "#%% md\n"
    }
   }
  },
  {
   "cell_type": "code",
   "execution_count": 201,
   "outputs": [],
   "source": [
    "scalar = StandardScaler()\n",
    "scalar.fit(X)\n",
    "standardized_data = scalar.transform(X)"
   ],
   "metadata": {
    "collapsed": false,
    "pycharm": {
     "name": "#%%\n"
    }
   }
  },
  {
   "cell_type": "code",
   "execution_count": 203,
   "outputs": [
    {
     "name": "stdout",
     "output_type": "stream",
     "text": [
      "[[-0.02808697  2.2688123  -1.14010225 -0.72444647 -1.29109087 -0.59764672]\n",
      " [ 1.11336869  1.10344799  1.51326671  1.38036423  1.08715679  0.6876202 ]\n",
      " [-0.21323793  0.15331275 -0.32284282 -0.72444647  0.21890765 -0.76947385]\n",
      " ...\n",
      " [-0.02808697  0.06133451  0.90304633  1.38036423 -0.98909117  1.27870553]\n",
      " [ 0.61994138 -0.03064373 -1.14010225 -0.72444647 -0.15859198 -0.35193393]\n",
      " [-0.49096436 -0.76646966 -1.82115177 -0.72444647  1.27590661 -0.3536522 ]]\n"
     ]
    }
   ],
   "source": [
    "#as you can see, all our values are in the range 0 - 1\n",
    "#this will allow our model to make better predictions\n",
    "print(standardized_data)"
   ],
   "metadata": {
    "collapsed": false,
    "pycharm": {
     "name": "#%%\n"
    }
   }
  },
  {
   "cell_type": "code",
   "execution_count": 207,
   "outputs": [
    {
     "name": "stdout",
     "output_type": "stream",
     "text": [
      "            0         1         2         3         4         5\n",
      "0   -0.028087  2.268812 -1.140102 -0.724446 -1.291091 -0.597647\n",
      "1    1.113369  1.103448  1.513267  1.380364  1.087157  0.687620\n",
      "2   -0.213238  0.153313 -0.322843 -0.724446  0.218908 -0.769474\n",
      "3   -1.046417 -1.318339 -1.957362 -0.724446 -0.460592 -0.489396\n",
      "4    1.712332  0.668391  0.943909 -0.724446  1.864806 -1.164676\n",
      "..        ...       ...       ...       ...       ...       ...\n",
      "210  1.230940  1.441008  1.529612 -0.724446  1.426906  2.098321\n",
      "211 -0.861266 -0.582513  0.766836 -0.724446  0.143408 -1.487711\n",
      "212 -0.028087  0.061335  0.903046  1.380364 -0.989091  1.278706\n",
      "213  0.619941 -0.030644 -1.140102 -0.724446 -0.158592 -0.351934\n",
      "214 -0.490964 -0.766470 -1.821152 -0.724446  1.275907 -0.353652\n",
      "\n",
      "[215 rows x 6 columns]\n"
     ]
    }
   ],
   "source": [
    "#X is now a numpy array because of the standardization step\n",
    "X = standardized_data\n",
    "print(pd.DataFrame(X))"
   ],
   "metadata": {
    "collapsed": false,
    "pycharm": {
     "name": "#%%\n"
    }
   }
  },
  {
   "cell_type": "markdown",
   "source": [
    "### Split dataset into testing and training sets"
   ],
   "metadata": {
    "collapsed": false,
    "pycharm": {
     "name": "#%% md\n"
    }
   }
  },
  {
   "cell_type": "code",
   "execution_count": 208,
   "outputs": [],
   "source": [
    "X_train, X_test, y_train, y_test = train_test_split(X, y, test_size=0.2, stratify=y, random_state=42)"
   ],
   "metadata": {
    "collapsed": false,
    "pycharm": {
     "name": "#%%\n"
    }
   }
  },
  {
   "cell_type": "markdown",
   "source": [
    "### What is stratification? In Simple terms: Grouping based on characteristics\n",
    "<br/>\n",
    "<blockquote>\n",
    "This stratify parameter makes a split so that the proportion of values in the sample produced will be the same as the proportion of values provided to parameter stratify.\n",
    "For example, if variable y is a binary categorical variable with values 0 and 1 and there are 25% of zeros and 75% of ones, stratify=y will make sure that your random split has 25% of 0's and 75% of 1's.\n",
    "</blockquote>"
   ],
   "metadata": {
    "collapsed": false,
    "pycharm": {
     "name": "#%% md\n"
    }
   }
  },
  {
   "cell_type": "markdown",
   "source": [
    "### Train the Model"
   ],
   "metadata": {
    "collapsed": false,
    "pycharm": {
     "name": "#%% md\n"
    }
   }
  },
  {
   "cell_type": "code",
   "execution_count": 209,
   "outputs": [],
   "source": [
    "classifier = svm.SVC(kernel='linear')"
   ],
   "metadata": {
    "collapsed": false,
    "pycharm": {
     "name": "#%%\n"
    }
   }
  },
  {
   "cell_type": "code",
   "execution_count": 210,
   "outputs": [
    {
     "data": {
      "text/plain": "SVC(kernel='linear')"
     },
     "execution_count": 210,
     "metadata": {},
     "output_type": "execute_result"
    }
   ],
   "source": [
    "#training the support vector machine classifier\n",
    "classifier.fit(X_train, y_train)"
   ],
   "metadata": {
    "collapsed": false,
    "pycharm": {
     "name": "#%%\n"
    }
   }
  },
  {
   "cell_type": "markdown",
   "source": [
    "### Model Evaluation"
   ],
   "metadata": {
    "collapsed": false,
    "pycharm": {
     "name": "#%% md\n"
    }
   }
  },
  {
   "cell_type": "code",
   "execution_count": 211,
   "outputs": [],
   "source": [
    "#accuracy score on the training data\n",
    "X_train_prediction = classifier.predict(X_train)\n",
    "training_data_accuracy = accuracy_score(X_train_prediction, y_train)"
   ],
   "metadata": {
    "collapsed": false,
    "pycharm": {
     "name": "#%%\n"
    }
   }
  },
  {
   "cell_type": "code",
   "execution_count": 215,
   "outputs": [
    {
     "name": "stdout",
     "output_type": "stream",
     "text": [
      "Accuracy score of the training data:  0.8953488372093024\n"
     ]
    }
   ],
   "source": [
    "print('Accuracy score of the training data: ', training_data_accuracy)"
   ],
   "metadata": {
    "collapsed": false,
    "pycharm": {
     "name": "#%%\n"
    }
   }
  },
  {
   "cell_type": "code",
   "execution_count": 216,
   "outputs": [],
   "source": [
    "#accuracy score on the test data\n",
    "X_test_prediction = classifier.predict(X_test)\n",
    "test_data_accuracy = accuracy_score(X_test_prediction, y_test)"
   ],
   "metadata": {
    "collapsed": false,
    "pycharm": {
     "name": "#%%\n"
    }
   }
  },
  {
   "cell_type": "code",
   "execution_count": 217,
   "outputs": [
    {
     "name": "stdout",
     "output_type": "stream",
     "text": [
      "Accuracy score of the test data:  0.8604651162790697\n"
     ]
    }
   ],
   "source": [
    "print('Accuracy score of the test data: ', test_data_accuracy)"
   ],
   "metadata": {
    "collapsed": false,
    "pycharm": {
     "name": "#%%\n"
    }
   }
  },
  {
   "cell_type": "markdown",
   "source": [
    "### Make the Predictive System"
   ],
   "metadata": {
    "collapsed": false,
    "pycharm": {
     "name": "#%% md\n"
    }
   }
  },
  {
   "cell_type": "code",
   "execution_count": 220,
   "outputs": [
    {
     "data": {
      "text/plain": "   ssc_p  hsc_p     hsc_s  degree_p   degree_t  workex  etest_p  mba_p\n0  67.00  91.00  Commerce     58.00   Sci&Tech       0     55.0  58.80\n1  79.33  78.33   Science     77.48   Sci&Tech       1     86.5  66.28\n2  65.00  68.00      Arts     64.00  Comm&Mgmt       0     75.0  57.80\n3  56.00  52.00   Science     52.00   Sci&Tech       0     66.0  59.43\n4  85.80  73.60  Commerce     73.30  Comm&Mgmt       0     96.8  55.50",
      "text/html": "<div>\n<style scoped>\n    .dataframe tbody tr th:only-of-type {\n        vertical-align: middle;\n    }\n\n    .dataframe tbody tr th {\n        vertical-align: top;\n    }\n\n    .dataframe thead th {\n        text-align: right;\n    }\n</style>\n<table border=\"1\" class=\"dataframe\">\n  <thead>\n    <tr style=\"text-align: right;\">\n      <th></th>\n      <th>ssc_p</th>\n      <th>hsc_p</th>\n      <th>hsc_s</th>\n      <th>degree_p</th>\n      <th>degree_t</th>\n      <th>workex</th>\n      <th>etest_p</th>\n      <th>mba_p</th>\n    </tr>\n  </thead>\n  <tbody>\n    <tr>\n      <th>0</th>\n      <td>67.00</td>\n      <td>91.00</td>\n      <td>Commerce</td>\n      <td>58.00</td>\n      <td>Sci&amp;Tech</td>\n      <td>0</td>\n      <td>55.0</td>\n      <td>58.80</td>\n    </tr>\n    <tr>\n      <th>1</th>\n      <td>79.33</td>\n      <td>78.33</td>\n      <td>Science</td>\n      <td>77.48</td>\n      <td>Sci&amp;Tech</td>\n      <td>1</td>\n      <td>86.5</td>\n      <td>66.28</td>\n    </tr>\n    <tr>\n      <th>2</th>\n      <td>65.00</td>\n      <td>68.00</td>\n      <td>Arts</td>\n      <td>64.00</td>\n      <td>Comm&amp;Mgmt</td>\n      <td>0</td>\n      <td>75.0</td>\n      <td>57.80</td>\n    </tr>\n    <tr>\n      <th>3</th>\n      <td>56.00</td>\n      <td>52.00</td>\n      <td>Science</td>\n      <td>52.00</td>\n      <td>Sci&amp;Tech</td>\n      <td>0</td>\n      <td>66.0</td>\n      <td>59.43</td>\n    </tr>\n    <tr>\n      <th>4</th>\n      <td>85.80</td>\n      <td>73.60</td>\n      <td>Commerce</td>\n      <td>73.30</td>\n      <td>Comm&amp;Mgmt</td>\n      <td>0</td>\n      <td>96.8</td>\n      <td>55.50</td>\n    </tr>\n  </tbody>\n</table>\n</div>"
     },
     "execution_count": 220,
     "metadata": {},
     "output_type": "execute_result"
    }
   ],
   "source": [
    "temp_x.head()"
   ],
   "metadata": {
    "collapsed": false,
    "pycharm": {
     "name": "#%%\n"
    }
   }
  },
  {
   "cell_type": "code",
   "execution_count": 222,
   "outputs": [
    {
     "name": "stdout",
     "output_type": "stream",
     "text": [
      "[[-0.83534515 -1.07919568 -2.20253951  1.38036423  0.29440757  0.52438443]]\n",
      "[0]\n",
      "Not Placed\n"
     ]
    }
   ],
   "source": [
    "input_data = (58.28, 54.60, 50.20, 1, 76, 65.33)\n",
    "\n",
    "#changing the input_data to numpy array\n",
    "input_data_as_numpy_array = np.asarray(input_data)\n",
    "\n",
    "#reshape the array as we are predicting for one instance\n",
    "input_data_reshaped = input_data_as_numpy_array.reshape(1, -1)\n",
    "\n",
    "#standardize the input data\n",
    "std_data = scalar.transform(input_data_reshaped)\n",
    "print(std_data)\n",
    "\n",
    "prediction = classifier.predict(std_data)\n",
    "print(prediction)\n",
    "\n",
    "if prediction[0] == 0:\n",
    "    print('Not Placed')\n",
    "else:\n",
    "    print('Placed')"
   ],
   "metadata": {
    "collapsed": false,
    "pycharm": {
     "name": "#%%\n"
    }
   }
  },
  {
   "cell_type": "code",
   "execution_count": 223,
   "outputs": [],
   "source": [
    "def get_prediction(TenthGradePercentage, TwelftGradePercentage, DegreePercentage, WorkExperience, EmployabilityTestPercentage, MBAPercentage):\n",
    "    input_data = (TenthGradePercentage, TwelftGradePercentage, DegreePercentage, WorkExperience, EmployabilityTestPercentage, MBAPercentage)\n",
    "\n",
    "    #changing the input_data to numpy array\n",
    "    input_data_as_numpy_array = np.asarray(input_data)\n",
    "\n",
    "    #reshape the array as we are predicting for one instance\n",
    "    input_data_reshaped = input_data_as_numpy_array.reshape(1, -1)\n",
    "\n",
    "    #standardize the input data\n",
    "    std_data = scalar.transform(input_data_reshaped)\n",
    "    print(std_data)\n",
    "\n",
    "    prediction = classifier.predict(std_data)\n",
    "    print(prediction)\n",
    "\n",
    "    if prediction[0] == 0:\n",
    "        return 'Not Placed'\n",
    "    else:\n",
    "        return 'Placed'"
   ],
   "metadata": {
    "collapsed": false,
    "pycharm": {
     "name": "#%%\n"
    }
   }
  },
  {
   "cell_type": "code",
   "execution_count": 224,
   "outputs": [
    {
     "name": "stdout",
     "output_type": "stream",
     "text": [
      "[[-0.83534515 -1.07919568 -2.20253951  1.38036423  0.29440757  0.52438443]]\n",
      "[0]\n"
     ]
    },
    {
     "data": {
      "text/plain": "'Not Placed'"
     },
     "execution_count": 224,
     "metadata": {},
     "output_type": "execute_result"
    }
   ],
   "source": [
    "get_prediction(58.28, 54.60, 50.20, 1, 76, 65.33)"
   ],
   "metadata": {
    "collapsed": false,
    "pycharm": {
     "name": "#%%\n"
    }
   }
  }
 ],
 "metadata": {
  "kernelspec": {
   "display_name": "Python 3",
   "language": "python",
   "name": "python3"
  },
  "language_info": {
   "codemirror_mode": {
    "name": "ipython",
    "version": 2
   },
   "file_extension": ".py",
   "mimetype": "text/x-python",
   "name": "python",
   "nbconvert_exporter": "python",
   "pygments_lexer": "ipython2",
   "version": "2.7.6"
  }
 },
 "nbformat": 4,
 "nbformat_minor": 0
}