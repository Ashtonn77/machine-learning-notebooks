{
 "cells": [
  {
   "cell_type": "markdown",
   "metadata": {
    "collapsed": true,
    "pycharm": {
     "name": "#%% md\n"
    }
   },
   "source": [
    "# Genetic Algorithms"
   ]
  },
  {
   "cell_type": "markdown",
   "metadata": {
    "pycharm": {
     "name": "#%% md\n"
    }
   },
   "source": [
    "## Evolutionary Algorithms vs. Genetic Algorithms"
   ]
  },
  {
   "cell_type": "markdown",
   "metadata": {
    "pycharm": {
     "name": "#%% md\n"
    }
   },
   "source": [
    "### Evolutionary Algorithms:\n",
    "1. Computational Models of Natural Evolution Processes\n",
    "2. Simulation of Species Evolution\n",
    "3. Survival of the Fittest\n",
    "4. Self Organization, Adaptive Behavior"
   ]
  },
  {
   "cell_type": "markdown",
   "metadata": {
    "pycharm": {
     "name": "#%% md\n"
    }
   },
   "source": [
    "### Genetic Algorithms:\n",
    "1. Branch of Evolutionary Algorithms\n",
    "2. Better and Better Solutions based on the Evolution of Previous Generations\n",
    "\n",
    "<img src=\"genetic_algo.png\">"
   ]
  },
  {
   "cell_type": "markdown",
   "metadata": {
    "pycharm": {
     "name": "#%% md\n"
    }
   },
   "source": [
    "### Individual:\n",
    "1. Individuals represent the solutions\n",
    "2. A set of individuals make up a population\n",
    "3. The chromosome represents a solution: the chromosome is a set of zeros and ones, indicating elements that will be taken and those that will not."
   ]
  },
  {
   "cell_type": "markdown",
   "metadata": {
    "pycharm": {
     "name": "#%% md\n"
    }
   },
   "source": [
    "### Fitness Functions:\n",
    "1. Quality measurement to find out how the chromosome solves the problem\n",
    "2. Whether it is an acceptable solution and can be used for evolution"
   ]
  },
  {
   "cell_type": "markdown",
   "metadata": {
    "pycharm": {
     "name": "#%% md\n"
    }
   },
   "source": [
    "### Crossover:\n",
    "1. It combines pieces of the chromosomes of two parents, generating more fit children\n",
    "2. The population tends to evolve\n",
    "\n",
    "<img src=\"crossover.png\">"
   ]
  },
  {
   "cell_type": "markdown",
   "metadata": {},
   "source": [
    "### Mutation:\n",
    "1. Mutation creates diversity by randomly changing genes of the chromosomes\n",
    "2. It is applied less frequently than crossover\n",
    "3. It changes the genes according to a probability"
   ]
  },
  {
   "cell_type": "markdown",
   "metadata": {
    "pycharm": {
     "name": "#%% md\n"
    }
   },
   "source": [
    "#### Let's look at a maximization problem:\n",
    "1. We have a truck of specific capacity\n",
    "2. We have items with a value and weight\n",
    "3. We need to load the truck with as many products as possible with maximum profit margin\n",
    "\n",
    "<img src=\"business_case.png\">"
   ]
  },
  {
   "cell_type": "markdown",
   "metadata": {
    "pycharm": {
     "name": "#%% md\n"
    }
   },
   "source": [
    "#### Product Class"
   ]
  },
  {
   "cell_type": "code",
   "execution_count": 1,
   "metadata": {
    "pycharm": {
     "name": "#%%\n"
    }
   },
   "outputs": [],
   "source": [
    "class Product():\n",
    "    def __init__(self, name, space, price):\n",
    "        self.name = name\n",
    "        self.space = space\n",
    "        self.price = price"
   ]
  },
  {
   "cell_type": "code",
   "execution_count": 2,
   "metadata": {
    "pycharm": {
     "name": "#%%\n"
    }
   },
   "outputs": [],
   "source": [
    "p1 = Product('Refrigerator A', 0.751, 999.9)"
   ]
  },
  {
   "cell_type": "code",
   "execution_count": 3,
   "metadata": {
    "pycharm": {
     "name": "#%%\n"
    }
   },
   "outputs": [
    {
     "data": {
      "text/plain": [
       "('Refrigerator A', 0.751, 999.9)"
      ]
     },
     "execution_count": 3,
     "metadata": {},
     "output_type": "execute_result"
    }
   ],
   "source": [
    "p1.name, p1.space, p1.price"
   ]
  },
  {
   "cell_type": "code",
   "execution_count": 4,
   "metadata": {
    "pycharm": {
     "name": "#%%\n"
    }
   },
   "outputs": [],
   "source": [
    "p2 = Product('Cell phone', 0.00000899, 2199.12)"
   ]
  },
  {
   "cell_type": "code",
   "execution_count": 5,
   "metadata": {
    "pycharm": {
     "name": "#%%\n"
    }
   },
   "outputs": [
    {
     "data": {
      "text/plain": [
       "('Cell phone', 8.99e-06, 2199.12)"
      ]
     },
     "execution_count": 5,
     "metadata": {},
     "output_type": "execute_result"
    }
   ],
   "source": [
    "p2.name, p2.space, p2.price"
   ]
  },
  {
   "cell_type": "code",
   "execution_count": 6,
   "metadata": {
    "pycharm": {
     "name": "#%%\n"
    }
   },
   "outputs": [],
   "source": [
    "products_list = []\n",
    "products_list.append(Product('Refrigerator A', 0.751, 999.9))\n",
    "products_list.append(Product('Cell phone', 0.00000899, 2199.12))\n",
    "products_list.append(Product('TV 55', 0.400, 4346.99))\n",
    "products_list.append(Product(\"TV 50' \", 0.290, 3999.90))\n",
    "products_list.append(Product(\"TV 42' \", 0.200, 2999.00))\n",
    "products_list.append(Product(\"Notebook A\", 0.00350, 2499.90))\n",
    "products_list.append(Product(\"Ventilator\", 0.496, 199.90))\n",
    "products_list.append(Product(\"Microwave A\", 0.0424, 308.66))\n",
    "products_list.append(Product(\"Microwave B\", 0.0544, 429.90))\n",
    "products_list.append(Product(\"Microwave C\", 0.0319, 299.29))\n",
    "products_list.append(Product(\"Refrigerator B\", 0.635, 849.00))\n",
    "products_list.append(Product(\"Refrigerator C\", 0.870, 1199.89))\n",
    "products_list.append(Product(\"Notebook B\", 0.498, 1999.90))\n",
    "products_list.append(Product(\"Notebook C\", 0.527, 3999.00))"
   ]
  },
  {
   "cell_type": "code",
   "execution_count": 7,
   "metadata": {
    "pycharm": {
     "name": "#%%\n"
    }
   },
   "outputs": [
    {
     "name": "stdout",
     "output_type": "stream",
     "text": [
      "1 Refrigerator A 0.751 999.9\n",
      "2 Cell phone 8.99e-06 2199.12\n",
      "3 TV 55 0.4 4346.99\n",
      "4 TV 50'  0.29 3999.9\n",
      "5 TV 42'  0.2 2999.0\n",
      "6 Notebook A 0.0035 2499.9\n",
      "7 Ventilator 0.496 199.9\n",
      "8 Microwave A 0.0424 308.66\n",
      "9 Microwave B 0.0544 429.9\n",
      "10 Microwave C 0.0319 299.29\n",
      "11 Refrigerator B 0.635 849.0\n",
      "12 Refrigerator C 0.87 1199.89\n",
      "13 Notebook B 0.498 1999.9\n",
      "14 Notebook C 0.527 3999.0\n"
     ]
    }
   ],
   "source": [
    "for i, product in enumerate(products_list):\n",
    "    print(i + 1, product.name, product.space, product.price)"
   ]
  },
  {
   "cell_type": "markdown",
   "metadata": {
    "pycharm": {
     "name": "#%% md\n"
    }
   },
   "source": [
    "#### Individual class"
   ]
  },
  {
   "cell_type": "code",
   "execution_count": 8,
   "metadata": {
    "pycharm": {
     "name": "#%%\n"
    }
   },
   "outputs": [],
   "source": [
    "from random import random"
   ]
  },
  {
   "cell_type": "code",
   "execution_count": 9,
   "metadata": {
    "pycharm": {
     "name": "#%%\n"
    }
   },
   "outputs": [
    {
     "data": {
      "text/plain": [
       "0.15977828187637622"
      ]
     },
     "execution_count": 9,
     "metadata": {},
     "output_type": "execute_result"
    }
   ],
   "source": [
    "random()"
   ]
  },
  {
   "cell_type": "code",
   "execution_count": 10,
   "metadata": {
    "pycharm": {
     "name": "#%%\n"
    }
   },
   "outputs": [],
   "source": [
    "class Individual():\n",
    "    def __init__(self, spaces, prices, space_limit, generation=0):\n",
    "        self.spaces = spaces\n",
    "        self.prices = prices\n",
    "        self.space_limit = space_limit\n",
    "        self.score_evaluation = 0\n",
    "        self.used_space = 0\n",
    "        self.generation = generation\n",
    "        self.chromosome = []\n",
    "\n",
    "        for i in range(len(spaces)):\n",
    "            if random() < 0.5:\n",
    "                self.chromosome.append('0')\n",
    "            else:\n",
    "                self.chromosome.append('1')\n",
    "\n",
    "    def fitness(self):\n",
    "        score = 0\n",
    "        sum_spaces = 0\n",
    "\n",
    "        for i in range(len(self.chromosome)):\n",
    "            if self.chromosome[i] == '1':\n",
    "                score += self.prices[i]\n",
    "                sum_spaces += self.spaces[i]\n",
    "\n",
    "            if sum_spaces > self.space_limit:\n",
    "                score = 1\n",
    "\n",
    "            self.score_evaluation = score\n",
    "            self.used_space = sum_spaces\n",
    "            \n",
    "    def crossover(self, other_individual):\n",
    "        cutoff = round(random() * len(self.chromosome))\n",
    "        #print(cutoff)\n",
    "        \n",
    "        child1 = other_individual.chromosome[0:cutoff] + self.chromosome[cutoff::]\n",
    "        child2 = self.chromosome[0:cutoff] + other_individual.chromosome[cutoff::]\n",
    "        #print(child1)\n",
    "        #print(child2)\n",
    "        \n",
    "        children = [Individual(self.spaces, self.prices, self.space_limit, self.generation + 1),\n",
    "                   Individual(self.spaces, self.prices, self.space_limit, self.generation + 1)]\n",
    "        \n",
    "        children[0].chromosome = child1\n",
    "        children[1].chromosome = child2\n",
    "        \n",
    "        return children\n",
    "    \n",
    "    def mutation(self, rate):\n",
    "        print('Before: ', self.chromosome)\n",
    "        for i in range(len(self.chromosome)):            \n",
    "            if random() < rate:\n",
    "                if self.chromosome[i] == '1':\n",
    "                    self.chromosome[i] == '0'\n",
    "                else:\n",
    "                    self.chromosome[i] = '1'\n",
    "                    \n",
    "        print('After:  ', self.chromosome)\n",
    "        return self"
   ]
  },
  {
   "cell_type": "markdown",
   "metadata": {},
   "source": [
    "### Genetic Algorithm Class"
   ]
  },
  {
   "cell_type": "code",
   "execution_count": 39,
   "metadata": {},
   "outputs": [],
   "source": [
    "class GeneticAlgorithm():\n",
    "    \n",
    "    def __init__(self, population_size):\n",
    "        self.population_size = population_size\n",
    "        self.population = []\n",
    "        self.generation = 0\n",
    "        self.best_solution = None\n",
    "        self.list_of_solutions = []\n",
    "        \n",
    "    def initialize_population(self, spaces, prices, space_limit):\n",
    "        for i in range(self.population_size):\n",
    "            self.population.append(Individual(spaces, prices, space_limit))\n",
    "            \n",
    "        self.best_solution = self.population[0]\n",
    "        \n",
    "    def order_population(self):\n",
    "        self.population = sorted(self.population, key=lambda population:population.score_evaluation, reverse=True)\n",
    "        \n",
    "    def best_individual(self, individual):\n",
    "        if individual.score_evaluation > self.best_solution.score_evaluation:\n",
    "            self.best_solution = individual\n",
    "            \n",
    "    def sum_evaluations(self):\n",
    "        _sum = 0\n",
    "        for individual in self.population:\n",
    "            _sum += individual.score_evaluation\n",
    "        return _sum   \n",
    "    \n",
    "    \n",
    "    def select_parent(self, sum_evaluation):\n",
    "        parent = -1\n",
    "        random_value = random() * sum_evaluation\n",
    "        _sum = 0\n",
    "        i = 0\n",
    "        \n",
    "        #print('*** random value: ', random_value)\n",
    "        while i < len(self.population) and _sum < random_value:\n",
    "            #print('i: ', i, ' - sum: ', _sum)\n",
    "            _sum += self.population[i].score_evaluation\n",
    "            parent += 1\n",
    "            i += 1\n",
    "            \n",
    "        return parent\n",
    "    \n",
    "    def visualize_generation(self):\n",
    "        best = self.population[0]\n",
    "        print('\\nGeneration: ', self.population[0].generation, '\\nTotal price: ', best.score_evaluation,\n",
    "             '\\nSpace: ', best.used_space, '\\nChromosome: ', best.chromosome)"
   ]
  },
  {
   "cell_type": "code",
   "execution_count": 12,
   "metadata": {
    "pycharm": {
     "name": "#%%\n"
    }
   },
   "outputs": [],
   "source": [
    "prices = []\n",
    "names = []\n",
    "spaces = []\n",
    "\n",
    "for product in products_list:\n",
    "    prices.append(product.price)\n",
    "    names.append(product.name)\n",
    "    spaces.append(product.space)\n",
    "limit = 3"
   ]
  },
  {
   "cell_type": "code",
   "execution_count": 13,
   "metadata": {
    "pycharm": {
     "name": "#%%\n"
    }
   },
   "outputs": [
    {
     "name": "stdout",
     "output_type": "stream",
     "text": [
      "[999.9, 2199.12, 4346.99, 3999.9, 2999.0, 2499.9, 199.9, 308.66, 429.9, 299.29, 849.0, 1199.89, 1999.9, 3999.0]\n"
     ]
    }
   ],
   "source": [
    "print(prices)"
   ]
  },
  {
   "cell_type": "code",
   "execution_count": 14,
   "metadata": {
    "pycharm": {
     "name": "#%%\n"
    }
   },
   "outputs": [
    {
     "name": "stdout",
     "output_type": "stream",
     "text": [
      "['Refrigerator A', 'Cell phone', 'TV 55', \"TV 50' \", \"TV 42' \", 'Notebook A', 'Ventilator', 'Microwave A', 'Microwave B', 'Microwave C', 'Refrigerator B', 'Refrigerator C', 'Notebook B', 'Notebook C']\n"
     ]
    }
   ],
   "source": [
    "print(names)"
   ]
  },
  {
   "cell_type": "code",
   "execution_count": 15,
   "metadata": {
    "pycharm": {
     "name": "#%%\n"
    }
   },
   "outputs": [
    {
     "name": "stdout",
     "output_type": "stream",
     "text": [
      "[0.751, 8.99e-06, 0.4, 0.29, 0.2, 0.0035, 0.496, 0.0424, 0.0544, 0.0319, 0.635, 0.87, 0.498, 0.527]\n"
     ]
    }
   ],
   "source": [
    "print(spaces)"
   ]
  },
  {
   "cell_type": "code",
   "execution_count": 16,
   "metadata": {
    "pycharm": {
     "name": "#%%\n"
    }
   },
   "outputs": [
    {
     "name": "stdout",
     "output_type": "stream",
     "text": [
      "Name:  TV 42' \n",
      "Name:  Ventilator\n",
      "Name:  Microwave A\n",
      "Name:  Microwave B\n",
      "Name:  Microwave C\n",
      "Name:  Refrigerator C\n",
      "Name:  Notebook B\n",
      "\n",
      "Score:  7436.540000000001\n",
      "Used space:  2.1927000000000003\n",
      "Chromosome:  ['0', '0', '0', '0', '1', '0', '1', '1', '1', '1', '0', '1', '1', '0']\n"
     ]
    }
   ],
   "source": [
    "individual1 = Individual(spaces, prices, limit)\n",
    "# print('Spaces: ', individual1.spaces)\n",
    "# print('Prices: ', individual1.prices)\n",
    "# print('Chromosome: ', individual1.chromosome)\n",
    "\n",
    "for i in range(len(products_list)):\n",
    "    if individual1.chromosome[i] == '1':\n",
    "        print('Name: ', products_list[i].name)\n",
    "individual1.fitness()\n",
    "\n",
    "print('\\nScore: ', individual1.score_evaluation)\n",
    "print('Used space: ', individual1.used_space)\n",
    "print('Chromosome: ', individual1.chromosome)"
   ]
  },
  {
   "cell_type": "code",
   "execution_count": 17,
   "metadata": {},
   "outputs": [
    {
     "name": "stdout",
     "output_type": "stream",
     "text": [
      "Name:  Refrigerator A\n",
      "Name:  TV 42' \n",
      "Name:  Notebook A\n",
      "Name:  Microwave B\n",
      "Name:  Microwave C\n",
      "Name:  Refrigerator B\n",
      "Name:  Notebook C\n",
      "\n",
      "Score:  12075.99\n",
      "Used space:  2.2028\n",
      "Chromosome:  ['1', '0', '0', '0', '1', '1', '0', '0', '1', '1', '1', '0', '0', '1']\n"
     ]
    }
   ],
   "source": [
    "individual2 = Individual(spaces, prices, limit)\n",
    "# print('Spaces: ', individual2.spaces)\n",
    "# print('Prices: ', individual2.prices)\n",
    "# print('Chromosome: ', individual2.chromosome)\n",
    "\n",
    "for i in range(len(products_list)):\n",
    "    if individual2.chromosome[i] == '1':\n",
    "        print('Name: ', products_list[i].name)\n",
    "individual2.fitness()\n",
    "\n",
    "print('\\nScore: ', individual2.score_evaluation)\n",
    "print('Used space: ', individual2.used_space)\n",
    "print('Chromosome: ', individual2.chromosome)"
   ]
  },
  {
   "cell_type": "code",
   "execution_count": 18,
   "metadata": {},
   "outputs": [],
   "source": [
    "children = individual1.crossover(individual2)"
   ]
  },
  {
   "cell_type": "code",
   "execution_count": 19,
   "metadata": {},
   "outputs": [
    {
     "name": "stdout",
     "output_type": "stream",
     "text": [
      "8436.44\n",
      "['1', '0', '0', '0', '1', '0', '1', '1', '1', '1', '0', '1', '1', '0']\n"
     ]
    }
   ],
   "source": [
    "children[0].fitness()\n",
    "print(children[0].score_evaluation)\n",
    "print(children[0].chromosome)"
   ]
  },
  {
   "cell_type": "code",
   "execution_count": 20,
   "metadata": {},
   "outputs": [
    {
     "name": "stdout",
     "output_type": "stream",
     "text": [
      "11076.09\n",
      "['0', '0', '0', '0', '1', '1', '0', '0', '1', '1', '1', '0', '0', '1']\n"
     ]
    }
   ],
   "source": [
    "children[1].fitness()\n",
    "print(children[1].score_evaluation)\n",
    "print(children[1].chromosome)"
   ]
  },
  {
   "cell_type": "code",
   "execution_count": 21,
   "metadata": {},
   "outputs": [
    {
     "name": "stdout",
     "output_type": "stream",
     "text": [
      "Before:  ['0', '0', '0', '0', '1', '0', '1', '1', '1', '1', '0', '1', '1', '0']\n",
      "After:   ['0', '0', '0', '0', '1', '0', '1', '1', '1', '1', '0', '1', '1', '0']\n"
     ]
    },
    {
     "data": {
      "text/plain": [
       "<__main__.Individual at 0x2544f8aa490>"
      ]
     },
     "execution_count": 21,
     "metadata": {},
     "output_type": "execute_result"
    }
   ],
   "source": [
    "individual1.mutation(0.01)"
   ]
  },
  {
   "cell_type": "code",
   "execution_count": 22,
   "metadata": {},
   "outputs": [],
   "source": [
    "population_size = 20\n",
    "ga = GeneticAlgorithm(population_size)\n",
    "ga.initialize_population(spaces, prices, limit)"
   ]
  },
  {
   "cell_type": "code",
   "execution_count": 23,
   "metadata": {},
   "outputs": [
    {
     "data": {
      "text/plain": [
       "['0', '0', '0', '0', '1', '0', '0', '0', '1', '1', '0', '1', '1', '1']"
      ]
     },
     "execution_count": 23,
     "metadata": {},
     "output_type": "execute_result"
    }
   ],
   "source": [
    "ga.population[3].chromosome"
   ]
  },
  {
   "cell_type": "code",
   "execution_count": 24,
   "metadata": {},
   "outputs": [
    {
     "name": "stdout",
     "output_type": "stream",
     "text": [
      "Individual:  1 \n",
      "Spaces:  [0.751, 8.99e-06, 0.4, 0.29, 0.2, 0.0035, 0.496, 0.0424, 0.0544, 0.0319, 0.635, 0.87, 0.498, 0.527] \n",
      "Prices:  [999.9, 2199.12, 4346.99, 3999.9, 2999.0, 2499.9, 199.9, 308.66, 429.9, 299.29, 849.0, 1199.89, 1999.9, 3999.0] \n",
      "Chromosome:  ['0', '1', '1', '1', '0', '1', '0', '0', '1', '0', '1', '0', '0', '1'] \n",
      "Used Space:  1.90990899 \n",
      "Score:  18323.809999999998 \n",
      "\n",
      "Individual:  2 \n",
      "Spaces:  [0.751, 8.99e-06, 0.4, 0.29, 0.2, 0.0035, 0.496, 0.0424, 0.0544, 0.0319, 0.635, 0.87, 0.498, 0.527] \n",
      "Prices:  [999.9, 2199.12, 4346.99, 3999.9, 2999.0, 2499.9, 199.9, 308.66, 429.9, 299.29, 849.0, 1199.89, 1999.9, 3999.0] \n",
      "Chromosome:  ['1', '1', '1', '1', '1', '1', '0', '1', '1', '1', '0', '0', '0', '0'] \n",
      "Used Space:  1.77320899 \n",
      "Score:  18082.660000000003 \n",
      "\n",
      "Individual:  3 \n",
      "Spaces:  [0.751, 8.99e-06, 0.4, 0.29, 0.2, 0.0035, 0.496, 0.0424, 0.0544, 0.0319, 0.635, 0.87, 0.498, 0.527] \n",
      "Prices:  [999.9, 2199.12, 4346.99, 3999.9, 2999.0, 2499.9, 199.9, 308.66, 429.9, 299.29, 849.0, 1199.89, 1999.9, 3999.0] \n",
      "Chromosome:  ['1', '1', '1', '1', '0', '1', '1', '0', '0', '1', '0', '0', '1', '0'] \n",
      "Used Space:  2.47040899 \n",
      "Score:  16544.9 \n",
      "\n",
      "Individual:  4 \n",
      "Spaces:  [0.751, 8.99e-06, 0.4, 0.29, 0.2, 0.0035, 0.496, 0.0424, 0.0544, 0.0319, 0.635, 0.87, 0.498, 0.527] \n",
      "Prices:  [999.9, 2199.12, 4346.99, 3999.9, 2999.0, 2499.9, 199.9, 308.66, 429.9, 299.29, 849.0, 1199.89, 1999.9, 3999.0] \n",
      "Chromosome:  ['1', '1', '1', '1', '0', '0', '0', '1', '1', '0', '0', '0', '0', '1'] \n",
      "Used Space:  2.06480899 \n",
      "Score:  16283.47 \n",
      "\n",
      "Individual:  5 \n",
      "Spaces:  [0.751, 8.99e-06, 0.4, 0.29, 0.2, 0.0035, 0.496, 0.0424, 0.0544, 0.0319, 0.635, 0.87, 0.498, 0.527] \n",
      "Prices:  [999.9, 2199.12, 4346.99, 3999.9, 2999.0, 2499.9, 199.9, 308.66, 429.9, 299.29, 849.0, 1199.89, 1999.9, 3999.0] \n",
      "Chromosome:  ['1', '0', '0', '1', '1', '1', '0', '0', '0', '1', '1', '0', '0', '1'] \n",
      "Used Space:  2.4384 \n",
      "Score:  15645.990000000002 \n",
      "\n",
      "Individual:  6 \n",
      "Spaces:  [0.751, 8.99e-06, 0.4, 0.29, 0.2, 0.0035, 0.496, 0.0424, 0.0544, 0.0319, 0.635, 0.87, 0.498, 0.527] \n",
      "Prices:  [999.9, 2199.12, 4346.99, 3999.9, 2999.0, 2499.9, 199.9, 308.66, 429.9, 299.29, 849.0, 1199.89, 1999.9, 3999.0] \n",
      "Chromosome:  ['0', '0', '0', '1', '1', '1', '1', '0', '0', '1', '0', '1', '0', '1'] \n",
      "Used Space:  2.4184 \n",
      "Score:  15196.88 \n",
      "\n",
      "Individual:  7 \n",
      "Spaces:  [0.751, 8.99e-06, 0.4, 0.29, 0.2, 0.0035, 0.496, 0.0424, 0.0544, 0.0319, 0.635, 0.87, 0.498, 0.527] \n",
      "Prices:  [999.9, 2199.12, 4346.99, 3999.9, 2999.0, 2499.9, 199.9, 308.66, 429.9, 299.29, 849.0, 1199.89, 1999.9, 3999.0] \n",
      "Chromosome:  ['1', '1', '0', '1', '1', '1', '1', '1', '0', '0', '0', '1', '0', '0'] \n",
      "Used Space:  2.65290899 \n",
      "Score:  14406.269999999999 \n",
      "\n",
      "Individual:  8 \n",
      "Spaces:  [0.751, 8.99e-06, 0.4, 0.29, 0.2, 0.0035, 0.496, 0.0424, 0.0544, 0.0319, 0.635, 0.87, 0.498, 0.527] \n",
      "Prices:  [999.9, 2199.12, 4346.99, 3999.9, 2999.0, 2499.9, 199.9, 308.66, 429.9, 299.29, 849.0, 1199.89, 1999.9, 3999.0] \n",
      "Chromosome:  ['0', '0', '1', '0', '0', '1', '1', '1', '1', '1', '0', '0', '1', '1'] \n",
      "Used Space:  2.0532 \n",
      "Score:  14083.539999999999 \n",
      "\n",
      "Individual:  9 \n",
      "Spaces:  [0.751, 8.99e-06, 0.4, 0.29, 0.2, 0.0035, 0.496, 0.0424, 0.0544, 0.0319, 0.635, 0.87, 0.498, 0.527] \n",
      "Prices:  [999.9, 2199.12, 4346.99, 3999.9, 2999.0, 2499.9, 199.9, 308.66, 429.9, 299.29, 849.0, 1199.89, 1999.9, 3999.0] \n",
      "Chromosome:  ['0', '1', '0', '1', '1', '1', '0', '0', '0', '0', '0', '1', '0', '0'] \n",
      "Used Space:  1.36350899 \n",
      "Score:  12897.81 \n",
      "\n",
      "Individual:  10 \n",
      "Spaces:  [0.751, 8.99e-06, 0.4, 0.29, 0.2, 0.0035, 0.496, 0.0424, 0.0544, 0.0319, 0.635, 0.87, 0.498, 0.527] \n",
      "Prices:  [999.9, 2199.12, 4346.99, 3999.9, 2999.0, 2499.9, 199.9, 308.66, 429.9, 299.29, 849.0, 1199.89, 1999.9, 3999.0] \n",
      "Chromosome:  ['1', '1', '0', '0', '1', '0', '1', '1', '0', '1', '1', '0', '0', '1'] \n",
      "Used Space:  2.6833089900000004 \n",
      "Score:  11853.869999999999 \n",
      "\n",
      "Individual:  11 \n",
      "Spaces:  [0.751, 8.99e-06, 0.4, 0.29, 0.2, 0.0035, 0.496, 0.0424, 0.0544, 0.0319, 0.635, 0.87, 0.498, 0.527] \n",
      "Prices:  [999.9, 2199.12, 4346.99, 3999.9, 2999.0, 2499.9, 199.9, 308.66, 429.9, 299.29, 849.0, 1199.89, 1999.9, 3999.0] \n",
      "Chromosome:  ['0', '0', '0', '1', '0', '1', '1', '0', '1', '1', '1', '1', '1', '0'] \n",
      "Used Space:  2.8788 \n",
      "Score:  11477.679999999998 \n",
      "\n",
      "Individual:  12 \n",
      "Spaces:  [0.751, 8.99e-06, 0.4, 0.29, 0.2, 0.0035, 0.496, 0.0424, 0.0544, 0.0319, 0.635, 0.87, 0.498, 0.527] \n",
      "Prices:  [999.9, 2199.12, 4346.99, 3999.9, 2999.0, 2499.9, 199.9, 308.66, 429.9, 299.29, 849.0, 1199.89, 1999.9, 3999.0] \n",
      "Chromosome:  ['0', '0', '0', '0', '1', '0', '0', '0', '1', '1', '0', '1', '1', '1'] \n",
      "Used Space:  2.1813 \n",
      "Score:  10926.98 \n",
      "\n",
      "Individual:  13 \n",
      "Spaces:  [0.751, 8.99e-06, 0.4, 0.29, 0.2, 0.0035, 0.496, 0.0424, 0.0544, 0.0319, 0.635, 0.87, 0.498, 0.527] \n",
      "Prices:  [999.9, 2199.12, 4346.99, 3999.9, 2999.0, 2499.9, 199.9, 308.66, 429.9, 299.29, 849.0, 1199.89, 1999.9, 3999.0] \n",
      "Chromosome:  ['1', '1', '0', '0', '0', '0', '0', '0', '1', '0', '0', '1', '1', '1'] \n",
      "Used Space:  2.70040899 \n",
      "Score:  10827.710000000001 \n",
      "\n",
      "Individual:  14 \n",
      "Spaces:  [0.751, 8.99e-06, 0.4, 0.29, 0.2, 0.0035, 0.496, 0.0424, 0.0544, 0.0319, 0.635, 0.87, 0.498, 0.527] \n",
      "Prices:  [999.9, 2199.12, 4346.99, 3999.9, 2999.0, 2499.9, 199.9, 308.66, 429.9, 299.29, 849.0, 1199.89, 1999.9, 3999.0] \n",
      "Chromosome:  ['0', '0', '1', '0', '1', '0', '0', '1', '1', '1', '1', '1', '0', '0'] \n",
      "Used Space:  2.2337000000000002 \n",
      "Score:  10432.73 \n",
      "\n",
      "Individual:  15 \n",
      "Spaces:  [0.751, 8.99e-06, 0.4, 0.29, 0.2, 0.0035, 0.496, 0.0424, 0.0544, 0.0319, 0.635, 0.87, 0.498, 0.527] \n",
      "Prices:  [999.9, 2199.12, 4346.99, 3999.9, 2999.0, 2499.9, 199.9, 308.66, 429.9, 299.29, 849.0, 1199.89, 1999.9, 3999.0] \n",
      "Chromosome:  ['0', '1', '0', '0', '1', '0', '0', '1', '1', '0', '1', '1', '1', '0'] \n",
      "Used Space:  2.29980899 \n",
      "Score:  9985.47 \n",
      "\n",
      "Individual:  16 \n",
      "Spaces:  [0.751, 8.99e-06, 0.4, 0.29, 0.2, 0.0035, 0.496, 0.0424, 0.0544, 0.0319, 0.635, 0.87, 0.498, 0.527] \n",
      "Prices:  [999.9, 2199.12, 4346.99, 3999.9, 2999.0, 2499.9, 199.9, 308.66, 429.9, 299.29, 849.0, 1199.89, 1999.9, 3999.0] \n",
      "Chromosome:  ['0', '1', '0', '0', '1', '0', '0', '1', '0', '0', '1', '1', '1', '0'] \n",
      "Used Space:  2.2454089899999996 \n",
      "Score:  9555.57 \n",
      "\n",
      "Individual:  17 \n",
      "Spaces:  [0.751, 8.99e-06, 0.4, 0.29, 0.2, 0.0035, 0.496, 0.0424, 0.0544, 0.0319, 0.635, 0.87, 0.498, 0.527] \n",
      "Prices:  [999.9, 2199.12, 4346.99, 3999.9, 2999.0, 2499.9, 199.9, 308.66, 429.9, 299.29, 849.0, 1199.89, 1999.9, 3999.0] \n",
      "Chromosome:  ['1', '0', '1', '0', '0', '1', '0', '1', '1', '1', '1', '1', '1', '1'] \n",
      "Used Space:  3.8132 \n",
      "Score:  1 \n",
      "\n",
      "Individual:  18 \n",
      "Spaces:  [0.751, 8.99e-06, 0.4, 0.29, 0.2, 0.0035, 0.496, 0.0424, 0.0544, 0.0319, 0.635, 0.87, 0.498, 0.527] \n",
      "Prices:  [999.9, 2199.12, 4346.99, 3999.9, 2999.0, 2499.9, 199.9, 308.66, 429.9, 299.29, 849.0, 1199.89, 1999.9, 3999.0] \n",
      "Chromosome:  ['1', '0', '1', '1', '0', '1', '1', '1', '1', '1', '0', '0', '1', '1'] \n",
      "Used Space:  3.0942 \n",
      "Score:  1 \n",
      "\n",
      "Individual:  19 \n",
      "Spaces:  [0.751, 8.99e-06, 0.4, 0.29, 0.2, 0.0035, 0.496, 0.0424, 0.0544, 0.0319, 0.635, 0.87, 0.498, 0.527] \n",
      "Prices:  [999.9, 2199.12, 4346.99, 3999.9, 2999.0, 2499.9, 199.9, 308.66, 429.9, 299.29, 849.0, 1199.89, 1999.9, 3999.0] \n",
      "Chromosome:  ['1', '0', '1', '0', '0', '0', '1', '0', '1', '0', '1', '1', '0', '0'] \n",
      "Used Space:  3.2064000000000004 \n",
      "Score:  1 \n",
      "\n",
      "Individual:  20 \n",
      "Spaces:  [0.751, 8.99e-06, 0.4, 0.29, 0.2, 0.0035, 0.496, 0.0424, 0.0544, 0.0319, 0.635, 0.87, 0.498, 0.527] \n",
      "Prices:  [999.9, 2199.12, 4346.99, 3999.9, 2999.0, 2499.9, 199.9, 308.66, 429.9, 299.29, 849.0, 1199.89, 1999.9, 3999.0] \n",
      "Chromosome:  ['1', '0', '1', '0', '0', '1', '0', '0', '0', '1', '0', '1', '1', '1'] \n",
      "Used Space:  3.0814000000000004 \n",
      "Score:  1 \n",
      "\n"
     ]
    }
   ],
   "source": [
    "for individual in ga.population:\n",
    "    individual.fitness()\n",
    "ga.order_population()    \n",
    "for i in range(ga.population_size):\n",
    "    print('Individual: ', (i + 1), '\\nSpaces: ', ga.population[i].spaces, '\\nPrices: ', \n",
    "          ga.population[i].prices, '\\nChromosome: ', ga.population[i].chromosome, '\\nUsed Space: ', \n",
    "          ga.population[i].used_space,'\\nScore: ', ga.population[i].score_evaluation, '\\n')"
   ]
  },
  {
   "cell_type": "code",
   "execution_count": 25,
   "metadata": {},
   "outputs": [
    {
     "data": {
      "text/plain": [
       "16283.47"
      ]
     },
     "execution_count": 25,
     "metadata": {},
     "output_type": "execute_result"
    }
   ],
   "source": [
    "ga.best_solution.score_evaluation"
   ]
  },
  {
   "cell_type": "code",
   "execution_count": 26,
   "metadata": {},
   "outputs": [
    {
     "data": {
      "text/plain": [
       "18323.809999999998"
      ]
     },
     "execution_count": 26,
     "metadata": {},
     "output_type": "execute_result"
    }
   ],
   "source": [
    "ga.population[0].score_evaluation"
   ]
  },
  {
   "cell_type": "code",
   "execution_count": 27,
   "metadata": {},
   "outputs": [],
   "source": [
    "ga.best_individual(ga.population[0])"
   ]
  },
  {
   "cell_type": "code",
   "execution_count": 28,
   "metadata": {},
   "outputs": [
    {
     "data": {
      "text/plain": [
       "18323.809999999998"
      ]
     },
     "execution_count": 28,
     "metadata": {},
     "output_type": "execute_result"
    }
   ],
   "source": [
    "ga.best_solution.score_evaluation"
   ]
  },
  {
   "cell_type": "code",
   "execution_count": 29,
   "metadata": {},
   "outputs": [
    {
     "name": "stdout",
     "output_type": "stream",
     "text": [
      "Sum of Evaluations:  216529.34000000003\n"
     ]
    }
   ],
   "source": [
    "_sum = ga.sum_evaluations()\n",
    "print('Sum of Evaluations: ', _sum)"
   ]
  },
  {
   "cell_type": "code",
   "execution_count": 30,
   "metadata": {},
   "outputs": [
    {
     "data": {
      "text/plain": [
       "3"
      ]
     },
     "execution_count": 30,
     "metadata": {},
     "output_type": "execute_result"
    }
   ],
   "source": [
    "parent_1 = ga.select_parent(_sum)\n",
    "parent_1"
   ]
  },
  {
   "cell_type": "code",
   "execution_count": 37,
   "metadata": {},
   "outputs": [
    {
     "name": "stdout",
     "output_type": "stream",
     "text": [
      "\n",
      " 14 1\n",
      "parent 1:  ['0', '1', '0', '0', '1', '0', '0', '1', '1', '0', '1', '1', '1', '0']\n",
      "parent 2:  ['1', '1', '1', '1', '1', '1', '0', '1', '1', '1', '0', '0', '0', '0']\n",
      " child 1:  ['1', '1', '1', '1', '1', '0', '0', '1', '1', '0', '1', '1', '1', '0']\n",
      " child 2:  ['0', '1', '0', '0', '1', '1', '0', '1', '1', '1', '0', '0', '0', '0']\n",
      "Before:  ['1', '1', '1', '1', '1', '0', '0', '1', '1', '0', '1', '1', '1', '0']\n",
      "After:   ['1', '1', '1', '1', '1', '0', '0', '1', '1', '0', '1', '1', '1', '0']\n",
      "Before:  ['0', '1', '0', '0', '1', '1', '0', '1', '1', '1', '0', '0', '0', '0']\n",
      "After:   ['0', '1', '0', '0', '1', '1', '0', '1', '1', '1', '0', '0', '0', '0']\n",
      "\n",
      " 1 4\n",
      "parent 1:  ['1', '1', '1', '1', '1', '1', '0', '1', '1', '1', '0', '0', '0', '0']\n",
      "parent 2:  ['1', '0', '0', '1', '1', '1', '0', '0', '0', '1', '1', '0', '0', '1']\n",
      " child 1:  ['1', '0', '0', '1', '1', '1', '0', '0', '0', '1', '0', '0', '0', '0']\n",
      " child 2:  ['1', '1', '1', '1', '1', '1', '0', '1', '1', '1', '1', '0', '0', '1']\n",
      "Before:  ['1', '0', '0', '1', '1', '1', '0', '0', '0', '1', '0', '0', '0', '0']\n",
      "After:   ['1', '0', '0', '1', '1', '1', '0', '0', '0', '1', '0', '0', '0', '0']\n",
      "Before:  ['1', '1', '1', '1', '1', '1', '0', '1', '1', '1', '1', '0', '0', '1']\n",
      "After:   ['1', '1', '1', '1', '1', '1', '0', '1', '1', '1', '1', '0', '1', '1']\n",
      "\n",
      " 2 8\n",
      "parent 1:  ['1', '1', '1', '1', '0', '1', '1', '0', '0', '1', '0', '0', '1', '0']\n",
      "parent 2:  ['0', '1', '0', '1', '1', '1', '0', '0', '0', '0', '0', '1', '0', '0']\n",
      " child 1:  ['0', '1', '0', '1', '1', '1', '0', '0', '0', '0', '0', '0', '1', '0']\n",
      " child 2:  ['1', '1', '1', '1', '0', '1', '1', '0', '0', '1', '0', '1', '0', '0']\n",
      "Before:  ['0', '1', '0', '1', '1', '1', '0', '0', '0', '0', '0', '0', '1', '0']\n",
      "After:   ['0', '1', '0', '1', '1', '1', '0', '0', '0', '0', '0', '0', '1', '0']\n",
      "Before:  ['1', '1', '1', '1', '0', '1', '1', '0', '0', '1', '0', '1', '0', '0']\n",
      "After:   ['1', '1', '1', '1', '0', '1', '1', '0', '0', '1', '0', '1', '0', '0']\n",
      "\n",
      " 3 12\n",
      "parent 1:  ['1', '1', '1', '1', '0', '0', '0', '1', '1', '0', '0', '0', '0', '1']\n",
      "parent 2:  ['1', '1', '0', '0', '0', '0', '0', '0', '1', '0', '0', '1', '1', '1']\n",
      " child 1:  ['1', '1', '0', '0', '0', '0', '0', '1', '1', '0', '0', '0', '0', '1']\n",
      " child 2:  ['1', '1', '1', '1', '0', '0', '0', '0', '1', '0', '0', '1', '1', '1']\n",
      "Before:  ['1', '1', '0', '0', '0', '0', '0', '1', '1', '0', '0', '0', '0', '1']\n",
      "After:   ['1', '1', '0', '0', '0', '0', '0', '1', '1', '0', '0', '0', '0', '1']\n",
      "Before:  ['1', '1', '1', '1', '0', '0', '0', '0', '1', '0', '0', '1', '1', '1']\n",
      "After:   ['1', '1', '1', '1', '0', '0', '0', '0', '1', '0', '0', '1', '1', '1']\n",
      "\n",
      " 6 11\n",
      "parent 1:  ['1', '1', '0', '1', '1', '1', '1', '1', '0', '0', '0', '1', '0', '0']\n",
      "parent 2:  ['0', '0', '0', '0', '1', '0', '0', '0', '1', '1', '0', '1', '1', '1']\n",
      " child 1:  ['0', '0', '0', '0', '1', '0', '1', '1', '0', '0', '0', '1', '0', '0']\n",
      " child 2:  ['1', '1', '0', '1', '1', '1', '0', '0', '1', '1', '0', '1', '1', '1']\n",
      "Before:  ['0', '0', '0', '0', '1', '0', '1', '1', '0', '0', '0', '1', '0', '0']\n",
      "After:   ['0', '0', '0', '0', '1', '0', '1', '1', '0', '0', '0', '1', '0', '0']\n",
      "Before:  ['1', '1', '0', '1', '1', '1', '0', '0', '1', '1', '0', '1', '1', '1']\n",
      "After:   ['1', '1', '0', '1', '1', '1', '0', '0', '1', '1', '0', '1', '1', '1']\n",
      "\n",
      " 5 6\n",
      "parent 1:  ['0', '0', '0', '1', '1', '1', '1', '0', '0', '1', '0', '1', '0', '1']\n",
      "parent 2:  ['1', '1', '0', '1', '1', '1', '1', '1', '0', '0', '0', '1', '0', '0']\n",
      " child 1:  ['1', '1', '0', '1', '1', '1', '1', '1', '0', '1', '0', '1', '0', '1']\n",
      " child 2:  ['0', '0', '0', '1', '1', '1', '1', '0', '0', '0', '0', '1', '0', '0']\n",
      "Before:  ['1', '1', '0', '1', '1', '1', '1', '1', '0', '1', '0', '1', '0', '1']\n",
      "After:   ['1', '1', '0', '1', '1', '1', '1', '1', '0', '1', '0', '1', '0', '1']\n",
      "Before:  ['0', '0', '0', '1', '1', '1', '1', '0', '0', '0', '0', '1', '0', '0']\n",
      "After:   ['0', '0', '0', '1', '1', '1', '1', '0', '0', '0', '0', '1', '0', '0']\n",
      "\n",
      " 6 11\n",
      "parent 1:  ['1', '1', '0', '1', '1', '1', '1', '1', '0', '0', '0', '1', '0', '0']\n",
      "parent 2:  ['0', '0', '0', '0', '1', '0', '0', '0', '1', '1', '0', '1', '1', '1']\n",
      " child 1:  ['0', '0', '0', '0', '1', '0', '0', '0', '1', '1', '0', '1', '0', '0']\n",
      " child 2:  ['1', '1', '0', '1', '1', '1', '1', '1', '0', '0', '0', '1', '1', '1']\n",
      "Before:  ['0', '0', '0', '0', '1', '0', '0', '0', '1', '1', '0', '1', '0', '0']\n",
      "After:   ['0', '0', '0', '0', '1', '0', '0', '0', '1', '1', '0', '1', '0', '0']\n",
      "Before:  ['1', '1', '0', '1', '1', '1', '1', '1', '0', '0', '0', '1', '1', '1']\n",
      "After:   ['1', '1', '0', '1', '1', '1', '1', '1', '0', '0', '0', '1', '1', '1']\n",
      "\n",
      " 10 1\n",
      "parent 1:  ['0', '0', '0', '1', '0', '1', '1', '0', '1', '1', '1', '1', '1', '0']\n",
      "parent 2:  ['1', '1', '1', '1', '1', '1', '0', '1', '1', '1', '0', '0', '0', '0']\n",
      " child 1:  ['1', '1', '1', '1', '1', '1', '1', '0', '1', '1', '1', '1', '1', '0']\n",
      " child 2:  ['0', '0', '0', '1', '0', '1', '0', '1', '1', '1', '0', '0', '0', '0']\n",
      "Before:  ['1', '1', '1', '1', '1', '1', '1', '0', '1', '1', '1', '1', '1', '0']\n",
      "After:   ['1', '1', '1', '1', '1', '1', '1', '0', '1', '1', '1', '1', '1', '0']\n",
      "Before:  ['0', '0', '0', '1', '0', '1', '0', '1', '1', '1', '0', '0', '0', '0']\n",
      "After:   ['0', '0', '0', '1', '0', '1', '0', '1', '1', '1', '0', '0', '0', '0']\n",
      "\n",
      " 0 4\n",
      "parent 1:  ['0', '1', '1', '1', '0', '1', '0', '0', '1', '0', '1', '0', '0', '1']\n",
      "parent 2:  ['1', '0', '0', '1', '1', '1', '0', '0', '0', '1', '1', '0', '0', '1']\n",
      " child 1:  ['1', '1', '1', '1', '0', '1', '0', '0', '1', '0', '1', '0', '0', '1']\n",
      " child 2:  ['0', '0', '0', '1', '1', '1', '0', '0', '0', '1', '1', '0', '0', '1']\n",
      "Before:  ['1', '1', '1', '1', '0', '1', '0', '0', '1', '0', '1', '0', '0', '1']\n",
      "After:   ['1', '1', '1', '1', '0', '1', '1', '0', '1', '0', '1', '0', '0', '1']\n",
      "Before:  ['0', '0', '0', '1', '1', '1', '0', '0', '0', '1', '1', '0', '0', '1']\n",
      "After:   ['0', '0', '0', '1', '1', '1', '0', '0', '0', '1', '1', '0', '0', '1']\n",
      "\n",
      " 10 11\n",
      "parent 1:  ['0', '0', '0', '1', '0', '1', '1', '0', '1', '1', '1', '1', '1', '0']\n",
      "parent 2:  ['0', '0', '0', '0', '1', '0', '0', '0', '1', '1', '0', '1', '1', '1']\n",
      " child 1:  ['0', '0', '0', '1', '0', '1', '1', '0', '1', '1', '1', '1', '1', '0']\n",
      " child 2:  ['0', '0', '0', '0', '1', '0', '0', '0', '1', '1', '0', '1', '1', '1']\n",
      "Before:  ['0', '0', '0', '1', '0', '1', '1', '0', '1', '1', '1', '1', '1', '0']\n",
      "After:   ['0', '0', '0', '1', '0', '1', '1', '0', '1', '1', '1', '1', '1', '0']\n",
      "Before:  ['0', '0', '0', '0', '1', '0', '0', '0', '1', '1', '0', '1', '1', '1']\n",
      "After:   ['0', '0', '0', '0', '1', '0', '0', '0', '1', '1', '0', '1', '1', '1']\n"
     ]
    }
   ],
   "source": [
    "new_population = []\n",
    "mutation_probability = 0.01\n",
    "for individual in range(0, ga.population_size, 2):\n",
    "    parent1 = ga.select_parent(_sum)\n",
    "    parent2 = ga.select_parent(_sum)\n",
    "    print('\\n', parent1, parent2)\n",
    "    children = ga.population[parent1].crossover(ga.population[parent2])\n",
    "    print('parent 1: ', ga.population[parent1].chromosome)\n",
    "    print('parent 2: ', ga.population[parent2].chromosome)\n",
    "    print(' child 1: ', children[0].chromosome)\n",
    "    print(' child 2: ', children[1].chromosome)\n",
    "    \n",
    "    new_population.append(children[0].mutation(mutation_probability))\n",
    "    new_population.append(children[1].mutation(mutation_probability))"
   ]
  },
  {
   "cell_type": "code",
   "execution_count": 41,
   "metadata": {},
   "outputs": [
    {
     "ename": "AttributeError",
     "evalue": "'GeneticAlgorithm' object has no attribute 'visualize_generation'",
     "output_type": "error",
     "traceback": [
      "\u001b[1;31m---------------------------------------------------------------------------\u001b[0m",
      "\u001b[1;31mAttributeError\u001b[0m                            Traceback (most recent call last)",
      "\u001b[1;32m<ipython-input-41-7c13a578e1ea>\u001b[0m in \u001b[0;36m<module>\u001b[1;34m\u001b[0m\n\u001b[1;32m----> 1\u001b[1;33m \u001b[0mga\u001b[0m\u001b[1;33m.\u001b[0m\u001b[0mvisualize_generation\u001b[0m\u001b[1;33m(\u001b[0m\u001b[1;33m)\u001b[0m\u001b[1;33m\u001b[0m\u001b[1;33m\u001b[0m\u001b[0m\n\u001b[0m",
      "\u001b[1;31mAttributeError\u001b[0m: 'GeneticAlgorithm' object has no attribute 'visualize_generation'"
     ]
    }
   ],
   "source": [
    "ga.visualize_generation()"
   ]
  }
 ],
 "metadata": {
  "kernelspec": {
   "display_name": "Python 3",
   "language": "python",
   "name": "python3"
  },
  "language_info": {
   "codemirror_mode": {
    "name": "ipython",
    "version": 3
   },
   "file_extension": ".py",
   "mimetype": "text/x-python",
   "name": "python",
   "nbconvert_exporter": "python",
   "pygments_lexer": "ipython3",
   "version": "3.8.8"
  }
 },
 "nbformat": 4,
 "nbformat_minor": 1
}
