{
 "cells": [
  {
   "cell_type": "markdown",
   "metadata": {
    "collapsed": true,
    "pycharm": {
     "name": "#%% md\n"
    }
   },
   "source": [
    "# Genetic Algorithms"
   ]
  },
  {
   "cell_type": "markdown",
   "metadata": {
    "pycharm": {
     "name": "#%% md\n"
    }
   },
   "source": [
    "## Evolutionary Algorithms vs. Genetic Algorithms"
   ]
  },
  {
   "cell_type": "markdown",
   "metadata": {
    "pycharm": {
     "name": "#%% md\n"
    }
   },
   "source": [
    "### Evolutionary Algorithms:\n",
    "1. Computational Models of Natural Evolution Processes\n",
    "2. Simulation of Species Evolution\n",
    "3. Survival of the Fittest\n",
    "4. Self Organization, Adaptive Behavior"
   ]
  },
  {
   "cell_type": "markdown",
   "metadata": {
    "pycharm": {
     "name": "#%% md\n"
    }
   },
   "source": [
    "### Genetic Algorithms:\n",
    "1. Branch of Evolutionary Algorithms\n",
    "2. Better and Better Solutions based on the Evolution of Previous Generations\n",
    "\n",
    "<img src=\"genetic_algo.png\">"
   ]
  },
  {
   "cell_type": "markdown",
   "metadata": {
    "pycharm": {
     "name": "#%% md\n"
    }
   },
   "source": [
    "### Individual:\n",
    "1. Individuals represent the solutions\n",
    "2. A set of individuals make up a population\n",
    "3. The chromosome represents a solution: the chromosome is a set of zeros and ones, indicating elements that will be taken and those that will not."
   ]
  },
  {
   "cell_type": "markdown",
   "metadata": {
    "pycharm": {
     "name": "#%% md\n"
    }
   },
   "source": [
    "### Fitness Functions:\n",
    "1. Quality measurement to find out how the chromosome solves the problem\n",
    "2. Whether it is an acceptable solution and can be used for evolution"
   ]
  },
  {
   "cell_type": "markdown",
   "metadata": {
    "pycharm": {
     "name": "#%% md\n"
    }
   },
   "source": [
    "### Crossover:\n",
    "1. It combines pieces of the chromosomes of two parents, generating more fit children\n",
    "2. The population tends to evolve\n",
    "\n",
    "<img src=\"crossover.png\">"
   ]
  },
  {
   "cell_type": "markdown",
   "metadata": {},
   "source": [
    "### Mutation:\n",
    "1. Mutation creates diversity by randomly changing genes of the chromosomes\n",
    "2. It is applied less frequently than crossover\n",
    "3. It changes the genes according to a probability"
   ]
  },
  {
   "cell_type": "markdown",
   "metadata": {
    "pycharm": {
     "name": "#%% md\n"
    }
   },
   "source": [
    "#### Let's look at a maximization problem:\n",
    "1. We have a truck of specific capacity\n",
    "2. We have items with a value and weight\n",
    "3. We need to load the truck with as many products as possible with maximum profit margin\n",
    "\n",
    "<img src=\"business_case.png\">"
   ]
  },
  {
   "cell_type": "markdown",
   "metadata": {
    "pycharm": {
     "name": "#%% md\n"
    }
   },
   "source": [
    "#### Product Class"
   ]
  },
  {
   "cell_type": "code",
   "execution_count": 36,
   "metadata": {
    "pycharm": {
     "name": "#%%\n"
    }
   },
   "outputs": [],
   "source": [
    "class Product():\n",
    "    def __init__(self, name, space, price):\n",
    "        self.name = name\n",
    "        self.space = space\n",
    "        self.price = price"
   ]
  },
  {
   "cell_type": "code",
   "execution_count": 37,
   "metadata": {
    "pycharm": {
     "name": "#%%\n"
    }
   },
   "outputs": [],
   "source": [
    "p1 = Product('Refrigerator A', 0.751, 999.9)"
   ]
  },
  {
   "cell_type": "code",
   "execution_count": 38,
   "metadata": {
    "pycharm": {
     "name": "#%%\n"
    }
   },
   "outputs": [
    {
     "data": {
      "text/plain": [
       "('Refrigerator A', 0.751, 999.9)"
      ]
     },
     "execution_count": 38,
     "metadata": {},
     "output_type": "execute_result"
    }
   ],
   "source": [
    "p1.name, p1.space, p1.price"
   ]
  },
  {
   "cell_type": "code",
   "execution_count": 39,
   "metadata": {
    "pycharm": {
     "name": "#%%\n"
    }
   },
   "outputs": [],
   "source": [
    "p2 = Product('Cell phone', 0.00000899, 2199.12)"
   ]
  },
  {
   "cell_type": "code",
   "execution_count": 40,
   "metadata": {
    "pycharm": {
     "name": "#%%\n"
    }
   },
   "outputs": [
    {
     "data": {
      "text/plain": [
       "('Cell phone', 8.99e-06, 2199.12)"
      ]
     },
     "execution_count": 40,
     "metadata": {},
     "output_type": "execute_result"
    }
   ],
   "source": [
    "p2.name, p2.space, p2.price"
   ]
  },
  {
   "cell_type": "code",
   "execution_count": 41,
   "metadata": {
    "pycharm": {
     "name": "#%%\n"
    }
   },
   "outputs": [],
   "source": [
    "products_list = []\n",
    "products_list.append(Product('Refrigerator A', 0.751, 999.9))\n",
    "products_list.append(Product('Cell phone', 0.00000899, 2199.12))\n",
    "products_list.append(Product('TV 55', 0.400, 4346.99))\n",
    "products_list.append(Product(\"TV 50' \", 0.290, 3999.90))\n",
    "products_list.append(Product(\"TV 42' \", 0.200, 2999.00))\n",
    "products_list.append(Product(\"Notebook A\", 0.00350, 2499.90))\n",
    "products_list.append(Product(\"Ventilator\", 0.496, 199.90))\n",
    "products_list.append(Product(\"Microwave A\", 0.0424, 308.66))\n",
    "products_list.append(Product(\"Microwave B\", 0.0544, 429.90))\n",
    "products_list.append(Product(\"Microwave C\", 0.0319, 299.29))\n",
    "products_list.append(Product(\"Refrigerator B\", 0.635, 849.00))\n",
    "products_list.append(Product(\"Refrigerator C\", 0.870, 1199.89))\n",
    "products_list.append(Product(\"Notebook B\", 0.498, 1999.90))\n",
    "products_list.append(Product(\"Notebook C\", 0.527, 3999.00))"
   ]
  },
  {
   "cell_type": "code",
   "execution_count": 42,
   "metadata": {
    "pycharm": {
     "name": "#%%\n"
    }
   },
   "outputs": [
    {
     "name": "stdout",
     "output_type": "stream",
     "text": [
      "1 Refrigerator A 0.751 999.9\n",
      "2 Cell phone 8.99e-06 2199.12\n",
      "3 TV 55 0.4 4346.99\n",
      "4 TV 50'  0.29 3999.9\n",
      "5 TV 42'  0.2 2999.0\n",
      "6 Notebook A 0.0035 2499.9\n",
      "7 Ventilator 0.496 199.9\n",
      "8 Microwave A 0.0424 308.66\n",
      "9 Microwave B 0.0544 429.9\n",
      "10 Microwave C 0.0319 299.29\n",
      "11 Refrigerator B 0.635 849.0\n",
      "12 Refrigerator C 0.87 1199.89\n",
      "13 Notebook B 0.498 1999.9\n",
      "14 Notebook C 0.527 3999.0\n"
     ]
    }
   ],
   "source": [
    "for i, product in enumerate(products_list):\n",
    "    print(i + 1, product.name, product.space, product.price)"
   ]
  },
  {
   "cell_type": "markdown",
   "metadata": {
    "pycharm": {
     "name": "#%% md\n"
    }
   },
   "source": [
    "#### Individual class"
   ]
  },
  {
   "cell_type": "code",
   "execution_count": 43,
   "metadata": {
    "pycharm": {
     "name": "#%%\n"
    }
   },
   "outputs": [],
   "source": [
    "from random import random"
   ]
  },
  {
   "cell_type": "code",
   "execution_count": 44,
   "metadata": {
    "pycharm": {
     "name": "#%%\n"
    }
   },
   "outputs": [
    {
     "data": {
      "text/plain": [
       "0.32000290040612367"
      ]
     },
     "execution_count": 44,
     "metadata": {},
     "output_type": "execute_result"
    }
   ],
   "source": [
    "random()"
   ]
  },
  {
   "cell_type": "code",
   "execution_count": 45,
   "metadata": {
    "pycharm": {
     "name": "#%%\n"
    }
   },
   "outputs": [],
   "source": [
    "class Individual():\n",
    "    def __init__(self, spaces, prices, space_limit, generation=0):\n",
    "        self.spaces = spaces\n",
    "        self.prices = prices\n",
    "        self.space_limit = space_limit\n",
    "        self.score_evaluation = 0\n",
    "        self.used_space = 0\n",
    "        self.generation = generation\n",
    "        self.chromosome = []\n",
    "\n",
    "        for i in range(len(spaces)):\n",
    "            if random() < 0.5:\n",
    "                self.chromosome.append('0')\n",
    "            else:\n",
    "                self.chromosome.append('1')\n",
    "\n",
    "    def fitness(self):\n",
    "        score = 0\n",
    "        sum_spaces = 0\n",
    "\n",
    "        for i in range(len(self.chromosome)):\n",
    "            if self.chromosome[i] == '1':\n",
    "                score += self.prices[i]\n",
    "                sum_spaces += self.spaces[i]\n",
    "\n",
    "            if sum_spaces > self.space_limit:\n",
    "                score = 1\n",
    "\n",
    "            self.score_evaluation = score\n",
    "            self.used_space = sum_spaces\n",
    "            \n",
    "    def crossover(self, other_individual):\n",
    "        cutoff = round(random() * len(self.chromosome))\n",
    "        #print(cutoff)\n",
    "        \n",
    "        child1 = other_individual.chromosome[0:cutoff] + self.chromosome[cutoff::]\n",
    "        child2 = self.chromosome[0:cutoff] + other_individual.chromosome[cutoff::]\n",
    "        #print(child1)\n",
    "        #print(child2)\n",
    "        \n",
    "        children = [Individual(self.spaces, self.prices, self.space_limit, self.generation + 1),\n",
    "                   Individual(self.spaces, self.prices, self.space_limit, self.generation + 1)]\n",
    "        \n",
    "        children[0].chromosome = child1\n",
    "        children[1].chromosome = child2\n",
    "        \n",
    "        return children\n",
    "    \n",
    "    def mutation(self, rate):\n",
    "        #print('Before: ', self.chromosome)\n",
    "        for i in range(len(self.chromosome)):            \n",
    "            if random() < rate:\n",
    "                if self.chromosome[i] == '1':\n",
    "                    self.chromosome[i] == '0'\n",
    "                else:\n",
    "                    self.chromosome[i] = '1'\n",
    "                    \n",
    "        #print('After:  ', self.chromosome)\n",
    "        return self"
   ]
  },
  {
   "cell_type": "markdown",
   "metadata": {},
   "source": [
    "### Genetic Algorithm Class"
   ]
  },
  {
   "cell_type": "code",
   "execution_count": 46,
   "metadata": {},
   "outputs": [],
   "source": [
    "class GeneticAlgorithm():\n",
    "    \n",
    "    def __init__(self, population_size):\n",
    "        self.population_size = population_size\n",
    "        self.population = []\n",
    "        self.generation = 0\n",
    "        self.best_solution = None\n",
    "        self.list_of_solutions = []\n",
    "        \n",
    "    def initialize_population(self, spaces, prices, space_limit):\n",
    "        for i in range(self.population_size):\n",
    "            self.population.append(Individual(spaces, prices, space_limit))\n",
    "            \n",
    "        self.best_solution = self.population[0]\n",
    "        \n",
    "    def order_population(self):\n",
    "        self.population = sorted(self.population, key=lambda population:population.score_evaluation, reverse=True)\n",
    "        \n",
    "    def best_individual(self, individual):\n",
    "        if individual.score_evaluation > self.best_solution.score_evaluation:\n",
    "            self.best_solution = individual\n",
    "            \n",
    "    def sum_evaluations(self):\n",
    "        _sum = 0\n",
    "        for individual in self.population:\n",
    "            _sum += individual.score_evaluation\n",
    "        return _sum   \n",
    "    \n",
    "    \n",
    "    def select_parent(self, sum_evaluation):\n",
    "        parent = -1\n",
    "        random_value = random() * sum_evaluation\n",
    "        _sum = 0\n",
    "        i = 0\n",
    "        \n",
    "        #print('*** random value: ', random_value)\n",
    "        while i < len(self.population) and _sum < random_value:\n",
    "            #print('i: ', i, ' - sum: ', _sum)\n",
    "            _sum += self.population[i].score_evaluation\n",
    "            parent += 1\n",
    "            i += 1\n",
    "            \n",
    "        return parent\n",
    "    \n",
    "    def visualize_generation(self):\n",
    "        best = self.population[0]\n",
    "        print('\\nGeneration: ', self.population[0].generation, '\\nTotal price: ', best.score_evaluation,\n",
    "             '\\nSpace: ', best.used_space, '\\nChromosome: ', best.chromosome)\n",
    "        \n",
    "        \n",
    "    def solve(self, mutation_probability, number_of_generations, spaces, prices, limit):\n",
    "        self.initialize_population(spaces, prices, limit)\n",
    "        \n",
    "        for individual in self.population:\n",
    "            individual.fitness()\n",
    "            \n",
    "        self.order_population()\n",
    "        \n",
    "        self.best_solution = self.population[0]\n",
    "        self.list_of_solutions.append(self.best_solution.score_evaluation)\n",
    "        \n",
    "        self.visualize_generation()\n",
    "        \n",
    "        for generation in range(number_of_generations):\n",
    "            _sum = self.sum_evaluations()\n",
    "            new_population = []\n",
    "            \n",
    "            for new_individuals in range(0, self.population_size, 2):\n",
    "                parent1 = self.select_parent(_sum)\n",
    "                parent2 = self.select_parent(_sum)\n",
    "                \n",
    "                children = self.population[parent1].crossover(self.population[parent2])\n",
    "                new_population.append(children[0].mutation(mutation_probability))\n",
    "                new_population.append(children[1].mutation(mutation_probability))\n",
    "                \n",
    "            self.population = list(new_population)\n",
    "            \n",
    "            \n",
    "            for individual in self.population:\n",
    "                individual.fitness()\n",
    "            self.visualize_generation()\n",
    "            best = self.population[0]\n",
    "            self.list_of_solutions.append(best.score_evaluation)\n",
    "            self.best_individual(best)\n",
    "            \n",
    "        print('\\n**** Best Solution ****\\nGeneration: ', self.best_solution.generation, '\\nTotal price: ', \n",
    "              self.best_solution.score_evaluation, '\\nSpace: ', self.best_solution.used_space, '\\nChromosome: ', \n",
    "              self.best_solution.chromosome)\n",
    "        \n",
    "        return self.best_solution.chromosome"
   ]
  },
  {
   "cell_type": "code",
   "execution_count": 47,
   "metadata": {
    "pycharm": {
     "name": "#%%\n"
    }
   },
   "outputs": [],
   "source": [
    "prices = []\n",
    "names = []\n",
    "spaces = []\n",
    "\n",
    "for product in products_list:\n",
    "    prices.append(product.price)\n",
    "    names.append(product.name)\n",
    "    spaces.append(product.space)\n",
    "limit = 3"
   ]
  },
  {
   "cell_type": "code",
   "execution_count": 48,
   "metadata": {
    "pycharm": {
     "name": "#%%\n"
    }
   },
   "outputs": [
    {
     "name": "stdout",
     "output_type": "stream",
     "text": [
      "[999.9, 2199.12, 4346.99, 3999.9, 2999.0, 2499.9, 199.9, 308.66, 429.9, 299.29, 849.0, 1199.89, 1999.9, 3999.0]\n"
     ]
    }
   ],
   "source": [
    "print(prices)"
   ]
  },
  {
   "cell_type": "code",
   "execution_count": 49,
   "metadata": {
    "pycharm": {
     "name": "#%%\n"
    }
   },
   "outputs": [
    {
     "name": "stdout",
     "output_type": "stream",
     "text": [
      "['Refrigerator A', 'Cell phone', 'TV 55', \"TV 50' \", \"TV 42' \", 'Notebook A', 'Ventilator', 'Microwave A', 'Microwave B', 'Microwave C', 'Refrigerator B', 'Refrigerator C', 'Notebook B', 'Notebook C']\n"
     ]
    }
   ],
   "source": [
    "print(names)"
   ]
  },
  {
   "cell_type": "code",
   "execution_count": 50,
   "metadata": {
    "pycharm": {
     "name": "#%%\n"
    }
   },
   "outputs": [
    {
     "name": "stdout",
     "output_type": "stream",
     "text": [
      "[0.751, 8.99e-06, 0.4, 0.29, 0.2, 0.0035, 0.496, 0.0424, 0.0544, 0.0319, 0.635, 0.87, 0.498, 0.527]\n"
     ]
    }
   ],
   "source": [
    "print(spaces)"
   ]
  },
  {
   "cell_type": "code",
   "execution_count": 51,
   "metadata": {
    "pycharm": {
     "name": "#%%\n"
    }
   },
   "outputs": [
    {
     "name": "stdout",
     "output_type": "stream",
     "text": [
      "Name:  Notebook A\n",
      "Name:  Ventilator\n",
      "Name:  Microwave B\n",
      "Name:  Microwave C\n",
      "Name:  Notebook B\n",
      "Name:  Notebook C\n",
      "\n",
      "Score:  9427.89\n",
      "Used space:  1.6108000000000002\n",
      "Chromosome:  ['0', '0', '0', '0', '0', '1', '1', '0', '1', '1', '0', '0', '1', '1']\n"
     ]
    }
   ],
   "source": [
    "individual1 = Individual(spaces, prices, limit)\n",
    "# print('Spaces: ', individual1.spaces)\n",
    "# print('Prices: ', individual1.prices)\n",
    "# print('Chromosome: ', individual1.chromosome)\n",
    "\n",
    "for i in range(len(products_list)):\n",
    "    if individual1.chromosome[i] == '1':\n",
    "        print('Name: ', products_list[i].name)\n",
    "individual1.fitness()\n",
    "\n",
    "print('\\nScore: ', individual1.score_evaluation)\n",
    "print('Used space: ', individual1.used_space)\n",
    "print('Chromosome: ', individual1.chromosome)"
   ]
  },
  {
   "cell_type": "code",
   "execution_count": 52,
   "metadata": {},
   "outputs": [
    {
     "name": "stdout",
     "output_type": "stream",
     "text": [
      "Name:  Cell phone\n",
      "Name:  TV 55\n",
      "Name:  TV 50' \n",
      "Name:  Microwave A\n",
      "Name:  Microwave C\n",
      "Name:  Refrigerator C\n",
      "Name:  Notebook B\n",
      "\n",
      "Score:  14353.75\n",
      "Used space:  2.1323089900000003\n",
      "Chromosome:  ['0', '1', '1', '1', '0', '0', '0', '1', '0', '1', '0', '1', '1', '0']\n"
     ]
    }
   ],
   "source": [
    "individual2 = Individual(spaces, prices, limit)\n",
    "# print('Spaces: ', individual2.spaces)\n",
    "# print('Prices: ', individual2.prices)\n",
    "# print('Chromosome: ', individual2.chromosome)\n",
    "\n",
    "for i in range(len(products_list)):\n",
    "    if individual2.chromosome[i] == '1':\n",
    "        print('Name: ', products_list[i].name)\n",
    "individual2.fitness()\n",
    "\n",
    "print('\\nScore: ', individual2.score_evaluation)\n",
    "print('Used space: ', individual2.used_space)\n",
    "print('Chromosome: ', individual2.chromosome)"
   ]
  },
  {
   "cell_type": "code",
   "execution_count": 53,
   "metadata": {},
   "outputs": [],
   "source": [
    "children = individual1.crossover(individual2)"
   ]
  },
  {
   "cell_type": "code",
   "execution_count": 54,
   "metadata": {},
   "outputs": [
    {
     "name": "stdout",
     "output_type": "stream",
     "text": [
      "9427.89\n",
      "['0', '0', '0', '0', '0', '1', '1', '0', '1', '1', '0', '0', '1', '1']\n"
     ]
    }
   ],
   "source": [
    "children[0].fitness()\n",
    "print(children[0].score_evaluation)\n",
    "print(children[0].chromosome)"
   ]
  },
  {
   "cell_type": "code",
   "execution_count": 55,
   "metadata": {},
   "outputs": [
    {
     "name": "stdout",
     "output_type": "stream",
     "text": [
      "14353.75\n",
      "['0', '1', '1', '1', '0', '0', '0', '1', '0', '1', '0', '1', '1', '0']\n"
     ]
    }
   ],
   "source": [
    "children[1].fitness()\n",
    "print(children[1].score_evaluation)\n",
    "print(children[1].chromosome)"
   ]
  },
  {
   "cell_type": "code",
   "execution_count": 56,
   "metadata": {},
   "outputs": [
    {
     "data": {
      "text/plain": [
       "<__main__.Individual at 0x1ed33f6a160>"
      ]
     },
     "execution_count": 56,
     "metadata": {},
     "output_type": "execute_result"
    }
   ],
   "source": [
    "individual1.mutation(0.01)"
   ]
  },
  {
   "cell_type": "code",
   "execution_count": 57,
   "metadata": {},
   "outputs": [],
   "source": [
    "population_size = 20\n",
    "ga = GeneticAlgorithm(population_size)\n",
    "ga.initialize_population(spaces, prices, limit)"
   ]
  },
  {
   "cell_type": "code",
   "execution_count": 58,
   "metadata": {},
   "outputs": [
    {
     "data": {
      "text/plain": [
       "['1', '0', '0', '1', '0', '0', '0', '0', '1', '1', '0', '1', '0', '1']"
      ]
     },
     "execution_count": 58,
     "metadata": {},
     "output_type": "execute_result"
    }
   ],
   "source": [
    "ga.population[3].chromosome"
   ]
  },
  {
   "cell_type": "code",
   "execution_count": 59,
   "metadata": {},
   "outputs": [
    {
     "name": "stdout",
     "output_type": "stream",
     "text": [
      "Individual:  1 \n",
      "Spaces:  [0.751, 8.99e-06, 0.4, 0.29, 0.2, 0.0035, 0.496, 0.0424, 0.0544, 0.0319, 0.635, 0.87, 0.498, 0.527] \n",
      "Prices:  [999.9, 2199.12, 4346.99, 3999.9, 2999.0, 2499.9, 199.9, 308.66, 429.9, 299.29, 849.0, 1199.89, 1999.9, 3999.0] \n",
      "Chromosome:  ['0', '1', '1', '1', '1', '0', '1', '1', '1', '1', '0', '0', '1', '0'] \n",
      "Used Space:  2.01270899 \n",
      "Score:  16782.66 \n",
      "\n",
      "Individual:  2 \n",
      "Spaces:  [0.751, 8.99e-06, 0.4, 0.29, 0.2, 0.0035, 0.496, 0.0424, 0.0544, 0.0319, 0.635, 0.87, 0.498, 0.527] \n",
      "Prices:  [999.9, 2199.12, 4346.99, 3999.9, 2999.0, 2499.9, 199.9, 308.66, 429.9, 299.29, 849.0, 1199.89, 1999.9, 3999.0] \n",
      "Chromosome:  ['0', '1', '1', '0', '0', '1', '0', '1', '0', '1', '0', '0', '1', '1'] \n",
      "Used Space:  1.5028089900000001 \n",
      "Score:  15652.86 \n",
      "\n",
      "Individual:  3 \n",
      "Spaces:  [0.751, 8.99e-06, 0.4, 0.29, 0.2, 0.0035, 0.496, 0.0424, 0.0544, 0.0319, 0.635, 0.87, 0.498, 0.527] \n",
      "Prices:  [999.9, 2199.12, 4346.99, 3999.9, 2999.0, 2499.9, 199.9, 308.66, 429.9, 299.29, 849.0, 1199.89, 1999.9, 3999.0] \n",
      "Chromosome:  ['0', '0', '1', '1', '1', '1', '1', '0', '0', '1', '0', '1', '0', '0'] \n",
      "Used Space:  2.2914 \n",
      "Score:  15544.869999999999 \n",
      "\n",
      "Individual:  4 \n",
      "Spaces:  [0.751, 8.99e-06, 0.4, 0.29, 0.2, 0.0035, 0.496, 0.0424, 0.0544, 0.0319, 0.635, 0.87, 0.498, 0.527] \n",
      "Prices:  [999.9, 2199.12, 4346.99, 3999.9, 2999.0, 2499.9, 199.9, 308.66, 429.9, 299.29, 849.0, 1199.89, 1999.9, 3999.0] \n",
      "Chromosome:  ['0', '1', '0', '1', '0', '0', '0', '0', '0', '0', '1', '1', '1', '1'] \n",
      "Used Space:  2.82000899 \n",
      "Score:  14246.81 \n",
      "\n",
      "Individual:  5 \n",
      "Spaces:  [0.751, 8.99e-06, 0.4, 0.29, 0.2, 0.0035, 0.496, 0.0424, 0.0544, 0.0319, 0.635, 0.87, 0.498, 0.527] \n",
      "Prices:  [999.9, 2199.12, 4346.99, 3999.9, 2999.0, 2499.9, 199.9, 308.66, 429.9, 299.29, 849.0, 1199.89, 1999.9, 3999.0] \n",
      "Chromosome:  ['0', '1', '1', '0', '0', '0', '1', '0', '0', '0', '0', '1', '1', '1'] \n",
      "Used Space:  2.79100899 \n",
      "Score:  13944.8 \n",
      "\n",
      "Individual:  6 \n",
      "Spaces:  [0.751, 8.99e-06, 0.4, 0.29, 0.2, 0.0035, 0.496, 0.0424, 0.0544, 0.0319, 0.635, 0.87, 0.498, 0.527] \n",
      "Prices:  [999.9, 2199.12, 4346.99, 3999.9, 2999.0, 2499.9, 199.9, 308.66, 429.9, 299.29, 849.0, 1199.89, 1999.9, 3999.0] \n",
      "Chromosome:  ['0', '1', '0', '1', '0', '0', '1', '0', '1', '1', '0', '0', '1', '1'] \n",
      "Used Space:  1.89730899 \n",
      "Score:  13127.01 \n",
      "\n",
      "Individual:  7 \n",
      "Spaces:  [0.751, 8.99e-06, 0.4, 0.29, 0.2, 0.0035, 0.496, 0.0424, 0.0544, 0.0319, 0.635, 0.87, 0.498, 0.527] \n",
      "Prices:  [999.9, 2199.12, 4346.99, 3999.9, 2999.0, 2499.9, 199.9, 308.66, 429.9, 299.29, 849.0, 1199.89, 1999.9, 3999.0] \n",
      "Chromosome:  ['0', '1', '1', '0', '1', '0', '1', '0', '0', '0', '0', '1', '1', '0'] \n",
      "Used Space:  2.46400899 \n",
      "Score:  12944.8 \n",
      "\n",
      "Individual:  8 \n",
      "Spaces:  [0.751, 8.99e-06, 0.4, 0.29, 0.2, 0.0035, 0.496, 0.0424, 0.0544, 0.0319, 0.635, 0.87, 0.498, 0.527] \n",
      "Prices:  [999.9, 2199.12, 4346.99, 3999.9, 2999.0, 2499.9, 199.9, 308.66, 429.9, 299.29, 849.0, 1199.89, 1999.9, 3999.0] \n",
      "Chromosome:  ['1', '0', '0', '0', '1', '0', '1', '1', '1', '0', '0', '0', '1', '1'] \n",
      "Used Space:  2.5688000000000004 \n",
      "Score:  10936.26 \n",
      "\n",
      "Individual:  9 \n",
      "Spaces:  [0.751, 8.99e-06, 0.4, 0.29, 0.2, 0.0035, 0.496, 0.0424, 0.0544, 0.0319, 0.635, 0.87, 0.498, 0.527] \n",
      "Prices:  [999.9, 2199.12, 4346.99, 3999.9, 2999.0, 2499.9, 199.9, 308.66, 429.9, 299.29, 849.0, 1199.89, 1999.9, 3999.0] \n",
      "Chromosome:  ['0', '0', '0', '1', '0', '1', '0', '0', '1', '0', '0', '0', '0', '1'] \n",
      "Used Space:  0.8749 \n",
      "Score:  10928.7 \n",
      "\n",
      "Individual:  10 \n",
      "Spaces:  [0.751, 8.99e-06, 0.4, 0.29, 0.2, 0.0035, 0.496, 0.0424, 0.0544, 0.0319, 0.635, 0.87, 0.498, 0.527] \n",
      "Prices:  [999.9, 2199.12, 4346.99, 3999.9, 2999.0, 2499.9, 199.9, 308.66, 429.9, 299.29, 849.0, 1199.89, 1999.9, 3999.0] \n",
      "Chromosome:  ['1', '0', '0', '1', '0', '0', '0', '0', '1', '1', '0', '1', '0', '1'] \n",
      "Used Space:  2.5243 \n",
      "Score:  10927.880000000001 \n",
      "\n",
      "Individual:  11 \n",
      "Spaces:  [0.751, 8.99e-06, 0.4, 0.29, 0.2, 0.0035, 0.496, 0.0424, 0.0544, 0.0319, 0.635, 0.87, 0.498, 0.527] \n",
      "Prices:  [999.9, 2199.12, 4346.99, 3999.9, 2999.0, 2499.9, 199.9, 308.66, 429.9, 299.29, 849.0, 1199.89, 1999.9, 3999.0] \n",
      "Chromosome:  ['0', '0', '1', '0', '0', '0', '1', '1', '1', '0', '1', '1', '1', '0'] \n",
      "Used Space:  2.9958 \n",
      "Score:  9334.24 \n",
      "\n",
      "Individual:  12 \n",
      "Spaces:  [0.751, 8.99e-06, 0.4, 0.29, 0.2, 0.0035, 0.496, 0.0424, 0.0544, 0.0319, 0.635, 0.87, 0.498, 0.527] \n",
      "Prices:  [999.9, 2199.12, 4346.99, 3999.9, 2999.0, 2499.9, 199.9, 308.66, 429.9, 299.29, 849.0, 1199.89, 1999.9, 3999.0] \n",
      "Chromosome:  ['1', '0', '0', '0', '1', '0', '1', '1', '0', '1', '0', '1', '1', '0'] \n",
      "Used Space:  2.8893000000000004 \n",
      "Score:  8006.540000000001 \n",
      "\n",
      "Individual:  13 \n",
      "Spaces:  [0.751, 8.99e-06, 0.4, 0.29, 0.2, 0.0035, 0.496, 0.0424, 0.0544, 0.0319, 0.635, 0.87, 0.498, 0.527] \n",
      "Prices:  [999.9, 2199.12, 4346.99, 3999.9, 2999.0, 2499.9, 199.9, 308.66, 429.9, 299.29, 849.0, 1199.89, 1999.9, 3999.0] \n",
      "Chromosome:  ['1', '0', '0', '1', '0', '0', '1', '0', '1', '0', '0', '0', '1', '0'] \n",
      "Used Space:  2.0894 \n",
      "Score:  7629.5 \n",
      "\n",
      "Individual:  14 \n",
      "Spaces:  [0.751, 8.99e-06, 0.4, 0.29, 0.2, 0.0035, 0.496, 0.0424, 0.0544, 0.0319, 0.635, 0.87, 0.498, 0.527] \n",
      "Prices:  [999.9, 2199.12, 4346.99, 3999.9, 2999.0, 2499.9, 199.9, 308.66, 429.9, 299.29, 849.0, 1199.89, 1999.9, 3999.0] \n",
      "Chromosome:  ['0', '0', '0', '1', '0', '1', '0', '1', '0', '0', '0', '0', '0', '0'] \n",
      "Used Space:  0.3359 \n",
      "Score:  6808.46 \n",
      "\n",
      "Individual:  15 \n",
      "Spaces:  [0.751, 8.99e-06, 0.4, 0.29, 0.2, 0.0035, 0.496, 0.0424, 0.0544, 0.0319, 0.635, 0.87, 0.498, 0.527] \n",
      "Prices:  [999.9, 2199.12, 4346.99, 3999.9, 2999.0, 2499.9, 199.9, 308.66, 429.9, 299.29, 849.0, 1199.89, 1999.9, 3999.0] \n",
      "Chromosome:  ['1', '0', '0', '0', '1', '0', '0', '1', '1', '0', '1', '1', '0', '0'] \n",
      "Used Space:  2.5528 \n",
      "Score:  6786.35 \n",
      "\n",
      "Individual:  16 \n",
      "Spaces:  [0.751, 8.99e-06, 0.4, 0.29, 0.2, 0.0035, 0.496, 0.0424, 0.0544, 0.0319, 0.635, 0.87, 0.498, 0.527] \n",
      "Prices:  [999.9, 2199.12, 4346.99, 3999.9, 2999.0, 2499.9, 199.9, 308.66, 429.9, 299.29, 849.0, 1199.89, 1999.9, 3999.0] \n",
      "Chromosome:  ['0', '0', '0', '0', '0', '1', '1', '1', '1', '1', '0', '1', '0', '0'] \n",
      "Used Space:  1.4982000000000002 \n",
      "Score:  4937.54 \n",
      "\n",
      "Individual:  17 \n",
      "Spaces:  [0.751, 8.99e-06, 0.4, 0.29, 0.2, 0.0035, 0.496, 0.0424, 0.0544, 0.0319, 0.635, 0.87, 0.498, 0.527] \n",
      "Prices:  [999.9, 2199.12, 4346.99, 3999.9, 2999.0, 2499.9, 199.9, 308.66, 429.9, 299.29, 849.0, 1199.89, 1999.9, 3999.0] \n",
      "Chromosome:  ['0', '1', '0', '0', '0', '0', '0', '0', '1', '1', '1', '0', '0', '0'] \n",
      "Used Space:  0.72130899 \n",
      "Score:  3777.31 \n",
      "\n",
      "Individual:  18 \n",
      "Spaces:  [0.751, 8.99e-06, 0.4, 0.29, 0.2, 0.0035, 0.496, 0.0424, 0.0544, 0.0319, 0.635, 0.87, 0.498, 0.527] \n",
      "Prices:  [999.9, 2199.12, 4346.99, 3999.9, 2999.0, 2499.9, 199.9, 308.66, 429.9, 299.29, 849.0, 1199.89, 1999.9, 3999.0] \n",
      "Chromosome:  ['1', '1', '0', '1', '1', '0', '0', '1', '1', '1', '1', '1', '1', '1'] \n",
      "Used Space:  3.8997089900000006 \n",
      "Score:  1 \n",
      "\n",
      "Individual:  19 \n",
      "Spaces:  [0.751, 8.99e-06, 0.4, 0.29, 0.2, 0.0035, 0.496, 0.0424, 0.0544, 0.0319, 0.635, 0.87, 0.498, 0.527] \n",
      "Prices:  [999.9, 2199.12, 4346.99, 3999.9, 2999.0, 2499.9, 199.9, 308.66, 429.9, 299.29, 849.0, 1199.89, 1999.9, 3999.0] \n",
      "Chromosome:  ['1', '0', '0', '1', '0', '0', '0', '1', '0', '1', '1', '1', '1', '0'] \n",
      "Used Space:  3.1182999999999996 \n",
      "Score:  1 \n",
      "\n",
      "Individual:  20 \n",
      "Spaces:  [0.751, 8.99e-06, 0.4, 0.29, 0.2, 0.0035, 0.496, 0.0424, 0.0544, 0.0319, 0.635, 0.87, 0.498, 0.527] \n",
      "Prices:  [999.9, 2199.12, 4346.99, 3999.9, 2999.0, 2499.9, 199.9, 308.66, 429.9, 299.29, 849.0, 1199.89, 1999.9, 3999.0] \n",
      "Chromosome:  ['1', '1', '0', '1', '0', '0', '0', '1', '1', '1', '1', '1', '1', '0'] \n",
      "Used Space:  3.1727089900000003 \n",
      "Score:  1 \n",
      "\n"
     ]
    }
   ],
   "source": [
    "for individual in ga.population:\n",
    "    individual.fitness()\n",
    "ga.order_population()    \n",
    "for i in range(ga.population_size):\n",
    "    print('Individual: ', (i + 1), '\\nSpaces: ', ga.population[i].spaces, '\\nPrices: ', \n",
    "          ga.population[i].prices, '\\nChromosome: ', ga.population[i].chromosome, '\\nUsed Space: ', \n",
    "          ga.population[i].used_space,'\\nScore: ', ga.population[i].score_evaluation, '\\n')"
   ]
  },
  {
   "cell_type": "code",
   "execution_count": 60,
   "metadata": {},
   "outputs": [
    {
     "data": {
      "text/plain": [
       "15544.869999999999"
      ]
     },
     "execution_count": 60,
     "metadata": {},
     "output_type": "execute_result"
    }
   ],
   "source": [
    "ga.best_solution.score_evaluation"
   ]
  },
  {
   "cell_type": "code",
   "execution_count": 61,
   "metadata": {},
   "outputs": [
    {
     "data": {
      "text/plain": [
       "16782.66"
      ]
     },
     "execution_count": 61,
     "metadata": {},
     "output_type": "execute_result"
    }
   ],
   "source": [
    "ga.population[0].score_evaluation"
   ]
  },
  {
   "cell_type": "code",
   "execution_count": 62,
   "metadata": {},
   "outputs": [],
   "source": [
    "ga.best_individual(ga.population[0])"
   ]
  },
  {
   "cell_type": "code",
   "execution_count": 63,
   "metadata": {},
   "outputs": [
    {
     "data": {
      "text/plain": [
       "16782.66"
      ]
     },
     "execution_count": 63,
     "metadata": {},
     "output_type": "execute_result"
    }
   ],
   "source": [
    "ga.best_solution.score_evaluation"
   ]
  },
  {
   "cell_type": "code",
   "execution_count": 64,
   "metadata": {},
   "outputs": [
    {
     "name": "stdout",
     "output_type": "stream",
     "text": [
      "Sum of Evaluations:  182319.59\n"
     ]
    }
   ],
   "source": [
    "_sum = ga.sum_evaluations()\n",
    "print('Sum of Evaluations: ', _sum)"
   ]
  },
  {
   "cell_type": "code",
   "execution_count": 65,
   "metadata": {},
   "outputs": [
    {
     "data": {
      "text/plain": [
       "13"
      ]
     },
     "execution_count": 65,
     "metadata": {},
     "output_type": "execute_result"
    }
   ],
   "source": [
    "parent_1 = ga.select_parent(_sum)\n",
    "parent_1"
   ]
  },
  {
   "cell_type": "code",
   "execution_count": 66,
   "metadata": {},
   "outputs": [
    {
     "name": "stdout",
     "output_type": "stream",
     "text": [
      "\n",
      " 5 13\n",
      "parent 1:  ['0', '1', '0', '1', '0', '0', '1', '0', '1', '1', '0', '0', '1', '1']\n",
      "parent 2:  ['0', '0', '0', '1', '0', '1', '0', '1', '0', '0', '0', '0', '0', '0']\n",
      " child 1:  ['0', '0', '0', '1', '0', '0', '1', '0', '1', '1', '0', '0', '1', '1']\n",
      " child 2:  ['0', '1', '0', '1', '0', '1', '0', '1', '0', '0', '0', '0', '0', '0']\n",
      "\n",
      " 5 3\n",
      "parent 1:  ['0', '1', '0', '1', '0', '0', '1', '0', '1', '1', '0', '0', '1', '1']\n",
      "parent 2:  ['0', '1', '0', '1', '0', '0', '0', '0', '0', '0', '1', '1', '1', '1']\n",
      " child 1:  ['0', '1', '0', '1', '0', '0', '1', '0', '1', '1', '0', '0', '1', '1']\n",
      " child 2:  ['0', '1', '0', '1', '0', '0', '0', '0', '0', '0', '1', '1', '1', '1']\n",
      "\n",
      " 5 0\n",
      "parent 1:  ['0', '1', '0', '1', '0', '0', '1', '0', '1', '1', '0', '0', '1', '1']\n",
      "parent 2:  ['0', '1', '1', '1', '1', '0', '1', '1', '1', '1', '0', '0', '1', '0']\n",
      " child 1:  ['0', '1', '1', '1', '1', '0', '1', '0', '1', '1', '0', '0', '1', '1']\n",
      " child 2:  ['0', '1', '0', '1', '0', '0', '1', '1', '1', '1', '0', '0', '1', '0']\n",
      "\n",
      " 0 0\n",
      "parent 1:  ['0', '1', '1', '1', '1', '0', '1', '1', '1', '1', '0', '0', '1', '0']\n",
      "parent 2:  ['0', '1', '1', '1', '1', '0', '1', '1', '1', '1', '0', '0', '1', '0']\n",
      " child 1:  ['0', '1', '1', '1', '1', '0', '1', '1', '1', '1', '0', '0', '1', '0']\n",
      " child 2:  ['0', '1', '1', '1', '1', '0', '1', '1', '1', '1', '0', '0', '1', '0']\n",
      "\n",
      " 12 14\n",
      "parent 1:  ['1', '0', '0', '1', '0', '0', '1', '0', '1', '0', '0', '0', '1', '0']\n",
      "parent 2:  ['1', '0', '0', '0', '1', '0', '0', '1', '1', '0', '1', '1', '0', '0']\n",
      " child 1:  ['1', '0', '0', '0', '1', '0', '1', '0', '1', '0', '0', '0', '1', '0']\n",
      " child 2:  ['1', '0', '0', '1', '0', '0', '0', '1', '1', '0', '1', '1', '0', '0']\n",
      "\n",
      " 7 2\n",
      "parent 1:  ['1', '0', '0', '0', '1', '0', '1', '1', '1', '0', '0', '0', '1', '1']\n",
      "parent 2:  ['0', '0', '1', '1', '1', '1', '1', '0', '0', '1', '0', '1', '0', '0']\n",
      " child 1:  ['1', '0', '0', '0', '1', '0', '1', '1', '1', '0', '0', '0', '1', '1']\n",
      " child 2:  ['0', '0', '1', '1', '1', '1', '1', '0', '0', '1', '0', '1', '0', '0']\n",
      "\n",
      " 4 2\n",
      "parent 1:  ['0', '1', '1', '0', '0', '0', '1', '0', '0', '0', '0', '1', '1', '1']\n",
      "parent 2:  ['0', '0', '1', '1', '1', '1', '1', '0', '0', '1', '0', '1', '0', '0']\n",
      " child 1:  ['0', '1', '1', '0', '0', '0', '1', '0', '0', '0', '0', '1', '1', '1']\n",
      " child 2:  ['0', '0', '1', '1', '1', '1', '1', '0', '0', '1', '0', '1', '0', '0']\n",
      "\n",
      " 8 1\n",
      "parent 1:  ['0', '0', '0', '1', '0', '1', '0', '0', '1', '0', '0', '0', '0', '1']\n",
      "parent 2:  ['0', '1', '1', '0', '0', '1', '0', '1', '0', '1', '0', '0', '1', '1']\n",
      " child 1:  ['0', '1', '1', '0', '0', '1', '0', '0', '1', '0', '0', '0', '0', '1']\n",
      " child 2:  ['0', '0', '0', '1', '0', '1', '0', '1', '0', '1', '0', '0', '1', '1']\n",
      "\n",
      " 16 8\n",
      "parent 1:  ['0', '1', '0', '0', '0', '0', '0', '0', '1', '1', '1', '0', '0', '0']\n",
      "parent 2:  ['0', '0', '0', '1', '0', '1', '0', '0', '1', '0', '0', '0', '0', '1']\n",
      " child 1:  ['0', '0', '0', '1', '0', '1', '0', '0', '1', '0', '0', '0', '0', '0']\n",
      " child 2:  ['0', '1', '0', '0', '0', '0', '0', '0', '1', '1', '1', '0', '0', '1']\n",
      "\n",
      " 5 2\n",
      "parent 1:  ['0', '1', '0', '1', '0', '0', '1', '0', '1', '1', '0', '0', '1', '1']\n",
      "parent 2:  ['0', '0', '1', '1', '1', '1', '1', '0', '0', '1', '0', '1', '0', '0']\n",
      " child 1:  ['0', '0', '1', '1', '1', '1', '1', '0', '1', '1', '0', '0', '1', '1']\n",
      " child 2:  ['0', '1', '0', '1', '0', '0', '1', '0', '0', '1', '0', '1', '0', '0']\n"
     ]
    }
   ],
   "source": [
    "new_population = []\n",
    "mutation_probability = 0.01\n",
    "for individual in range(0, ga.population_size, 2):\n",
    "    parent1 = ga.select_parent(_sum)\n",
    "    parent2 = ga.select_parent(_sum)\n",
    "    print('\\n', parent1, parent2)\n",
    "    children = ga.population[parent1].crossover(ga.population[parent2])\n",
    "    print('parent 1: ', ga.population[parent1].chromosome)\n",
    "    print('parent 2: ', ga.population[parent2].chromosome)\n",
    "    print(' child 1: ', children[0].chromosome)\n",
    "    print(' child 2: ', children[1].chromosome)\n",
    "    \n",
    "    new_population.append(children[0].mutation(mutation_probability))\n",
    "    new_population.append(children[1].mutation(mutation_probability))"
   ]
  },
  {
   "cell_type": "code",
   "execution_count": 67,
   "metadata": {},
   "outputs": [
    {
     "name": "stdout",
     "output_type": "stream",
     "text": [
      "\n",
      "Generation:  0 \n",
      "Total price:  16782.66 \n",
      "Space:  2.01270899 \n",
      "Chromosome:  ['0', '1', '1', '1', '1', '0', '1', '1', '1', '1', '0', '0', '1', '0']\n"
     ]
    }
   ],
   "source": [
    "ga.visualize_generation()"
   ]
  },
  {
   "cell_type": "markdown",
   "metadata": {},
   "source": [
    "### Putting it all together"
   ]
  },
  {
   "cell_type": "code",
   "execution_count": 68,
   "metadata": {},
   "outputs": [
    {
     "name": "stdout",
     "output_type": "stream",
     "text": [
      "\n",
      "Generation:  0 \n",
      "Total price:  19625.809999999998 \n",
      "Space:  2.8518089900000003 \n",
      "Chromosome:  ['1', '1', '0', '1', '1', '1', '1', '0', '1', '1', '0', '0', '1', '1']\n",
      "\n",
      "Generation:  1 \n",
      "Total price:  12084.539999999999 \n",
      "Space:  1.3181999999999998 \n",
      "Chromosome:  ['0', '0', '1', '1', '0', '1', '1', '1', '1', '1', '0', '0', '0', '0']\n",
      "\n",
      "Generation:  2 \n",
      "Total price:  1 \n",
      "Space:  3.52920899 \n",
      "Chromosome:  ['1', '1', '0', '1', '1', '1', '1', '1', '1', '1', '1', '0', '1', '1']\n",
      "\n",
      "Generation:  3 \n",
      "Total price:  18322.809999999998 \n",
      "Space:  2.5709089900000004 \n",
      "Chromosome:  ['1', '1', '1', '0', '1', '1', '0', '0', '1', '0', '1', '0', '0', '1']\n",
      "\n",
      "Generation:  4 \n",
      "Total price:  13823.91 \n",
      "Space:  2.11440899 \n",
      "Chromosome:  ['0', '1', '1', '0', '0', '0', '0', '0', '1', '0', '1', '0', '1', '1']\n",
      "\n",
      "Generation:  5 \n",
      "Total price:  1 \n",
      "Space:  3.3569000000000004 \n",
      "Chromosome:  ['1', '0', '1', '1', '1', '1', '1', '0', '1', '0', '1', '0', '0', '1']\n",
      "\n",
      "Generation:  6 \n",
      "Total price:  14823.81 \n",
      "Space:  2.86540899 \n",
      "Chromosome:  ['1', '1', '1', '0', '0', '0', '0', '0', '1', '0', '1', '0', '1', '1']\n",
      "\n",
      "Generation:  7 \n",
      "Total price:  18673.699999999997 \n",
      "Space:  2.8059089900000003 \n",
      "Chromosome:  ['1', '1', '1', '0', '1', '1', '0', '0', '1', '0', '0', '1', '0', '1']\n",
      "\n",
      "Generation:  8 \n",
      "Total price:  18975.72 \n",
      "Space:  2.20790899 \n",
      "Chromosome:  ['0', '1', '0', '1', '1', '1', '0', '0', '1', '0', '1', '0', '1', '1']\n",
      "\n",
      "Generation:  9 \n",
      "Total price:  14874.699999999999 \n",
      "Space:  2.35090899 \n",
      "Chromosome:  ['0', '1', '1', '0', '0', '1', '1', '0', '1', '0', '0', '1', '0', '1']\n",
      "\n",
      "Generation:  10 \n",
      "Total price:  22473.710000000003 \n",
      "Space:  1.97290899 \n",
      "Chromosome:  ['0', '1', '1', '1', '1', '1', '0', '0', '1', '0', '0', '0', '1', '1']\n",
      "\n",
      "Generation:  11 \n",
      "Total price:  23673.600000000002 \n",
      "Space:  2.8429089899999997 \n",
      "Chromosome:  ['0', '1', '1', '1', '1', '1', '0', '0', '1', '0', '0', '1', '1', '1']\n",
      "\n",
      "Generation:  12 \n",
      "Total price:  21673.7 \n",
      "Space:  2.34490899 \n",
      "Chromosome:  ['0', '1', '1', '1', '1', '1', '0', '0', '1', '0', '0', '1', '0', '1']\n",
      "\n",
      "Generation:  13 \n",
      "Total price:  21972.99 \n",
      "Space:  2.37680899 \n",
      "Chromosome:  ['0', '1', '1', '1', '1', '1', '0', '0', '1', '1', '0', '1', '0', '1']\n",
      "\n",
      "Generation:  14 \n",
      "Total price:  17673.8 \n",
      "Space:  2.05490899 \n",
      "Chromosome:  ['0', '1', '1', '0', '1', '1', '0', '0', '1', '0', '0', '1', '0', '1']\n",
      "\n",
      "Generation:  15 \n",
      "Total price:  19674.600000000002 \n",
      "Space:  2.3159089899999996 \n",
      "Chromosome:  ['0', '1', '1', '1', '1', '1', '0', '0', '1', '0', '0', '1', '1', '0']\n",
      "\n",
      "Generation:  16 \n",
      "Total price:  17673.8 \n",
      "Space:  2.05490899 \n",
      "Chromosome:  ['0', '1', '1', '0', '1', '1', '0', '0', '1', '0', '0', '1', '0', '1']\n",
      "\n",
      "Generation:  17 \n",
      "Total price:  18473.809999999998 \n",
      "Space:  1.68290899 \n",
      "Chromosome:  ['0', '1', '1', '0', '1', '1', '0', '0', '1', '0', '0', '0', '1', '1']\n",
      "\n",
      "Generation:  18 \n",
      "Total price:  18474.710000000003 \n",
      "Space:  1.44590899 \n",
      "Chromosome:  ['0', '1', '1', '1', '1', '1', '0', '0', '1', '0', '0', '0', '1', '0']\n",
      "\n",
      "Generation:  19 \n",
      "Total price:  19673.699999999997 \n",
      "Space:  2.55290899 \n",
      "Chromosome:  ['0', '1', '1', '0', '1', '1', '0', '0', '1', '0', '0', '1', '1', '1']\n",
      "\n",
      "Generation:  20 \n",
      "Total price:  19673.699999999997 \n",
      "Space:  2.55290899 \n",
      "Chromosome:  ['0', '1', '1', '0', '1', '1', '0', '0', '1', '0', '0', '1', '1', '1']\n",
      "\n",
      "Generation:  21 \n",
      "Total price:  22473.710000000003 \n",
      "Space:  1.97290899 \n",
      "Chromosome:  ['0', '1', '1', '1', '1', '1', '0', '0', '1', '0', '0', '0', '1', '1']\n",
      "\n",
      "Generation:  22 \n",
      "Total price:  22473.710000000003 \n",
      "Space:  1.97290899 \n",
      "Chromosome:  ['0', '1', '1', '1', '1', '1', '0', '0', '1', '0', '0', '0', '1', '1']\n",
      "\n",
      "Generation:  23 \n",
      "Total price:  18774.000000000004 \n",
      "Space:  1.4778089899999998 \n",
      "Chromosome:  ['0', '1', '1', '1', '1', '1', '0', '0', '1', '1', '0', '0', '1', '0']\n",
      "\n",
      "Generation:  24 \n",
      "Total price:  20473.81 \n",
      "Space:  1.4749089899999999 \n",
      "Chromosome:  ['0', '1', '1', '1', '1', '1', '0', '0', '1', '0', '0', '0', '0', '1']\n",
      "\n",
      "Generation:  25 \n",
      "Total price:  22473.710000000003 \n",
      "Space:  1.97290899 \n",
      "Chromosome:  ['0', '1', '1', '1', '1', '1', '0', '0', '1', '0', '0', '0', '1', '1']\n",
      "\n",
      "Generation:  26 \n",
      "Total price:  21673.7 \n",
      "Space:  2.34490899 \n",
      "Chromosome:  ['0', '1', '1', '1', '1', '1', '0', '0', '1', '0', '0', '1', '0', '1']\n",
      "\n",
      "Generation:  27 \n",
      "Total price:  22773.000000000004 \n",
      "Space:  2.00480899 \n",
      "Chromosome:  ['0', '1', '1', '1', '1', '1', '0', '0', '1', '1', '0', '0', '1', '1']\n",
      "\n",
      "Generation:  28 \n",
      "Total price:  22972.9 \n",
      "Space:  2.50080899 \n",
      "Chromosome:  ['0', '1', '1', '1', '1', '1', '1', '0', '1', '1', '0', '0', '1', '1']\n",
      "\n",
      "Generation:  29 \n",
      "Total price:  23673.600000000002 \n",
      "Space:  2.8429089899999997 \n",
      "Chromosome:  ['0', '1', '1', '1', '1', '1', '0', '0', '1', '0', '0', '1', '1', '1']\n",
      "\n",
      "Generation:  30 \n",
      "Total price:  22773.000000000004 \n",
      "Space:  2.00480899 \n",
      "Chromosome:  ['0', '1', '1', '1', '1', '1', '0', '0', '1', '1', '0', '0', '1', '1']\n",
      "\n",
      "Generation:  31 \n",
      "Total price:  22773.000000000004 \n",
      "Space:  2.00480899 \n",
      "Chromosome:  ['0', '1', '1', '1', '1', '1', '0', '0', '1', '1', '0', '0', '1', '1']\n",
      "\n",
      "Generation:  32 \n",
      "Total price:  22773.000000000004 \n",
      "Space:  2.00480899 \n",
      "Chromosome:  ['0', '1', '1', '1', '1', '1', '0', '0', '1', '1', '0', '0', '1', '1']\n",
      "\n",
      "Generation:  33 \n",
      "Total price:  23772.900000000005 \n",
      "Space:  2.7558089900000002 \n",
      "Chromosome:  ['1', '1', '1', '1', '1', '1', '0', '0', '1', '1', '0', '0', '1', '1']\n",
      "\n",
      "Generation:  34 \n",
      "Total price:  23322.710000000003 \n",
      "Space:  2.6079089900000003 \n",
      "Chromosome:  ['0', '1', '1', '1', '1', '1', '0', '0', '1', '0', '1', '0', '1', '1']\n",
      "\n",
      "Generation:  35 \n",
      "Total price:  22773.000000000004 \n",
      "Space:  2.00480899 \n",
      "Chromosome:  ['0', '1', '1', '1', '1', '1', '0', '0', '1', '1', '0', '0', '1', '1']\n",
      "\n",
      "Generation:  36 \n",
      "Total price:  23281.560000000005 \n",
      "Space:  2.54320899 \n",
      "Chromosome:  ['0', '1', '1', '1', '1', '1', '1', '1', '1', '1', '0', '0', '1', '1']\n",
      "\n",
      "Generation:  37 \n",
      "Total price:  22473.710000000003 \n",
      "Space:  1.97290899 \n",
      "Chromosome:  ['0', '1', '1', '1', '1', '1', '0', '0', '1', '0', '0', '0', '1', '1']\n",
      "\n",
      "Generation:  38 \n",
      "Total price:  23772.900000000005 \n",
      "Space:  2.7558089900000002 \n",
      "Chromosome:  ['1', '1', '1', '1', '1', '1', '0', '0', '1', '1', '0', '0', '1', '1']\n",
      "\n",
      "Generation:  39 \n",
      "Total price:  22773.000000000004 \n",
      "Space:  2.00480899 \n",
      "Chromosome:  ['0', '1', '1', '1', '1', '1', '0', '0', '1', '1', '0', '0', '1', '1']\n",
      "\n",
      "Generation:  40 \n",
      "Total price:  22773.000000000004 \n",
      "Space:  2.00480899 \n",
      "Chromosome:  ['0', '1', '1', '1', '1', '1', '0', '0', '1', '1', '0', '0', '1', '1']\n",
      "\n",
      "Generation:  41 \n",
      "Total price:  22773.000000000004 \n",
      "Space:  2.00480899 \n",
      "Chromosome:  ['0', '1', '1', '1', '1', '1', '0', '0', '1', '1', '0', '0', '1', '1']\n",
      "\n",
      "Generation:  42 \n",
      "Total price:  22773.000000000004 \n",
      "Space:  2.00480899 \n",
      "Chromosome:  ['0', '1', '1', '1', '1', '1', '0', '0', '1', '1', '0', '0', '1', '1']\n",
      "\n",
      "Generation:  43 \n",
      "Total price:  1 \n",
      "Space:  3.6258089900000003 \n",
      "Chromosome:  ['1', '1', '1', '1', '1', '1', '0', '0', '1', '1', '0', '1', '1', '1']\n",
      "\n",
      "Generation:  44 \n",
      "Total price:  22773.000000000004 \n",
      "Space:  2.00480899 \n",
      "Chromosome:  ['0', '1', '1', '1', '1', '1', '0', '0', '1', '1', '0', '0', '1', '1']\n",
      "\n",
      "Generation:  45 \n",
      "Total price:  22773.000000000004 \n",
      "Space:  2.00480899 \n",
      "Chromosome:  ['0', '1', '1', '1', '1', '1', '0', '0', '1', '1', '0', '0', '1', '1']\n",
      "\n",
      "Generation:  46 \n",
      "Total price:  22773.000000000004 \n",
      "Space:  2.00480899 \n",
      "Chromosome:  ['0', '1', '1', '1', '1', '1', '0', '0', '1', '1', '0', '0', '1', '1']\n",
      "\n",
      "Generation:  47 \n",
      "Total price:  22773.000000000004 \n",
      "Space:  2.00480899 \n",
      "Chromosome:  ['0', '1', '1', '1', '1', '1', '0', '0', '1', '1', '0', '0', '1', '1']\n",
      "\n",
      "Generation:  48 \n",
      "Total price:  22773.000000000004 \n",
      "Space:  2.00480899 \n",
      "Chromosome:  ['0', '1', '1', '1', '1', '1', '0', '0', '1', '1', '0', '0', '1', '1']\n",
      "\n",
      "Generation:  49 \n",
      "Total price:  22773.000000000004 \n",
      "Space:  2.00480899 \n",
      "Chromosome:  ['0', '1', '1', '1', '1', '1', '0', '0', '1', '1', '0', '0', '1', '1']\n",
      "\n",
      "Generation:  50 \n",
      "Total price:  22773.000000000004 \n",
      "Space:  2.00480899 \n",
      "Chromosome:  ['0', '1', '1', '1', '1', '1', '0', '0', '1', '1', '0', '0', '1', '1']\n",
      "\n",
      "Generation:  51 \n",
      "Total price:  22773.000000000004 \n",
      "Space:  2.00480899 \n",
      "Chromosome:  ['0', '1', '1', '1', '1', '1', '0', '0', '1', '1', '0', '0', '1', '1']\n",
      "\n",
      "Generation:  52 \n",
      "Total price:  22773.000000000004 \n",
      "Space:  2.00480899 \n",
      "Chromosome:  ['0', '1', '1', '1', '1', '1', '0', '0', '1', '1', '0', '0', '1', '1']\n",
      "\n",
      "Generation:  53 \n",
      "Total price:  22773.000000000004 \n",
      "Space:  2.00480899 \n",
      "Chromosome:  ['0', '1', '1', '1', '1', '1', '0', '0', '1', '1', '0', '0', '1', '1']\n",
      "\n",
      "Generation:  54 \n",
      "Total price:  22773.000000000004 \n",
      "Space:  2.00480899 \n",
      "Chromosome:  ['0', '1', '1', '1', '1', '1', '0', '0', '1', '1', '0', '0', '1', '1']\n",
      "\n",
      "Generation:  55 \n",
      "Total price:  22773.000000000004 \n",
      "Space:  2.00480899 \n",
      "Chromosome:  ['0', '1', '1', '1', '1', '1', '0', '0', '1', '1', '0', '0', '1', '1']\n",
      "\n",
      "Generation:  56 \n"
     ]
    },
    {
     "name": "stdout",
     "output_type": "stream",
     "text": [
      "Total price:  22773.000000000004 \n",
      "Space:  2.00480899 \n",
      "Chromosome:  ['0', '1', '1', '1', '1', '1', '0', '0', '1', '1', '0', '0', '1', '1']\n",
      "\n",
      "Generation:  57 \n",
      "Total price:  22773.000000000004 \n",
      "Space:  2.00480899 \n",
      "Chromosome:  ['0', '1', '1', '1', '1', '1', '0', '0', '1', '1', '0', '0', '1', '1']\n",
      "\n",
      "Generation:  58 \n",
      "Total price:  23622.000000000004 \n",
      "Space:  2.6398089899999997 \n",
      "Chromosome:  ['0', '1', '1', '1', '1', '1', '0', '0', '1', '1', '1', '0', '1', '1']\n",
      "\n",
      "Generation:  59 \n",
      "Total price:  22773.000000000004 \n",
      "Space:  2.00480899 \n",
      "Chromosome:  ['0', '1', '1', '1', '1', '1', '0', '0', '1', '1', '0', '0', '1', '1']\n",
      "\n",
      "Generation:  60 \n",
      "Total price:  23772.900000000005 \n",
      "Space:  2.7558089900000002 \n",
      "Chromosome:  ['1', '1', '1', '1', '1', '1', '0', '0', '1', '1', '0', '0', '1', '1']\n",
      "\n",
      "Generation:  61 \n",
      "Total price:  22773.000000000004 \n",
      "Space:  2.00480899 \n",
      "Chromosome:  ['0', '1', '1', '1', '1', '1', '0', '0', '1', '1', '0', '0', '1', '1']\n",
      "\n",
      "Generation:  62 \n",
      "Total price:  22773.000000000004 \n",
      "Space:  2.00480899 \n",
      "Chromosome:  ['0', '1', '1', '1', '1', '1', '0', '0', '1', '1', '0', '0', '1', '1']\n",
      "\n",
      "Generation:  63 \n",
      "Total price:  23972.890000000003 \n",
      "Space:  2.87480899 \n",
      "Chromosome:  ['0', '1', '1', '1', '1', '1', '0', '0', '1', '1', '0', '1', '1', '1']\n",
      "\n",
      "Generation:  64 \n",
      "Total price:  23972.890000000003 \n",
      "Space:  2.87480899 \n",
      "Chromosome:  ['0', '1', '1', '1', '1', '1', '0', '0', '1', '1', '0', '1', '1', '1']\n",
      "\n",
      "Generation:  65 \n",
      "Total price:  23081.660000000003 \n",
      "Space:  2.0472089899999997 \n",
      "Chromosome:  ['0', '1', '1', '1', '1', '1', '0', '1', '1', '1', '0', '0', '1', '1']\n",
      "\n",
      "Generation:  66 \n",
      "Total price:  23972.890000000003 \n",
      "Space:  2.87480899 \n",
      "Chromosome:  ['0', '1', '1', '1', '1', '1', '0', '0', '1', '1', '0', '1', '1', '1']\n",
      "\n",
      "Generation:  67 \n",
      "Total price:  24081.560000000005 \n",
      "Space:  2.79820899 \n",
      "Chromosome:  ['1', '1', '1', '1', '1', '1', '0', '1', '1', '1', '0', '0', '1', '1']\n",
      "\n",
      "Generation:  68 \n",
      "Total price:  23972.890000000003 \n",
      "Space:  2.87480899 \n",
      "Chromosome:  ['0', '1', '1', '1', '1', '1', '0', '0', '1', '1', '0', '1', '1', '1']\n",
      "\n",
      "Generation:  69 \n",
      "Total price:  23081.660000000003 \n",
      "Space:  2.0472089899999997 \n",
      "Chromosome:  ['0', '1', '1', '1', '1', '1', '0', '1', '1', '1', '0', '0', '1', '1']\n",
      "\n",
      "Generation:  70 \n",
      "Total price:  1 \n",
      "Space:  3.66820899 \n",
      "Chromosome:  ['1', '1', '1', '1', '1', '1', '0', '1', '1', '1', '0', '1', '1', '1']\n",
      "\n",
      "Generation:  71 \n",
      "Total price:  23081.660000000003 \n",
      "Space:  2.0472089899999997 \n",
      "Chromosome:  ['0', '1', '1', '1', '1', '1', '0', '1', '1', '1', '0', '0', '1', '1']\n",
      "\n",
      "Generation:  72 \n",
      "Total price:  22773.000000000004 \n",
      "Space:  2.00480899 \n",
      "Chromosome:  ['0', '1', '1', '1', '1', '1', '0', '0', '1', '1', '0', '0', '1', '1']\n",
      "\n",
      "Generation:  73 \n",
      "Total price:  24281.550000000003 \n",
      "Space:  2.91720899 \n",
      "Chromosome:  ['0', '1', '1', '1', '1', '1', '0', '1', '1', '1', '0', '1', '1', '1']\n",
      "\n",
      "Generation:  74 \n",
      "Total price:  23081.660000000003 \n",
      "Space:  2.0472089899999997 \n",
      "Chromosome:  ['0', '1', '1', '1', '1', '1', '0', '1', '1', '1', '0', '0', '1', '1']\n",
      "\n",
      "Generation:  75 \n",
      "Total price:  23081.660000000003 \n",
      "Space:  2.0472089899999997 \n",
      "Chromosome:  ['0', '1', '1', '1', '1', '1', '0', '1', '1', '1', '0', '0', '1', '1']\n",
      "\n",
      "Generation:  76 \n",
      "Total price:  23081.660000000003 \n",
      "Space:  2.0472089899999997 \n",
      "Chromosome:  ['0', '1', '1', '1', '1', '1', '0', '1', '1', '1', '0', '0', '1', '1']\n",
      "\n",
      "Generation:  77 \n",
      "Total price:  23081.660000000003 \n",
      "Space:  2.0472089899999997 \n",
      "Chromosome:  ['0', '1', '1', '1', '1', '1', '0', '1', '1', '1', '0', '0', '1', '1']\n",
      "\n",
      "Generation:  78 \n",
      "Total price:  23081.660000000003 \n",
      "Space:  2.0472089899999997 \n",
      "Chromosome:  ['0', '1', '1', '1', '1', '1', '0', '1', '1', '1', '0', '0', '1', '1']\n",
      "\n",
      "Generation:  79 \n",
      "Total price:  23081.660000000003 \n",
      "Space:  2.0472089899999997 \n",
      "Chromosome:  ['0', '1', '1', '1', '1', '1', '0', '1', '1', '1', '0', '0', '1', '1']\n",
      "\n",
      "Generation:  80 \n",
      "Total price:  23081.660000000003 \n",
      "Space:  2.0472089899999997 \n",
      "Chromosome:  ['0', '1', '1', '1', '1', '1', '0', '1', '1', '1', '0', '0', '1', '1']\n",
      "\n",
      "Generation:  81 \n",
      "Total price:  23081.660000000003 \n",
      "Space:  2.0472089899999997 \n",
      "Chromosome:  ['0', '1', '1', '1', '1', '1', '0', '1', '1', '1', '0', '0', '1', '1']\n",
      "\n",
      "Generation:  82 \n",
      "Total price:  23081.660000000003 \n",
      "Space:  2.0472089899999997 \n",
      "Chromosome:  ['0', '1', '1', '1', '1', '1', '0', '1', '1', '1', '0', '0', '1', '1']\n",
      "\n",
      "Generation:  83 \n",
      "Total price:  23930.660000000003 \n",
      "Space:  2.68220899 \n",
      "Chromosome:  ['0', '1', '1', '1', '1', '1', '0', '1', '1', '1', '1', '0', '1', '1']\n",
      "\n",
      "Generation:  84 \n",
      "Total price:  23081.660000000003 \n",
      "Space:  2.0472089899999997 \n",
      "Chromosome:  ['0', '1', '1', '1', '1', '1', '0', '1', '1', '1', '0', '0', '1', '1']\n",
      "\n",
      "Generation:  85 \n",
      "Total price:  23081.660000000003 \n",
      "Space:  2.0472089899999997 \n",
      "Chromosome:  ['0', '1', '1', '1', '1', '1', '0', '1', '1', '1', '0', '0', '1', '1']\n",
      "\n",
      "Generation:  86 \n",
      "Total price:  23081.660000000003 \n",
      "Space:  2.0472089899999997 \n",
      "Chromosome:  ['0', '1', '1', '1', '1', '1', '0', '1', '1', '1', '0', '0', '1', '1']\n",
      "\n",
      "Generation:  87 \n",
      "Total price:  24081.560000000005 \n",
      "Space:  2.79820899 \n",
      "Chromosome:  ['1', '1', '1', '1', '1', '1', '0', '1', '1', '1', '0', '0', '1', '1']\n",
      "\n",
      "Generation:  88 \n",
      "Total price:  23081.660000000003 \n",
      "Space:  2.0472089899999997 \n",
      "Chromosome:  ['0', '1', '1', '1', '1', '1', '0', '1', '1', '1', '0', '0', '1', '1']\n",
      "\n",
      "Generation:  89 \n",
      "Total price:  23930.660000000003 \n",
      "Space:  2.68220899 \n",
      "Chromosome:  ['0', '1', '1', '1', '1', '1', '0', '1', '1', '1', '1', '0', '1', '1']\n",
      "\n",
      "Generation:  90 \n",
      "Total price:  23930.660000000003 \n",
      "Space:  2.68220899 \n",
      "Chromosome:  ['0', '1', '1', '1', '1', '1', '0', '1', '1', '1', '1', '0', '1', '1']\n",
      "\n",
      "Generation:  91 \n",
      "Total price:  23081.660000000003 \n",
      "Space:  2.0472089899999997 \n",
      "Chromosome:  ['0', '1', '1', '1', '1', '1', '0', '1', '1', '1', '0', '0', '1', '1']\n",
      "\n",
      "Generation:  92 \n",
      "Total price:  23081.660000000003 \n",
      "Space:  2.0472089899999997 \n",
      "Chromosome:  ['0', '1', '1', '1', '1', '1', '0', '1', '1', '1', '0', '0', '1', '1']\n",
      "\n",
      "Generation:  93 \n",
      "Total price:  23930.660000000003 \n",
      "Space:  2.68220899 \n",
      "Chromosome:  ['0', '1', '1', '1', '1', '1', '0', '1', '1', '1', '1', '0', '1', '1']\n",
      "\n",
      "Generation:  94 \n",
      "Total price:  23081.660000000003 \n",
      "Space:  2.0472089899999997 \n",
      "Chromosome:  ['0', '1', '1', '1', '1', '1', '0', '1', '1', '1', '0', '0', '1', '1']\n",
      "\n",
      "Generation:  95 \n",
      "Total price:  23081.660000000003 \n",
      "Space:  2.0472089899999997 \n",
      "Chromosome:  ['0', '1', '1', '1', '1', '1', '0', '1', '1', '1', '0', '0', '1', '1']\n",
      "\n",
      "Generation:  96 \n",
      "Total price:  23930.660000000003 \n",
      "Space:  2.68220899 \n",
      "Chromosome:  ['0', '1', '1', '1', '1', '1', '0', '1', '1', '1', '1', '0', '1', '1']\n",
      "\n",
      "Generation:  97 \n",
      "Total price:  23081.660000000003 \n",
      "Space:  2.0472089899999997 \n",
      "Chromosome:  ['0', '1', '1', '1', '1', '1', '0', '1', '1', '1', '0', '0', '1', '1']\n",
      "\n",
      "Generation:  98 \n",
      "Total price:  23081.660000000003 \n",
      "Space:  2.0472089899999997 \n",
      "Chromosome:  ['0', '1', '1', '1', '1', '1', '0', '1', '1', '1', '0', '0', '1', '1']\n",
      "\n",
      "Generation:  99 \n",
      "Total price:  23081.660000000003 \n",
      "Space:  2.0472089899999997 \n",
      "Chromosome:  ['0', '1', '1', '1', '1', '1', '0', '1', '1', '1', '0', '0', '1', '1']\n",
      "\n",
      "Generation:  100 \n",
      "Total price:  23081.660000000003 \n",
      "Space:  2.0472089899999997 \n",
      "Chromosome:  ['0', '1', '1', '1', '1', '1', '0', '1', '1', '1', '0', '0', '1', '1']\n",
      "\n",
      "**** Best Solution ****\n",
      "Generation:  73 \n",
      "Total price:  24281.550000000003 \n",
      "Space:  2.91720899 \n",
      "Chromosome:  ['0', '1', '1', '1', '1', '1', '0', '1', '1', '1', '0', '1', '1', '1']\n",
      "['0', '1', '1', '1', '1', '1', '0', '1', '1', '1', '0', '1', '1', '1']\n",
      "Name:  Cell phone  - Price:  2199.12\n",
      "Name:  TV 55  - Price:  4346.99\n",
      "Name:  TV 50'   - Price:  3999.9\n",
      "Name:  TV 42'   - Price:  2999.0\n",
      "Name:  Notebook A  - Price:  2499.9\n",
      "Name:  Microwave A  - Price:  308.66\n",
      "Name:  Microwave B  - Price:  429.9\n",
      "Name:  Microwave C  - Price:  299.29\n",
      "Name:  Refrigerator C  - Price:  1199.89\n",
      "Name:  Notebook B  - Price:  1999.9\n",
      "Name:  Notebook C  - Price:  3999.0\n"
     ]
    }
   ],
   "source": [
    "products_list = []\n",
    "products_list.append(Product('Refrigerator A', 0.751, 999.9))\n",
    "products_list.append(Product('Cell phone', 0.00000899, 2199.12))\n",
    "products_list.append(Product('TV 55', 0.400, 4346.99))\n",
    "products_list.append(Product(\"TV 50' \", 0.290, 3999.90))\n",
    "products_list.append(Product(\"TV 42' \", 0.200, 2999.00))\n",
    "products_list.append(Product(\"Notebook A\", 0.00350, 2499.90))\n",
    "products_list.append(Product(\"Ventilator\", 0.496, 199.90))\n",
    "products_list.append(Product(\"Microwave A\", 0.0424, 308.66))\n",
    "products_list.append(Product(\"Microwave B\", 0.0544, 429.90))\n",
    "products_list.append(Product(\"Microwave C\", 0.0319, 299.29))\n",
    "products_list.append(Product(\"Refrigerator B\", 0.635, 849.00))\n",
    "products_list.append(Product(\"Refrigerator C\", 0.870, 1199.89))\n",
    "products_list.append(Product(\"Notebook B\", 0.498, 1999.90))\n",
    "products_list.append(Product(\"Notebook C\", 0.527, 3999.00))\n",
    "\n",
    "prices = []\n",
    "names = []\n",
    "spaces = []\n",
    "\n",
    "for product in products_list:\n",
    "    prices.append(product.price)\n",
    "    names.append(product.name)\n",
    "    spaces.append(product.space)\n",
    "limit = 3\n",
    "population_size = 20\n",
    "mutation_probablity = 0.01\n",
    "number_of_generations = 100\n",
    "\n",
    "ga = GeneticAlgorithm(population_size)\n",
    "result = ga.solve(mutation_probability, number_of_generations, spaces, prices, limit)\n",
    "print(result)\n",
    "for i in range(len(products_list)):\n",
    "    if result[i] == '1':\n",
    "        print('Name: ', products_list[i].name, ' - Price: ', products_list[i].price)"
   ]
  },
  {
   "cell_type": "code",
   "execution_count": 69,
   "metadata": {},
   "outputs": [],
   "source": [
    "# for value in ga.list_of_solutions:\n",
    "#     print(value)"
   ]
  },
  {
   "cell_type": "code",
   "execution_count": 70,
   "metadata": {},
   "outputs": [
    {
     "data": {
      "application/vnd.plotly.v1+json": {
       "config": {
        "plotlyServerURL": "https://plot.ly"
       },
       "data": [
        {
         "hovertemplate": "x=%{x}<br>y=%{y}<extra></extra>",
         "legendgroup": "",
         "line": {
          "color": "#636efa",
          "dash": "solid"
         },
         "mode": "lines",
         "name": "",
         "orientation": "v",
         "showlegend": false,
         "type": "scatter",
         "x": [
          0,
          1,
          2,
          3,
          4,
          5,
          6,
          7,
          8,
          9,
          10,
          11,
          12,
          13,
          14,
          15,
          16,
          17,
          18,
          19,
          20,
          21,
          22,
          23,
          24,
          25,
          26,
          27,
          28,
          29,
          30,
          31,
          32,
          33,
          34,
          35,
          36,
          37,
          38,
          39,
          40,
          41,
          42,
          43,
          44,
          45,
          46,
          47,
          48,
          49,
          50,
          51,
          52,
          53,
          54,
          55,
          56,
          57,
          58,
          59,
          60,
          61,
          62,
          63,
          64,
          65,
          66,
          67,
          68,
          69,
          70,
          71,
          72,
          73,
          74,
          75,
          76,
          77,
          78,
          79,
          80,
          81,
          82,
          83,
          84,
          85,
          86,
          87,
          88,
          89,
          90,
          91,
          92,
          93,
          94,
          95,
          96,
          97,
          98,
          99,
          100
         ],
         "xaxis": "x",
         "y": [
          19625.809999999998,
          12084.539999999999,
          1,
          18322.809999999998,
          13823.91,
          1,
          14823.81,
          18673.699999999997,
          18975.72,
          14874.699999999999,
          22473.710000000003,
          23673.600000000002,
          21673.7,
          21972.99,
          17673.8,
          19674.600000000002,
          17673.8,
          18473.809999999998,
          18474.710000000003,
          19673.699999999997,
          19673.699999999997,
          22473.710000000003,
          22473.710000000003,
          18774.000000000004,
          20473.81,
          22473.710000000003,
          21673.7,
          22773.000000000004,
          22972.9,
          23673.600000000002,
          22773.000000000004,
          22773.000000000004,
          22773.000000000004,
          23772.900000000005,
          23322.710000000003,
          22773.000000000004,
          23281.560000000005,
          22473.710000000003,
          23772.900000000005,
          22773.000000000004,
          22773.000000000004,
          22773.000000000004,
          22773.000000000004,
          1,
          22773.000000000004,
          22773.000000000004,
          22773.000000000004,
          22773.000000000004,
          22773.000000000004,
          22773.000000000004,
          22773.000000000004,
          22773.000000000004,
          22773.000000000004,
          22773.000000000004,
          22773.000000000004,
          22773.000000000004,
          22773.000000000004,
          22773.000000000004,
          23622.000000000004,
          22773.000000000004,
          23772.900000000005,
          22773.000000000004,
          22773.000000000004,
          23972.890000000003,
          23972.890000000003,
          23081.660000000003,
          23972.890000000003,
          24081.560000000005,
          23972.890000000003,
          23081.660000000003,
          1,
          23081.660000000003,
          22773.000000000004,
          24281.550000000003,
          23081.660000000003,
          23081.660000000003,
          23081.660000000003,
          23081.660000000003,
          23081.660000000003,
          23081.660000000003,
          23081.660000000003,
          23081.660000000003,
          23081.660000000003,
          23930.660000000003,
          23081.660000000003,
          23081.660000000003,
          23081.660000000003,
          24081.560000000005,
          23081.660000000003,
          23930.660000000003,
          23930.660000000003,
          23081.660000000003,
          23081.660000000003,
          23930.660000000003,
          23081.660000000003,
          23081.660000000003,
          23930.660000000003,
          23081.660000000003,
          23081.660000000003,
          23081.660000000003,
          23081.660000000003
         ],
         "yaxis": "y"
        }
       ],
       "layout": {
        "legend": {
         "tracegroupgap": 0
        },
        "template": {
         "data": {
          "bar": [
           {
            "error_x": {
             "color": "#2a3f5f"
            },
            "error_y": {
             "color": "#2a3f5f"
            },
            "marker": {
             "line": {
              "color": "#E5ECF6",
              "width": 0.5
             }
            },
            "type": "bar"
           }
          ],
          "barpolar": [
           {
            "marker": {
             "line": {
              "color": "#E5ECF6",
              "width": 0.5
             }
            },
            "type": "barpolar"
           }
          ],
          "carpet": [
           {
            "aaxis": {
             "endlinecolor": "#2a3f5f",
             "gridcolor": "white",
             "linecolor": "white",
             "minorgridcolor": "white",
             "startlinecolor": "#2a3f5f"
            },
            "baxis": {
             "endlinecolor": "#2a3f5f",
             "gridcolor": "white",
             "linecolor": "white",
             "minorgridcolor": "white",
             "startlinecolor": "#2a3f5f"
            },
            "type": "carpet"
           }
          ],
          "choropleth": [
           {
            "colorbar": {
             "outlinewidth": 0,
             "ticks": ""
            },
            "type": "choropleth"
           }
          ],
          "contour": [
           {
            "colorbar": {
             "outlinewidth": 0,
             "ticks": ""
            },
            "colorscale": [
             [
              0,
              "#0d0887"
             ],
             [
              0.1111111111111111,
              "#46039f"
             ],
             [
              0.2222222222222222,
              "#7201a8"
             ],
             [
              0.3333333333333333,
              "#9c179e"
             ],
             [
              0.4444444444444444,
              "#bd3786"
             ],
             [
              0.5555555555555556,
              "#d8576b"
             ],
             [
              0.6666666666666666,
              "#ed7953"
             ],
             [
              0.7777777777777778,
              "#fb9f3a"
             ],
             [
              0.8888888888888888,
              "#fdca26"
             ],
             [
              1,
              "#f0f921"
             ]
            ],
            "type": "contour"
           }
          ],
          "contourcarpet": [
           {
            "colorbar": {
             "outlinewidth": 0,
             "ticks": ""
            },
            "type": "contourcarpet"
           }
          ],
          "heatmap": [
           {
            "colorbar": {
             "outlinewidth": 0,
             "ticks": ""
            },
            "colorscale": [
             [
              0,
              "#0d0887"
             ],
             [
              0.1111111111111111,
              "#46039f"
             ],
             [
              0.2222222222222222,
              "#7201a8"
             ],
             [
              0.3333333333333333,
              "#9c179e"
             ],
             [
              0.4444444444444444,
              "#bd3786"
             ],
             [
              0.5555555555555556,
              "#d8576b"
             ],
             [
              0.6666666666666666,
              "#ed7953"
             ],
             [
              0.7777777777777778,
              "#fb9f3a"
             ],
             [
              0.8888888888888888,
              "#fdca26"
             ],
             [
              1,
              "#f0f921"
             ]
            ],
            "type": "heatmap"
           }
          ],
          "heatmapgl": [
           {
            "colorbar": {
             "outlinewidth": 0,
             "ticks": ""
            },
            "colorscale": [
             [
              0,
              "#0d0887"
             ],
             [
              0.1111111111111111,
              "#46039f"
             ],
             [
              0.2222222222222222,
              "#7201a8"
             ],
             [
              0.3333333333333333,
              "#9c179e"
             ],
             [
              0.4444444444444444,
              "#bd3786"
             ],
             [
              0.5555555555555556,
              "#d8576b"
             ],
             [
              0.6666666666666666,
              "#ed7953"
             ],
             [
              0.7777777777777778,
              "#fb9f3a"
             ],
             [
              0.8888888888888888,
              "#fdca26"
             ],
             [
              1,
              "#f0f921"
             ]
            ],
            "type": "heatmapgl"
           }
          ],
          "histogram": [
           {
            "marker": {
             "colorbar": {
              "outlinewidth": 0,
              "ticks": ""
             }
            },
            "type": "histogram"
           }
          ],
          "histogram2d": [
           {
            "colorbar": {
             "outlinewidth": 0,
             "ticks": ""
            },
            "colorscale": [
             [
              0,
              "#0d0887"
             ],
             [
              0.1111111111111111,
              "#46039f"
             ],
             [
              0.2222222222222222,
              "#7201a8"
             ],
             [
              0.3333333333333333,
              "#9c179e"
             ],
             [
              0.4444444444444444,
              "#bd3786"
             ],
             [
              0.5555555555555556,
              "#d8576b"
             ],
             [
              0.6666666666666666,
              "#ed7953"
             ],
             [
              0.7777777777777778,
              "#fb9f3a"
             ],
             [
              0.8888888888888888,
              "#fdca26"
             ],
             [
              1,
              "#f0f921"
             ]
            ],
            "type": "histogram2d"
           }
          ],
          "histogram2dcontour": [
           {
            "colorbar": {
             "outlinewidth": 0,
             "ticks": ""
            },
            "colorscale": [
             [
              0,
              "#0d0887"
             ],
             [
              0.1111111111111111,
              "#46039f"
             ],
             [
              0.2222222222222222,
              "#7201a8"
             ],
             [
              0.3333333333333333,
              "#9c179e"
             ],
             [
              0.4444444444444444,
              "#bd3786"
             ],
             [
              0.5555555555555556,
              "#d8576b"
             ],
             [
              0.6666666666666666,
              "#ed7953"
             ],
             [
              0.7777777777777778,
              "#fb9f3a"
             ],
             [
              0.8888888888888888,
              "#fdca26"
             ],
             [
              1,
              "#f0f921"
             ]
            ],
            "type": "histogram2dcontour"
           }
          ],
          "mesh3d": [
           {
            "colorbar": {
             "outlinewidth": 0,
             "ticks": ""
            },
            "type": "mesh3d"
           }
          ],
          "parcoords": [
           {
            "line": {
             "colorbar": {
              "outlinewidth": 0,
              "ticks": ""
             }
            },
            "type": "parcoords"
           }
          ],
          "pie": [
           {
            "automargin": true,
            "type": "pie"
           }
          ],
          "scatter": [
           {
            "marker": {
             "colorbar": {
              "outlinewidth": 0,
              "ticks": ""
             }
            },
            "type": "scatter"
           }
          ],
          "scatter3d": [
           {
            "line": {
             "colorbar": {
              "outlinewidth": 0,
              "ticks": ""
             }
            },
            "marker": {
             "colorbar": {
              "outlinewidth": 0,
              "ticks": ""
             }
            },
            "type": "scatter3d"
           }
          ],
          "scattercarpet": [
           {
            "marker": {
             "colorbar": {
              "outlinewidth": 0,
              "ticks": ""
             }
            },
            "type": "scattercarpet"
           }
          ],
          "scattergeo": [
           {
            "marker": {
             "colorbar": {
              "outlinewidth": 0,
              "ticks": ""
             }
            },
            "type": "scattergeo"
           }
          ],
          "scattergl": [
           {
            "marker": {
             "colorbar": {
              "outlinewidth": 0,
              "ticks": ""
             }
            },
            "type": "scattergl"
           }
          ],
          "scattermapbox": [
           {
            "marker": {
             "colorbar": {
              "outlinewidth": 0,
              "ticks": ""
             }
            },
            "type": "scattermapbox"
           }
          ],
          "scatterpolar": [
           {
            "marker": {
             "colorbar": {
              "outlinewidth": 0,
              "ticks": ""
             }
            },
            "type": "scatterpolar"
           }
          ],
          "scatterpolargl": [
           {
            "marker": {
             "colorbar": {
              "outlinewidth": 0,
              "ticks": ""
             }
            },
            "type": "scatterpolargl"
           }
          ],
          "scatterternary": [
           {
            "marker": {
             "colorbar": {
              "outlinewidth": 0,
              "ticks": ""
             }
            },
            "type": "scatterternary"
           }
          ],
          "surface": [
           {
            "colorbar": {
             "outlinewidth": 0,
             "ticks": ""
            },
            "colorscale": [
             [
              0,
              "#0d0887"
             ],
             [
              0.1111111111111111,
              "#46039f"
             ],
             [
              0.2222222222222222,
              "#7201a8"
             ],
             [
              0.3333333333333333,
              "#9c179e"
             ],
             [
              0.4444444444444444,
              "#bd3786"
             ],
             [
              0.5555555555555556,
              "#d8576b"
             ],
             [
              0.6666666666666666,
              "#ed7953"
             ],
             [
              0.7777777777777778,
              "#fb9f3a"
             ],
             [
              0.8888888888888888,
              "#fdca26"
             ],
             [
              1,
              "#f0f921"
             ]
            ],
            "type": "surface"
           }
          ],
          "table": [
           {
            "cells": {
             "fill": {
              "color": "#EBF0F8"
             },
             "line": {
              "color": "white"
             }
            },
            "header": {
             "fill": {
              "color": "#C8D4E3"
             },
             "line": {
              "color": "white"
             }
            },
            "type": "table"
           }
          ]
         },
         "layout": {
          "annotationdefaults": {
           "arrowcolor": "#2a3f5f",
           "arrowhead": 0,
           "arrowwidth": 1
          },
          "coloraxis": {
           "colorbar": {
            "outlinewidth": 0,
            "ticks": ""
           }
          },
          "colorscale": {
           "diverging": [
            [
             0,
             "#8e0152"
            ],
            [
             0.1,
             "#c51b7d"
            ],
            [
             0.2,
             "#de77ae"
            ],
            [
             0.3,
             "#f1b6da"
            ],
            [
             0.4,
             "#fde0ef"
            ],
            [
             0.5,
             "#f7f7f7"
            ],
            [
             0.6,
             "#e6f5d0"
            ],
            [
             0.7,
             "#b8e186"
            ],
            [
             0.8,
             "#7fbc41"
            ],
            [
             0.9,
             "#4d9221"
            ],
            [
             1,
             "#276419"
            ]
           ],
           "sequential": [
            [
             0,
             "#0d0887"
            ],
            [
             0.1111111111111111,
             "#46039f"
            ],
            [
             0.2222222222222222,
             "#7201a8"
            ],
            [
             0.3333333333333333,
             "#9c179e"
            ],
            [
             0.4444444444444444,
             "#bd3786"
            ],
            [
             0.5555555555555556,
             "#d8576b"
            ],
            [
             0.6666666666666666,
             "#ed7953"
            ],
            [
             0.7777777777777778,
             "#fb9f3a"
            ],
            [
             0.8888888888888888,
             "#fdca26"
            ],
            [
             1,
             "#f0f921"
            ]
           ],
           "sequentialminus": [
            [
             0,
             "#0d0887"
            ],
            [
             0.1111111111111111,
             "#46039f"
            ],
            [
             0.2222222222222222,
             "#7201a8"
            ],
            [
             0.3333333333333333,
             "#9c179e"
            ],
            [
             0.4444444444444444,
             "#bd3786"
            ],
            [
             0.5555555555555556,
             "#d8576b"
            ],
            [
             0.6666666666666666,
             "#ed7953"
            ],
            [
             0.7777777777777778,
             "#fb9f3a"
            ],
            [
             0.8888888888888888,
             "#fdca26"
            ],
            [
             1,
             "#f0f921"
            ]
           ]
          },
          "colorway": [
           "#636efa",
           "#EF553B",
           "#00cc96",
           "#ab63fa",
           "#FFA15A",
           "#19d3f3",
           "#FF6692",
           "#B6E880",
           "#FF97FF",
           "#FECB52"
          ],
          "font": {
           "color": "#2a3f5f"
          },
          "geo": {
           "bgcolor": "white",
           "lakecolor": "white",
           "landcolor": "#E5ECF6",
           "showlakes": true,
           "showland": true,
           "subunitcolor": "white"
          },
          "hoverlabel": {
           "align": "left"
          },
          "hovermode": "closest",
          "mapbox": {
           "style": "light"
          },
          "paper_bgcolor": "white",
          "plot_bgcolor": "#E5ECF6",
          "polar": {
           "angularaxis": {
            "gridcolor": "white",
            "linecolor": "white",
            "ticks": ""
           },
           "bgcolor": "#E5ECF6",
           "radialaxis": {
            "gridcolor": "white",
            "linecolor": "white",
            "ticks": ""
           }
          },
          "scene": {
           "xaxis": {
            "backgroundcolor": "#E5ECF6",
            "gridcolor": "white",
            "gridwidth": 2,
            "linecolor": "white",
            "showbackground": true,
            "ticks": "",
            "zerolinecolor": "white"
           },
           "yaxis": {
            "backgroundcolor": "#E5ECF6",
            "gridcolor": "white",
            "gridwidth": 2,
            "linecolor": "white",
            "showbackground": true,
            "ticks": "",
            "zerolinecolor": "white"
           },
           "zaxis": {
            "backgroundcolor": "#E5ECF6",
            "gridcolor": "white",
            "gridwidth": 2,
            "linecolor": "white",
            "showbackground": true,
            "ticks": "",
            "zerolinecolor": "white"
           }
          },
          "shapedefaults": {
           "line": {
            "color": "#2a3f5f"
           }
          },
          "ternary": {
           "aaxis": {
            "gridcolor": "white",
            "linecolor": "white",
            "ticks": ""
           },
           "baxis": {
            "gridcolor": "white",
            "linecolor": "white",
            "ticks": ""
           },
           "bgcolor": "#E5ECF6",
           "caxis": {
            "gridcolor": "white",
            "linecolor": "white",
            "ticks": ""
           }
          },
          "title": {
           "x": 0.05
          },
          "xaxis": {
           "automargin": true,
           "gridcolor": "white",
           "linecolor": "white",
           "ticks": "",
           "title": {
            "standoff": 15
           },
           "zerolinecolor": "white",
           "zerolinewidth": 2
          },
          "yaxis": {
           "automargin": true,
           "gridcolor": "white",
           "linecolor": "white",
           "ticks": "",
           "title": {
            "standoff": 15
           },
           "zerolinecolor": "white",
           "zerolinewidth": 2
          }
         }
        },
        "title": {
         "text": "Genetic Algorithm results"
        },
        "xaxis": {
         "anchor": "y",
         "domain": [
          0,
          1
         ],
         "title": {
          "text": "x"
         }
        },
        "yaxis": {
         "anchor": "x",
         "domain": [
          0,
          1
         ],
         "title": {
          "text": "y"
         }
        }
       }
      },
      "text/html": [
       "<div>\n",
       "        \n",
       "        \n",
       "            <div id=\"96029fc5-20e7-4a21-9251-6a55b324278d\" class=\"plotly-graph-div\" style=\"height:525px; width:100%;\"></div>\n",
       "            <script type=\"text/javascript\">\n",
       "                require([\"plotly\"], function(Plotly) {\n",
       "                    window.PLOTLYENV=window.PLOTLYENV || {};\n",
       "                    \n",
       "                if (document.getElementById(\"96029fc5-20e7-4a21-9251-6a55b324278d\")) {\n",
       "                    Plotly.newPlot(\n",
       "                        '96029fc5-20e7-4a21-9251-6a55b324278d',\n",
       "                        [{\"hovertemplate\": \"x=%{x}<br>y=%{y}<extra></extra>\", \"legendgroup\": \"\", \"line\": {\"color\": \"#636efa\", \"dash\": \"solid\"}, \"mode\": \"lines\", \"name\": \"\", \"orientation\": \"v\", \"showlegend\": false, \"type\": \"scatter\", \"x\": [0, 1, 2, 3, 4, 5, 6, 7, 8, 9, 10, 11, 12, 13, 14, 15, 16, 17, 18, 19, 20, 21, 22, 23, 24, 25, 26, 27, 28, 29, 30, 31, 32, 33, 34, 35, 36, 37, 38, 39, 40, 41, 42, 43, 44, 45, 46, 47, 48, 49, 50, 51, 52, 53, 54, 55, 56, 57, 58, 59, 60, 61, 62, 63, 64, 65, 66, 67, 68, 69, 70, 71, 72, 73, 74, 75, 76, 77, 78, 79, 80, 81, 82, 83, 84, 85, 86, 87, 88, 89, 90, 91, 92, 93, 94, 95, 96, 97, 98, 99, 100], \"xaxis\": \"x\", \"y\": [19625.809999999998, 12084.539999999999, 1.0, 18322.809999999998, 13823.91, 1.0, 14823.81, 18673.699999999997, 18975.72, 14874.699999999999, 22473.710000000003, 23673.600000000002, 21673.7, 21972.99, 17673.8, 19674.600000000002, 17673.8, 18473.809999999998, 18474.710000000003, 19673.699999999997, 19673.699999999997, 22473.710000000003, 22473.710000000003, 18774.000000000004, 20473.81, 22473.710000000003, 21673.7, 22773.000000000004, 22972.9, 23673.600000000002, 22773.000000000004, 22773.000000000004, 22773.000000000004, 23772.900000000005, 23322.710000000003, 22773.000000000004, 23281.560000000005, 22473.710000000003, 23772.900000000005, 22773.000000000004, 22773.000000000004, 22773.000000000004, 22773.000000000004, 1.0, 22773.000000000004, 22773.000000000004, 22773.000000000004, 22773.000000000004, 22773.000000000004, 22773.000000000004, 22773.000000000004, 22773.000000000004, 22773.000000000004, 22773.000000000004, 22773.000000000004, 22773.000000000004, 22773.000000000004, 22773.000000000004, 23622.000000000004, 22773.000000000004, 23772.900000000005, 22773.000000000004, 22773.000000000004, 23972.890000000003, 23972.890000000003, 23081.660000000003, 23972.890000000003, 24081.560000000005, 23972.890000000003, 23081.660000000003, 1.0, 23081.660000000003, 22773.000000000004, 24281.550000000003, 23081.660000000003, 23081.660000000003, 23081.660000000003, 23081.660000000003, 23081.660000000003, 23081.660000000003, 23081.660000000003, 23081.660000000003, 23081.660000000003, 23930.660000000003, 23081.660000000003, 23081.660000000003, 23081.660000000003, 24081.560000000005, 23081.660000000003, 23930.660000000003, 23930.660000000003, 23081.660000000003, 23081.660000000003, 23930.660000000003, 23081.660000000003, 23081.660000000003, 23930.660000000003, 23081.660000000003, 23081.660000000003, 23081.660000000003, 23081.660000000003], \"yaxis\": \"y\"}],\n",
       "                        {\"legend\": {\"tracegroupgap\": 0}, \"template\": {\"data\": {\"bar\": [{\"error_x\": {\"color\": \"#2a3f5f\"}, \"error_y\": {\"color\": \"#2a3f5f\"}, \"marker\": {\"line\": {\"color\": \"#E5ECF6\", \"width\": 0.5}}, \"type\": \"bar\"}], \"barpolar\": [{\"marker\": {\"line\": {\"color\": \"#E5ECF6\", \"width\": 0.5}}, \"type\": \"barpolar\"}], \"carpet\": [{\"aaxis\": {\"endlinecolor\": \"#2a3f5f\", \"gridcolor\": \"white\", \"linecolor\": \"white\", \"minorgridcolor\": \"white\", \"startlinecolor\": \"#2a3f5f\"}, \"baxis\": {\"endlinecolor\": \"#2a3f5f\", \"gridcolor\": \"white\", \"linecolor\": \"white\", \"minorgridcolor\": \"white\", \"startlinecolor\": \"#2a3f5f\"}, \"type\": \"carpet\"}], \"choropleth\": [{\"colorbar\": {\"outlinewidth\": 0, \"ticks\": \"\"}, \"type\": \"choropleth\"}], \"contour\": [{\"colorbar\": {\"outlinewidth\": 0, \"ticks\": \"\"}, \"colorscale\": [[0.0, \"#0d0887\"], [0.1111111111111111, \"#46039f\"], [0.2222222222222222, \"#7201a8\"], [0.3333333333333333, \"#9c179e\"], [0.4444444444444444, \"#bd3786\"], [0.5555555555555556, \"#d8576b\"], [0.6666666666666666, \"#ed7953\"], [0.7777777777777778, \"#fb9f3a\"], [0.8888888888888888, \"#fdca26\"], [1.0, \"#f0f921\"]], \"type\": \"contour\"}], \"contourcarpet\": [{\"colorbar\": {\"outlinewidth\": 0, \"ticks\": \"\"}, \"type\": \"contourcarpet\"}], \"heatmap\": [{\"colorbar\": {\"outlinewidth\": 0, \"ticks\": \"\"}, \"colorscale\": [[0.0, \"#0d0887\"], [0.1111111111111111, \"#46039f\"], [0.2222222222222222, \"#7201a8\"], [0.3333333333333333, \"#9c179e\"], [0.4444444444444444, \"#bd3786\"], [0.5555555555555556, \"#d8576b\"], [0.6666666666666666, \"#ed7953\"], [0.7777777777777778, \"#fb9f3a\"], [0.8888888888888888, \"#fdca26\"], [1.0, \"#f0f921\"]], \"type\": \"heatmap\"}], \"heatmapgl\": [{\"colorbar\": {\"outlinewidth\": 0, \"ticks\": \"\"}, \"colorscale\": [[0.0, \"#0d0887\"], [0.1111111111111111, \"#46039f\"], [0.2222222222222222, \"#7201a8\"], [0.3333333333333333, \"#9c179e\"], [0.4444444444444444, \"#bd3786\"], [0.5555555555555556, \"#d8576b\"], [0.6666666666666666, \"#ed7953\"], [0.7777777777777778, \"#fb9f3a\"], [0.8888888888888888, \"#fdca26\"], [1.0, \"#f0f921\"]], \"type\": \"heatmapgl\"}], \"histogram\": [{\"marker\": {\"colorbar\": {\"outlinewidth\": 0, \"ticks\": \"\"}}, \"type\": \"histogram\"}], \"histogram2d\": [{\"colorbar\": {\"outlinewidth\": 0, \"ticks\": \"\"}, \"colorscale\": [[0.0, \"#0d0887\"], [0.1111111111111111, \"#46039f\"], [0.2222222222222222, \"#7201a8\"], [0.3333333333333333, \"#9c179e\"], [0.4444444444444444, \"#bd3786\"], [0.5555555555555556, \"#d8576b\"], [0.6666666666666666, \"#ed7953\"], [0.7777777777777778, \"#fb9f3a\"], [0.8888888888888888, \"#fdca26\"], [1.0, \"#f0f921\"]], \"type\": \"histogram2d\"}], \"histogram2dcontour\": [{\"colorbar\": {\"outlinewidth\": 0, \"ticks\": \"\"}, \"colorscale\": [[0.0, \"#0d0887\"], [0.1111111111111111, \"#46039f\"], [0.2222222222222222, \"#7201a8\"], [0.3333333333333333, \"#9c179e\"], [0.4444444444444444, \"#bd3786\"], [0.5555555555555556, \"#d8576b\"], [0.6666666666666666, \"#ed7953\"], [0.7777777777777778, \"#fb9f3a\"], [0.8888888888888888, \"#fdca26\"], [1.0, \"#f0f921\"]], \"type\": \"histogram2dcontour\"}], \"mesh3d\": [{\"colorbar\": {\"outlinewidth\": 0, \"ticks\": \"\"}, \"type\": \"mesh3d\"}], \"parcoords\": [{\"line\": {\"colorbar\": {\"outlinewidth\": 0, \"ticks\": \"\"}}, \"type\": \"parcoords\"}], \"pie\": [{\"automargin\": true, \"type\": \"pie\"}], \"scatter\": [{\"marker\": {\"colorbar\": {\"outlinewidth\": 0, \"ticks\": \"\"}}, \"type\": \"scatter\"}], \"scatter3d\": [{\"line\": {\"colorbar\": {\"outlinewidth\": 0, \"ticks\": \"\"}}, \"marker\": {\"colorbar\": {\"outlinewidth\": 0, \"ticks\": \"\"}}, \"type\": \"scatter3d\"}], \"scattercarpet\": [{\"marker\": {\"colorbar\": {\"outlinewidth\": 0, \"ticks\": \"\"}}, \"type\": \"scattercarpet\"}], \"scattergeo\": [{\"marker\": {\"colorbar\": {\"outlinewidth\": 0, \"ticks\": \"\"}}, \"type\": \"scattergeo\"}], \"scattergl\": [{\"marker\": {\"colorbar\": {\"outlinewidth\": 0, \"ticks\": \"\"}}, \"type\": \"scattergl\"}], \"scattermapbox\": [{\"marker\": {\"colorbar\": {\"outlinewidth\": 0, \"ticks\": \"\"}}, \"type\": \"scattermapbox\"}], \"scatterpolar\": [{\"marker\": {\"colorbar\": {\"outlinewidth\": 0, \"ticks\": \"\"}}, \"type\": \"scatterpolar\"}], \"scatterpolargl\": [{\"marker\": {\"colorbar\": {\"outlinewidth\": 0, \"ticks\": \"\"}}, \"type\": \"scatterpolargl\"}], \"scatterternary\": [{\"marker\": {\"colorbar\": {\"outlinewidth\": 0, \"ticks\": \"\"}}, \"type\": \"scatterternary\"}], \"surface\": [{\"colorbar\": {\"outlinewidth\": 0, \"ticks\": \"\"}, \"colorscale\": [[0.0, \"#0d0887\"], [0.1111111111111111, \"#46039f\"], [0.2222222222222222, \"#7201a8\"], [0.3333333333333333, \"#9c179e\"], [0.4444444444444444, \"#bd3786\"], [0.5555555555555556, \"#d8576b\"], [0.6666666666666666, \"#ed7953\"], [0.7777777777777778, \"#fb9f3a\"], [0.8888888888888888, \"#fdca26\"], [1.0, \"#f0f921\"]], \"type\": \"surface\"}], \"table\": [{\"cells\": {\"fill\": {\"color\": \"#EBF0F8\"}, \"line\": {\"color\": \"white\"}}, \"header\": {\"fill\": {\"color\": \"#C8D4E3\"}, \"line\": {\"color\": \"white\"}}, \"type\": \"table\"}]}, \"layout\": {\"annotationdefaults\": {\"arrowcolor\": \"#2a3f5f\", \"arrowhead\": 0, \"arrowwidth\": 1}, \"coloraxis\": {\"colorbar\": {\"outlinewidth\": 0, \"ticks\": \"\"}}, \"colorscale\": {\"diverging\": [[0, \"#8e0152\"], [0.1, \"#c51b7d\"], [0.2, \"#de77ae\"], [0.3, \"#f1b6da\"], [0.4, \"#fde0ef\"], [0.5, \"#f7f7f7\"], [0.6, \"#e6f5d0\"], [0.7, \"#b8e186\"], [0.8, \"#7fbc41\"], [0.9, \"#4d9221\"], [1, \"#276419\"]], \"sequential\": [[0.0, \"#0d0887\"], [0.1111111111111111, \"#46039f\"], [0.2222222222222222, \"#7201a8\"], [0.3333333333333333, \"#9c179e\"], [0.4444444444444444, \"#bd3786\"], [0.5555555555555556, \"#d8576b\"], [0.6666666666666666, \"#ed7953\"], [0.7777777777777778, \"#fb9f3a\"], [0.8888888888888888, \"#fdca26\"], [1.0, \"#f0f921\"]], \"sequentialminus\": [[0.0, \"#0d0887\"], [0.1111111111111111, \"#46039f\"], [0.2222222222222222, \"#7201a8\"], [0.3333333333333333, \"#9c179e\"], [0.4444444444444444, \"#bd3786\"], [0.5555555555555556, \"#d8576b\"], [0.6666666666666666, \"#ed7953\"], [0.7777777777777778, \"#fb9f3a\"], [0.8888888888888888, \"#fdca26\"], [1.0, \"#f0f921\"]]}, \"colorway\": [\"#636efa\", \"#EF553B\", \"#00cc96\", \"#ab63fa\", \"#FFA15A\", \"#19d3f3\", \"#FF6692\", \"#B6E880\", \"#FF97FF\", \"#FECB52\"], \"font\": {\"color\": \"#2a3f5f\"}, \"geo\": {\"bgcolor\": \"white\", \"lakecolor\": \"white\", \"landcolor\": \"#E5ECF6\", \"showlakes\": true, \"showland\": true, \"subunitcolor\": \"white\"}, \"hoverlabel\": {\"align\": \"left\"}, \"hovermode\": \"closest\", \"mapbox\": {\"style\": \"light\"}, \"paper_bgcolor\": \"white\", \"plot_bgcolor\": \"#E5ECF6\", \"polar\": {\"angularaxis\": {\"gridcolor\": \"white\", \"linecolor\": \"white\", \"ticks\": \"\"}, \"bgcolor\": \"#E5ECF6\", \"radialaxis\": {\"gridcolor\": \"white\", \"linecolor\": \"white\", \"ticks\": \"\"}}, \"scene\": {\"xaxis\": {\"backgroundcolor\": \"#E5ECF6\", \"gridcolor\": \"white\", \"gridwidth\": 2, \"linecolor\": \"white\", \"showbackground\": true, \"ticks\": \"\", \"zerolinecolor\": \"white\"}, \"yaxis\": {\"backgroundcolor\": \"#E5ECF6\", \"gridcolor\": \"white\", \"gridwidth\": 2, \"linecolor\": \"white\", \"showbackground\": true, \"ticks\": \"\", \"zerolinecolor\": \"white\"}, \"zaxis\": {\"backgroundcolor\": \"#E5ECF6\", \"gridcolor\": \"white\", \"gridwidth\": 2, \"linecolor\": \"white\", \"showbackground\": true, \"ticks\": \"\", \"zerolinecolor\": \"white\"}}, \"shapedefaults\": {\"line\": {\"color\": \"#2a3f5f\"}}, \"ternary\": {\"aaxis\": {\"gridcolor\": \"white\", \"linecolor\": \"white\", \"ticks\": \"\"}, \"baxis\": {\"gridcolor\": \"white\", \"linecolor\": \"white\", \"ticks\": \"\"}, \"bgcolor\": \"#E5ECF6\", \"caxis\": {\"gridcolor\": \"white\", \"linecolor\": \"white\", \"ticks\": \"\"}}, \"title\": {\"x\": 0.05}, \"xaxis\": {\"automargin\": true, \"gridcolor\": \"white\", \"linecolor\": \"white\", \"ticks\": \"\", \"title\": {\"standoff\": 15}, \"zerolinecolor\": \"white\", \"zerolinewidth\": 2}, \"yaxis\": {\"automargin\": true, \"gridcolor\": \"white\", \"linecolor\": \"white\", \"ticks\": \"\", \"title\": {\"standoff\": 15}, \"zerolinecolor\": \"white\", \"zerolinewidth\": 2}}}, \"title\": {\"text\": \"Genetic Algorithm results\"}, \"xaxis\": {\"anchor\": \"y\", \"domain\": [0.0, 1.0], \"title\": {\"text\": \"x\"}}, \"yaxis\": {\"anchor\": \"x\", \"domain\": [0.0, 1.0], \"title\": {\"text\": \"y\"}}},\n",
       "                        {\"responsive\": true}\n",
       "                    ).then(function(){\n",
       "                            \n",
       "var gd = document.getElementById('96029fc5-20e7-4a21-9251-6a55b324278d');\n",
       "var x = new MutationObserver(function (mutations, observer) {{\n",
       "        var display = window.getComputedStyle(gd).display;\n",
       "        if (!display || display === 'none') {{\n",
       "            console.log([gd, 'removed!']);\n",
       "            Plotly.purge(gd);\n",
       "            observer.disconnect();\n",
       "        }}\n",
       "}});\n",
       "\n",
       "// Listen for the removal of the full notebook cells\n",
       "var notebookContainer = gd.closest('#notebook-container');\n",
       "if (notebookContainer) {{\n",
       "    x.observe(notebookContainer, {childList: true});\n",
       "}}\n",
       "\n",
       "// Listen for the clearing of the current output cell\n",
       "var outputEl = gd.closest('.output');\n",
       "if (outputEl) {{\n",
       "    x.observe(outputEl, {childList: true});\n",
       "}}\n",
       "\n",
       "                        })\n",
       "                };\n",
       "                });\n",
       "            </script>\n",
       "        </div>"
      ]
     },
     "metadata": {},
     "output_type": "display_data"
    }
   ],
   "source": [
    "import plotly.express as px\n",
    "figure = px.line(x = range(0, 101), y = ga.list_of_solutions, title = 'Genetic Algorithm results')\n",
    "figure.show()"
   ]
  }
 ],
 "metadata": {
  "kernelspec": {
   "display_name": "Python 3",
   "language": "python",
   "name": "python3"
  },
  "language_info": {
   "codemirror_mode": {
    "name": "ipython",
    "version": 3
   },
   "file_extension": ".py",
   "mimetype": "text/x-python",
   "name": "python",
   "nbconvert_exporter": "python",
   "pygments_lexer": "ipython3",
   "version": "3.8.8"
  }
 },
 "nbformat": 4,
 "nbformat_minor": 1
}
