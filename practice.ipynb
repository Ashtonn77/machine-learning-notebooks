{
 "cells": [
  {
   "cell_type": "code",
   "execution_count": 1,
   "metadata": {
    "collapsed": true
   },
   "outputs": [],
   "source": [
    "import numpy as np\n",
    "import pandas as pd"
   ]
  },
  {
   "cell_type": "code",
   "execution_count": 2,
   "outputs": [],
   "source": [
    "df = pd.read_csv('mpg.csv')"
   ],
   "metadata": {
    "collapsed": false,
    "pycharm": {
     "name": "#%%\n"
    }
   }
  },
  {
   "cell_type": "code",
   "execution_count": 3,
   "outputs": [
    {
     "data": {
      "text/plain": "    mpg  cylinders  displacement horsepower  weight  acceleration  model_year  \\\n0  18.0          8         307.0        130    3504          12.0          70   \n1  15.0          8         350.0        165    3693          11.5          70   \n2  18.0          8         318.0        150    3436          11.0          70   \n3  16.0          8         304.0        150    3433          12.0          70   \n4  17.0          8         302.0        140    3449          10.5          70   \n\n   origin                       name  \n0       1  chevrolet chevelle malibu  \n1       1          buick skylark 320  \n2       1         plymouth satellite  \n3       1              amc rebel sst  \n4       1                ford torino  ",
      "text/html": "<div>\n<style scoped>\n    .dataframe tbody tr th:only-of-type {\n        vertical-align: middle;\n    }\n\n    .dataframe tbody tr th {\n        vertical-align: top;\n    }\n\n    .dataframe thead th {\n        text-align: right;\n    }\n</style>\n<table border=\"1\" class=\"dataframe\">\n  <thead>\n    <tr style=\"text-align: right;\">\n      <th></th>\n      <th>mpg</th>\n      <th>cylinders</th>\n      <th>displacement</th>\n      <th>horsepower</th>\n      <th>weight</th>\n      <th>acceleration</th>\n      <th>model_year</th>\n      <th>origin</th>\n      <th>name</th>\n    </tr>\n  </thead>\n  <tbody>\n    <tr>\n      <th>0</th>\n      <td>18.0</td>\n      <td>8</td>\n      <td>307.0</td>\n      <td>130</td>\n      <td>3504</td>\n      <td>12.0</td>\n      <td>70</td>\n      <td>1</td>\n      <td>chevrolet chevelle malibu</td>\n    </tr>\n    <tr>\n      <th>1</th>\n      <td>15.0</td>\n      <td>8</td>\n      <td>350.0</td>\n      <td>165</td>\n      <td>3693</td>\n      <td>11.5</td>\n      <td>70</td>\n      <td>1</td>\n      <td>buick skylark 320</td>\n    </tr>\n    <tr>\n      <th>2</th>\n      <td>18.0</td>\n      <td>8</td>\n      <td>318.0</td>\n      <td>150</td>\n      <td>3436</td>\n      <td>11.0</td>\n      <td>70</td>\n      <td>1</td>\n      <td>plymouth satellite</td>\n    </tr>\n    <tr>\n      <th>3</th>\n      <td>16.0</td>\n      <td>8</td>\n      <td>304.0</td>\n      <td>150</td>\n      <td>3433</td>\n      <td>12.0</td>\n      <td>70</td>\n      <td>1</td>\n      <td>amc rebel sst</td>\n    </tr>\n    <tr>\n      <th>4</th>\n      <td>17.0</td>\n      <td>8</td>\n      <td>302.0</td>\n      <td>140</td>\n      <td>3449</td>\n      <td>10.5</td>\n      <td>70</td>\n      <td>1</td>\n      <td>ford torino</td>\n    </tr>\n  </tbody>\n</table>\n</div>"
     },
     "execution_count": 3,
     "metadata": {},
     "output_type": "execute_result"
    }
   ],
   "source": [
    "df.head()"
   ],
   "metadata": {
    "collapsed": false,
    "pycharm": {
     "name": "#%%\n"
    }
   }
  },
  {
   "cell_type": "code",
   "execution_count": 7,
   "outputs": [
    {
     "data": {
      "text/plain": "model_year\n70    3372.793103\n71    2995.428571\n72    3237.714286\n73    3419.025000\n74    2877.925926\n75    3176.800000\n76    3078.735294\n77    2997.357143\n78    2861.805556\n79    3055.344828\n80    2436.655172\n81    2522.931034\n82    2453.548387\nName: weight, dtype: float64"
     },
     "execution_count": 7,
     "metadata": {},
     "output_type": "execute_result"
    }
   ],
   "source": [
    "df.groupby('model_year').mean()['weight']"
   ],
   "metadata": {
    "collapsed": false,
    "pycharm": {
     "name": "#%%\n"
    }
   }
  },
  {
   "cell_type": "code",
   "execution_count": 8,
   "outputs": [
    {
     "data": {
      "text/plain": "                             mpg  cylinders  displacement       weight  \\\nmodel_year horsepower                                                    \n70         113         26.000000        4.0    121.000000  2234.000000   \n           130         18.000000        8.0    307.000000  3504.000000   \n           140         17.000000        8.0    302.000000  3449.000000   \n           150         16.333333        8.0    340.666667  3543.333333   \n           160         14.000000        8.0    340.000000  3609.000000   \n...                          ...        ...           ...          ...   \n82         88          31.250000        4.0    114.000000  2450.000000   \n           90          27.000000        4.0    151.000000  2842.500000   \n           92          25.000000        4.0    148.000000  2725.000000   \n           96          32.000000        4.0    144.000000  2665.000000   \n           ?           23.000000        4.0    151.000000  3035.000000   \n\n                       acceleration  origin  \nmodel_year horsepower                        \n70         113            12.500000     2.0  \n           130            12.000000     1.0  \n           140            10.500000     1.0  \n           150            10.833333     1.0  \n           160             8.000000     1.0  \n...                             ...     ...  \n82         88             17.675000     1.5  \n           90             17.650000     1.0  \n           92             15.450000     1.0  \n           96             13.900000     3.0  \n           ?              20.500000     1.0  \n\n[284 rows x 6 columns]",
      "text/html": "<div>\n<style scoped>\n    .dataframe tbody tr th:only-of-type {\n        vertical-align: middle;\n    }\n\n    .dataframe tbody tr th {\n        vertical-align: top;\n    }\n\n    .dataframe thead th {\n        text-align: right;\n    }\n</style>\n<table border=\"1\" class=\"dataframe\">\n  <thead>\n    <tr style=\"text-align: right;\">\n      <th></th>\n      <th></th>\n      <th>mpg</th>\n      <th>cylinders</th>\n      <th>displacement</th>\n      <th>weight</th>\n      <th>acceleration</th>\n      <th>origin</th>\n    </tr>\n    <tr>\n      <th>model_year</th>\n      <th>horsepower</th>\n      <th></th>\n      <th></th>\n      <th></th>\n      <th></th>\n      <th></th>\n      <th></th>\n    </tr>\n  </thead>\n  <tbody>\n    <tr>\n      <th rowspan=\"5\" valign=\"top\">70</th>\n      <th>113</th>\n      <td>26.000000</td>\n      <td>4.0</td>\n      <td>121.000000</td>\n      <td>2234.000000</td>\n      <td>12.500000</td>\n      <td>2.0</td>\n    </tr>\n    <tr>\n      <th>130</th>\n      <td>18.000000</td>\n      <td>8.0</td>\n      <td>307.000000</td>\n      <td>3504.000000</td>\n      <td>12.000000</td>\n      <td>1.0</td>\n    </tr>\n    <tr>\n      <th>140</th>\n      <td>17.000000</td>\n      <td>8.0</td>\n      <td>302.000000</td>\n      <td>3449.000000</td>\n      <td>10.500000</td>\n      <td>1.0</td>\n    </tr>\n    <tr>\n      <th>150</th>\n      <td>16.333333</td>\n      <td>8.0</td>\n      <td>340.666667</td>\n      <td>3543.333333</td>\n      <td>10.833333</td>\n      <td>1.0</td>\n    </tr>\n    <tr>\n      <th>160</th>\n      <td>14.000000</td>\n      <td>8.0</td>\n      <td>340.000000</td>\n      <td>3609.000000</td>\n      <td>8.000000</td>\n      <td>1.0</td>\n    </tr>\n    <tr>\n      <th>...</th>\n      <th>...</th>\n      <td>...</td>\n      <td>...</td>\n      <td>...</td>\n      <td>...</td>\n      <td>...</td>\n      <td>...</td>\n    </tr>\n    <tr>\n      <th rowspan=\"5\" valign=\"top\">82</th>\n      <th>88</th>\n      <td>31.250000</td>\n      <td>4.0</td>\n      <td>114.000000</td>\n      <td>2450.000000</td>\n      <td>17.675000</td>\n      <td>1.5</td>\n    </tr>\n    <tr>\n      <th>90</th>\n      <td>27.000000</td>\n      <td>4.0</td>\n      <td>151.000000</td>\n      <td>2842.500000</td>\n      <td>17.650000</td>\n      <td>1.0</td>\n    </tr>\n    <tr>\n      <th>92</th>\n      <td>25.000000</td>\n      <td>4.0</td>\n      <td>148.000000</td>\n      <td>2725.000000</td>\n      <td>15.450000</td>\n      <td>1.0</td>\n    </tr>\n    <tr>\n      <th>96</th>\n      <td>32.000000</td>\n      <td>4.0</td>\n      <td>144.000000</td>\n      <td>2665.000000</td>\n      <td>13.900000</td>\n      <td>3.0</td>\n    </tr>\n    <tr>\n      <th>?</th>\n      <td>23.000000</td>\n      <td>4.0</td>\n      <td>151.000000</td>\n      <td>3035.000000</td>\n      <td>20.500000</td>\n      <td>1.0</td>\n    </tr>\n  </tbody>\n</table>\n<p>284 rows × 6 columns</p>\n</div>"
     },
     "execution_count": 8,
     "metadata": {},
     "output_type": "execute_result"
    }
   ],
   "source": [
    "df.groupby(['model_year', 'horsepower']).mean()"
   ],
   "metadata": {
    "collapsed": false,
    "pycharm": {
     "name": "#%%\n"
    }
   }
  },
  {
   "cell_type": "code",
   "execution_count": 9,
   "outputs": [],
   "source": [
    "year_weight = df.groupby(['model_year', 'horsepower']).mean()"
   ],
   "metadata": {
    "collapsed": false,
    "pycharm": {
     "name": "#%%\n"
    }
   }
  },
  {
   "cell_type": "code",
   "execution_count": 12,
   "outputs": [
    {
     "data": {
      "text/plain": "                             mpg  cylinders  displacement       weight  \\\nmodel_year horsepower                                                    \n70         113         26.000000   4.000000    121.000000  2234.000000   \n           130         18.000000   8.000000    307.000000  3504.000000   \n           140         17.000000   8.000000    302.000000  3449.000000   \n           150         16.333333   8.000000    340.666667  3543.333333   \n           160         14.000000   8.000000    340.000000  3609.000000   \n           165         15.000000   8.000000    350.000000  3693.000000   \n           170         15.000000   8.000000    383.000000  3563.000000   \n           190         15.000000   8.000000    390.000000  3850.000000   \n           193          9.000000   8.000000    304.000000  4732.000000   \n           198         15.000000   8.000000    429.000000  4341.000000   \n           200         10.000000   8.000000    307.000000  4376.000000   \n           210         11.000000   8.000000    318.000000  4382.000000   \n           215         12.000000   8.000000    400.000000  4463.500000   \n           220         14.000000   8.000000    454.000000  4354.000000   \n           225         14.000000   8.000000    455.000000  3755.500000   \n           46          26.000000   4.000000     97.000000  1835.000000   \n           85          21.000000   6.000000    200.000000  2587.000000   \n           87          25.000000   4.000000    110.000000  2672.000000   \n           88          27.000000   4.000000     97.000000  2130.000000   \n           90          22.500000   5.000000    153.000000  2539.000000   \n           95          23.666667   4.666667    138.333333  2526.666667   \n           97          18.000000   6.000000    199.000000  2774.000000   \n80         100         23.700000   3.000000     70.000000  2420.000000   \n           105         27.900000   4.000000    156.000000  2800.000000   \n           132         32.700000   6.000000    168.000000  2910.000000   \n           48          43.850000   4.000000     90.000000  2210.000000   \n           60          38.100000   4.000000     89.000000  1968.000000   \n           62          29.800000   4.000000     89.000000  1845.000000   \n           65          41.533333   4.000000     85.666667  2079.666667   \n           67          36.200000   4.250000    113.750000  2548.750000   \n           70          32.100000   4.000000     98.000000  2120.000000   \n           72          32.400000   4.000000    107.000000  2290.000000   \n           75          31.750000   4.000000    114.000000  2403.500000   \n           76          41.500000   4.000000     98.000000  2144.000000   \n           78          34.300000   4.000000     97.000000  2188.000000   \n           88          30.700000   4.000000    131.000000  2685.000000   \n           90          25.300000   4.500000    165.250000  2943.250000   \n           92          37.000000   4.000000    119.000000  2434.000000   \n           ?           32.250000   4.000000    112.500000  2370.000000   \n\n                       acceleration  origin  \nmodel_year horsepower                        \n70         113            12.500000     2.0  \n           130            12.000000     1.0  \n           140            10.500000     1.0  \n           150            10.833333     1.0  \n           160             8.000000     1.0  \n           165            11.500000     1.0  \n           170            10.000000     1.0  \n           190             8.500000     1.0  \n           193            18.500000     1.0  \n           198            10.000000     1.0  \n           200            15.000000     1.0  \n           210            13.500000     1.0  \n           215            11.250000     1.0  \n           220             9.000000     1.0  \n           225            10.000000     1.0  \n           46             20.500000     2.0  \n           85             16.000000     1.0  \n           87             17.500000     2.0  \n           88             14.500000     3.0  \n           90             14.750000     1.5  \n           95             16.000000     2.0  \n           97             15.500000     1.0  \n80         100            12.500000     3.0  \n           105            14.400000     1.0  \n           132            11.400000     3.0  \n           48             22.700000     2.0  \n           60             18.800000     3.0  \n           62             15.300000     2.0  \n           65             17.833333     3.0  \n           67             18.375000     2.5  \n           70             15.500000     1.0  \n           72             17.000000     3.0  \n           75             16.350000     3.0  \n           76             14.700000     2.0  \n           78             15.800000     2.0  \n           88             16.600000     1.5  \n           90             17.700000     1.5  \n           92             15.000000     3.0  \n           ?              15.800000     1.5  ",
      "text/html": "<div>\n<style scoped>\n    .dataframe tbody tr th:only-of-type {\n        vertical-align: middle;\n    }\n\n    .dataframe tbody tr th {\n        vertical-align: top;\n    }\n\n    .dataframe thead th {\n        text-align: right;\n    }\n</style>\n<table border=\"1\" class=\"dataframe\">\n  <thead>\n    <tr style=\"text-align: right;\">\n      <th></th>\n      <th></th>\n      <th>mpg</th>\n      <th>cylinders</th>\n      <th>displacement</th>\n      <th>weight</th>\n      <th>acceleration</th>\n      <th>origin</th>\n    </tr>\n    <tr>\n      <th>model_year</th>\n      <th>horsepower</th>\n      <th></th>\n      <th></th>\n      <th></th>\n      <th></th>\n      <th></th>\n      <th></th>\n    </tr>\n  </thead>\n  <tbody>\n    <tr>\n      <th rowspan=\"22\" valign=\"top\">70</th>\n      <th>113</th>\n      <td>26.000000</td>\n      <td>4.000000</td>\n      <td>121.000000</td>\n      <td>2234.000000</td>\n      <td>12.500000</td>\n      <td>2.0</td>\n    </tr>\n    <tr>\n      <th>130</th>\n      <td>18.000000</td>\n      <td>8.000000</td>\n      <td>307.000000</td>\n      <td>3504.000000</td>\n      <td>12.000000</td>\n      <td>1.0</td>\n    </tr>\n    <tr>\n      <th>140</th>\n      <td>17.000000</td>\n      <td>8.000000</td>\n      <td>302.000000</td>\n      <td>3449.000000</td>\n      <td>10.500000</td>\n      <td>1.0</td>\n    </tr>\n    <tr>\n      <th>150</th>\n      <td>16.333333</td>\n      <td>8.000000</td>\n      <td>340.666667</td>\n      <td>3543.333333</td>\n      <td>10.833333</td>\n      <td>1.0</td>\n    </tr>\n    <tr>\n      <th>160</th>\n      <td>14.000000</td>\n      <td>8.000000</td>\n      <td>340.000000</td>\n      <td>3609.000000</td>\n      <td>8.000000</td>\n      <td>1.0</td>\n    </tr>\n    <tr>\n      <th>165</th>\n      <td>15.000000</td>\n      <td>8.000000</td>\n      <td>350.000000</td>\n      <td>3693.000000</td>\n      <td>11.500000</td>\n      <td>1.0</td>\n    </tr>\n    <tr>\n      <th>170</th>\n      <td>15.000000</td>\n      <td>8.000000</td>\n      <td>383.000000</td>\n      <td>3563.000000</td>\n      <td>10.000000</td>\n      <td>1.0</td>\n    </tr>\n    <tr>\n      <th>190</th>\n      <td>15.000000</td>\n      <td>8.000000</td>\n      <td>390.000000</td>\n      <td>3850.000000</td>\n      <td>8.500000</td>\n      <td>1.0</td>\n    </tr>\n    <tr>\n      <th>193</th>\n      <td>9.000000</td>\n      <td>8.000000</td>\n      <td>304.000000</td>\n      <td>4732.000000</td>\n      <td>18.500000</td>\n      <td>1.0</td>\n    </tr>\n    <tr>\n      <th>198</th>\n      <td>15.000000</td>\n      <td>8.000000</td>\n      <td>429.000000</td>\n      <td>4341.000000</td>\n      <td>10.000000</td>\n      <td>1.0</td>\n    </tr>\n    <tr>\n      <th>200</th>\n      <td>10.000000</td>\n      <td>8.000000</td>\n      <td>307.000000</td>\n      <td>4376.000000</td>\n      <td>15.000000</td>\n      <td>1.0</td>\n    </tr>\n    <tr>\n      <th>210</th>\n      <td>11.000000</td>\n      <td>8.000000</td>\n      <td>318.000000</td>\n      <td>4382.000000</td>\n      <td>13.500000</td>\n      <td>1.0</td>\n    </tr>\n    <tr>\n      <th>215</th>\n      <td>12.000000</td>\n      <td>8.000000</td>\n      <td>400.000000</td>\n      <td>4463.500000</td>\n      <td>11.250000</td>\n      <td>1.0</td>\n    </tr>\n    <tr>\n      <th>220</th>\n      <td>14.000000</td>\n      <td>8.000000</td>\n      <td>454.000000</td>\n      <td>4354.000000</td>\n      <td>9.000000</td>\n      <td>1.0</td>\n    </tr>\n    <tr>\n      <th>225</th>\n      <td>14.000000</td>\n      <td>8.000000</td>\n      <td>455.000000</td>\n      <td>3755.500000</td>\n      <td>10.000000</td>\n      <td>1.0</td>\n    </tr>\n    <tr>\n      <th>46</th>\n      <td>26.000000</td>\n      <td>4.000000</td>\n      <td>97.000000</td>\n      <td>1835.000000</td>\n      <td>20.500000</td>\n      <td>2.0</td>\n    </tr>\n    <tr>\n      <th>85</th>\n      <td>21.000000</td>\n      <td>6.000000</td>\n      <td>200.000000</td>\n      <td>2587.000000</td>\n      <td>16.000000</td>\n      <td>1.0</td>\n    </tr>\n    <tr>\n      <th>87</th>\n      <td>25.000000</td>\n      <td>4.000000</td>\n      <td>110.000000</td>\n      <td>2672.000000</td>\n      <td>17.500000</td>\n      <td>2.0</td>\n    </tr>\n    <tr>\n      <th>88</th>\n      <td>27.000000</td>\n      <td>4.000000</td>\n      <td>97.000000</td>\n      <td>2130.000000</td>\n      <td>14.500000</td>\n      <td>3.0</td>\n    </tr>\n    <tr>\n      <th>90</th>\n      <td>22.500000</td>\n      <td>5.000000</td>\n      <td>153.000000</td>\n      <td>2539.000000</td>\n      <td>14.750000</td>\n      <td>1.5</td>\n    </tr>\n    <tr>\n      <th>95</th>\n      <td>23.666667</td>\n      <td>4.666667</td>\n      <td>138.333333</td>\n      <td>2526.666667</td>\n      <td>16.000000</td>\n      <td>2.0</td>\n    </tr>\n    <tr>\n      <th>97</th>\n      <td>18.000000</td>\n      <td>6.000000</td>\n      <td>199.000000</td>\n      <td>2774.000000</td>\n      <td>15.500000</td>\n      <td>1.0</td>\n    </tr>\n    <tr>\n      <th rowspan=\"17\" valign=\"top\">80</th>\n      <th>100</th>\n      <td>23.700000</td>\n      <td>3.000000</td>\n      <td>70.000000</td>\n      <td>2420.000000</td>\n      <td>12.500000</td>\n      <td>3.0</td>\n    </tr>\n    <tr>\n      <th>105</th>\n      <td>27.900000</td>\n      <td>4.000000</td>\n      <td>156.000000</td>\n      <td>2800.000000</td>\n      <td>14.400000</td>\n      <td>1.0</td>\n    </tr>\n    <tr>\n      <th>132</th>\n      <td>32.700000</td>\n      <td>6.000000</td>\n      <td>168.000000</td>\n      <td>2910.000000</td>\n      <td>11.400000</td>\n      <td>3.0</td>\n    </tr>\n    <tr>\n      <th>48</th>\n      <td>43.850000</td>\n      <td>4.000000</td>\n      <td>90.000000</td>\n      <td>2210.000000</td>\n      <td>22.700000</td>\n      <td>2.0</td>\n    </tr>\n    <tr>\n      <th>60</th>\n      <td>38.100000</td>\n      <td>4.000000</td>\n      <td>89.000000</td>\n      <td>1968.000000</td>\n      <td>18.800000</td>\n      <td>3.0</td>\n    </tr>\n    <tr>\n      <th>62</th>\n      <td>29.800000</td>\n      <td>4.000000</td>\n      <td>89.000000</td>\n      <td>1845.000000</td>\n      <td>15.300000</td>\n      <td>2.0</td>\n    </tr>\n    <tr>\n      <th>65</th>\n      <td>41.533333</td>\n      <td>4.000000</td>\n      <td>85.666667</td>\n      <td>2079.666667</td>\n      <td>17.833333</td>\n      <td>3.0</td>\n    </tr>\n    <tr>\n      <th>67</th>\n      <td>36.200000</td>\n      <td>4.250000</td>\n      <td>113.750000</td>\n      <td>2548.750000</td>\n      <td>18.375000</td>\n      <td>2.5</td>\n    </tr>\n    <tr>\n      <th>70</th>\n      <td>32.100000</td>\n      <td>4.000000</td>\n      <td>98.000000</td>\n      <td>2120.000000</td>\n      <td>15.500000</td>\n      <td>1.0</td>\n    </tr>\n    <tr>\n      <th>72</th>\n      <td>32.400000</td>\n      <td>4.000000</td>\n      <td>107.000000</td>\n      <td>2290.000000</td>\n      <td>17.000000</td>\n      <td>3.0</td>\n    </tr>\n    <tr>\n      <th>75</th>\n      <td>31.750000</td>\n      <td>4.000000</td>\n      <td>114.000000</td>\n      <td>2403.500000</td>\n      <td>16.350000</td>\n      <td>3.0</td>\n    </tr>\n    <tr>\n      <th>76</th>\n      <td>41.500000</td>\n      <td>4.000000</td>\n      <td>98.000000</td>\n      <td>2144.000000</td>\n      <td>14.700000</td>\n      <td>2.0</td>\n    </tr>\n    <tr>\n      <th>78</th>\n      <td>34.300000</td>\n      <td>4.000000</td>\n      <td>97.000000</td>\n      <td>2188.000000</td>\n      <td>15.800000</td>\n      <td>2.0</td>\n    </tr>\n    <tr>\n      <th>88</th>\n      <td>30.700000</td>\n      <td>4.000000</td>\n      <td>131.000000</td>\n      <td>2685.000000</td>\n      <td>16.600000</td>\n      <td>1.5</td>\n    </tr>\n    <tr>\n      <th>90</th>\n      <td>25.300000</td>\n      <td>4.500000</td>\n      <td>165.250000</td>\n      <td>2943.250000</td>\n      <td>17.700000</td>\n      <td>1.5</td>\n    </tr>\n    <tr>\n      <th>92</th>\n      <td>37.000000</td>\n      <td>4.000000</td>\n      <td>119.000000</td>\n      <td>2434.000000</td>\n      <td>15.000000</td>\n      <td>3.0</td>\n    </tr>\n    <tr>\n      <th>?</th>\n      <td>32.250000</td>\n      <td>4.000000</td>\n      <td>112.500000</td>\n      <td>2370.000000</td>\n      <td>15.800000</td>\n      <td>1.5</td>\n    </tr>\n  </tbody>\n</table>\n</div>"
     },
     "execution_count": 12,
     "metadata": {},
     "output_type": "execute_result"
    }
   ],
   "source": [
    "year_weight.loc[[70, 80]]"
   ],
   "metadata": {
    "collapsed": false,
    "pycharm": {
     "name": "#%%\n"
    }
   }
  },
  {
   "cell_type": "code",
   "execution_count": 16,
   "outputs": [
    {
     "data": {
      "text/plain": "MultiIndex([(70, '113'),\n            (70, '130'),\n            (70, '140'),\n            (70, '150'),\n            (70, '160'),\n            (70, '165'),\n            (70, '170'),\n            (70, '190'),\n            (70, '193'),\n            (70, '198'),\n            ...\n            (82,  '79'),\n            (82,  '82'),\n            (82,  '84'),\n            (82,  '85'),\n            (82,  '86'),\n            (82,  '88'),\n            (82,  '90'),\n            (82,  '92'),\n            (82,  '96'),\n            (82,   '?')],\n           names=['model_year', 'horsepower'], length=284)"
     },
     "execution_count": 16,
     "metadata": {},
     "output_type": "execute_result"
    }
   ],
   "source": [
    "year_weight.index"
   ],
   "metadata": {
    "collapsed": false,
    "pycharm": {
     "name": "#%%\n"
    }
   }
  },
  {
   "cell_type": "code",
   "execution_count": 17,
   "outputs": [
    {
     "data": {
      "text/plain": "mpg               26.0\ncylinders          4.0\ndisplacement     121.0\nweight          2234.0\nacceleration      12.5\norigin             2.0\nName: (70, 113), dtype: float64"
     },
     "execution_count": 17,
     "metadata": {},
     "output_type": "execute_result"
    }
   ],
   "source": [
    "year_weight.loc[(70, '113')]"
   ],
   "metadata": {
    "collapsed": false,
    "pycharm": {
     "name": "#%%\n"
    }
   }
  }
 ],
 "metadata": {
  "kernelspec": {
   "display_name": "Python 3",
   "language": "python",
   "name": "python3"
  },
  "language_info": {
   "codemirror_mode": {
    "name": "ipython",
    "version": 2
   },
   "file_extension": ".py",
   "mimetype": "text/x-python",
   "name": "python",
   "nbconvert_exporter": "python",
   "pygments_lexer": "ipython2",
   "version": "2.7.6"
  }
 },
 "nbformat": 4,
 "nbformat_minor": 0
}