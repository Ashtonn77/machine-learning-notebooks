{
 "cells": [
  {
   "cell_type": "markdown",
   "metadata": {
    "collapsed": true,
    "pycharm": {
     "name": "#%% md\n"
    }
   },
   "source": [
    "# Scikit Learn"
   ]
  },
  {
   "cell_type": "code",
   "execution_count": 29,
   "outputs": [
    {
     "name": "stdout",
     "output_type": "stream",
     "text": [
      "Requirement already satisfied: scikit-learn==0.23.0 in /home/ash/anaconda3/lib/python3.8/site-packages (0.23.0)\r\n",
      "Requirement already satisfied: scipy>=0.19.1 in /home/ash/anaconda3/lib/python3.8/site-packages (from scikit-learn==0.23.0) (1.6.2)\r\n",
      "Requirement already satisfied: numpy>=1.13.3 in /home/ash/anaconda3/lib/python3.8/site-packages (from scikit-learn==0.23.0) (1.20.2)\r\n",
      "Requirement already satisfied: threadpoolctl>=2.0.0 in /home/ash/anaconda3/lib/python3.8/site-packages (from scikit-learn==0.23.0) (2.1.0)\r\n",
      "Requirement already satisfied: joblib>=0.11 in /home/ash/anaconda3/lib/python3.8/site-packages (from scikit-learn==0.23.0) (1.0.1)\r\n",
      "Note: you may need to restart the kernel to use updated packages.\n"
     ]
    }
   ],
   "source": [
    "%pip install --upgrade scikit-learn==0.23.0"
   ],
   "metadata": {
    "collapsed": false,
    "pycharm": {
     "name": "#%%\n"
    }
   }
  },
  {
   "cell_type": "code",
   "execution_count": 30,
   "outputs": [],
   "source": [
    "from sklearn.datasets import load_boston"
   ],
   "metadata": {
    "collapsed": false,
    "pycharm": {
     "name": "#%%\n"
    }
   }
  },
  {
   "cell_type": "code",
   "execution_count": 31,
   "outputs": [],
   "source": [
    "#the return_X_y parameter returns the data split into labels and features\n",
    "X, y = load_boston(return_X_y=True)"
   ],
   "metadata": {
    "collapsed": false,
    "pycharm": {
     "name": "#%%\n"
    }
   }
  },
  {
   "cell_type": "code",
   "execution_count": 51,
   "outputs": [],
   "source": [
    "from sklearn.neighbors import KNeighborsRegressor\n",
    "import matplotlib.pylab as plt\n",
    "from sklearn.preprocessing import StandardScaler\n",
    "from sklearn.pipeline import Pipeline\n",
    "from sklearn.model_selection import GridSearchCV\n",
    "import pandas as pd"
   ],
   "metadata": {
    "collapsed": false,
    "pycharm": {
     "name": "#%%\n"
    }
   }
  },
  {
   "cell_type": "code",
   "execution_count": 53,
   "outputs": [],
   "source": [
    "pipe = Pipeline([\n",
    "    (\"scale\", StandardScaler()),\n",
    "    (\"model\", KNeighborsRegressor(n_neighbors=1))\n",
    "])\n",
    "# pipe.get_params()"
   ],
   "metadata": {
    "collapsed": false,
    "pycharm": {
     "name": "#%%\n"
    }
   }
  },
  {
   "cell_type": "code",
   "execution_count": 49,
   "outputs": [],
   "source": [
    "mod = GridSearchCV(estimator=pipe, param_grid={'model__n_neighbors': [1,2,3,4,5,6,7,8,9,10]}, cv=3)"
   ],
   "metadata": {
    "collapsed": false,
    "pycharm": {
     "name": "#%%\n"
    }
   }
  },
  {
   "cell_type": "code",
   "execution_count": 52,
   "outputs": [
    {
     "data": {
      "text/plain": "   mean_fit_time  std_fit_time  mean_score_time  std_score_time  \\\n0       0.001212  4.450340e-04         0.001630        0.000482   \n1       0.000583  2.256246e-06         0.000940        0.000070   \n2       0.000593  1.620311e-05         0.000979        0.000077   \n3       0.000601  1.959614e-06         0.001020        0.000067   \n4       0.000606  9.297306e-06         0.001297        0.000409   \n5       0.000731  1.824167e-04         0.001183        0.000147   \n6       0.000589  4.383272e-06         0.001138        0.000061   \n7       0.000586  1.545129e-06         0.001126        0.000099   \n8       0.000589  9.602742e-07         0.001156        0.000110   \n9       0.000588  5.548321e-06         0.001180        0.000108   \n\n  param_model__n_neighbors                      params  split0_test_score  \\\n0                        1   {'model__n_neighbors': 1}           0.226933   \n1                        2   {'model__n_neighbors': 2}           0.358216   \n2                        3   {'model__n_neighbors': 3}           0.413515   \n3                        4   {'model__n_neighbors': 4}           0.475349   \n4                        5   {'model__n_neighbors': 5}           0.512318   \n5                        6   {'model__n_neighbors': 6}           0.533611   \n6                        7   {'model__n_neighbors': 7}           0.544782   \n7                        8   {'model__n_neighbors': 8}           0.589644   \n8                        9   {'model__n_neighbors': 9}           0.590352   \n9                       10  {'model__n_neighbors': 10}           0.616510   \n\n   split1_test_score  split2_test_score  mean_test_score  std_test_score  \\\n0           0.432998           0.127635         0.262522        0.127179   \n1           0.409229           0.172294         0.313246        0.101821   \n2           0.476651           0.318534         0.402900        0.064986   \n3           0.402495           0.273014         0.383619        0.083675   \n4           0.347951           0.262590         0.374286        0.103638   \n5           0.389504           0.248482         0.390532        0.116406   \n6           0.385199           0.243668         0.391216        0.123003   \n7           0.394650           0.209714         0.398003        0.155124   \n8           0.407556           0.185253         0.394387        0.165643   \n9           0.395077           0.164023         0.391870        0.184741   \n\n   rank_test_score  \n0               10  \n1                9  \n2                1  \n3                7  \n4                8  \n5                6  \n6                5  \n7                2  \n8                3  \n9                4  ",
      "text/html": "<div>\n<style scoped>\n    .dataframe tbody tr th:only-of-type {\n        vertical-align: middle;\n    }\n\n    .dataframe tbody tr th {\n        vertical-align: top;\n    }\n\n    .dataframe thead th {\n        text-align: right;\n    }\n</style>\n<table border=\"1\" class=\"dataframe\">\n  <thead>\n    <tr style=\"text-align: right;\">\n      <th></th>\n      <th>mean_fit_time</th>\n      <th>std_fit_time</th>\n      <th>mean_score_time</th>\n      <th>std_score_time</th>\n      <th>param_model__n_neighbors</th>\n      <th>params</th>\n      <th>split0_test_score</th>\n      <th>split1_test_score</th>\n      <th>split2_test_score</th>\n      <th>mean_test_score</th>\n      <th>std_test_score</th>\n      <th>rank_test_score</th>\n    </tr>\n  </thead>\n  <tbody>\n    <tr>\n      <th>0</th>\n      <td>0.001212</td>\n      <td>4.450340e-04</td>\n      <td>0.001630</td>\n      <td>0.000482</td>\n      <td>1</td>\n      <td>{'model__n_neighbors': 1}</td>\n      <td>0.226933</td>\n      <td>0.432998</td>\n      <td>0.127635</td>\n      <td>0.262522</td>\n      <td>0.127179</td>\n      <td>10</td>\n    </tr>\n    <tr>\n      <th>1</th>\n      <td>0.000583</td>\n      <td>2.256246e-06</td>\n      <td>0.000940</td>\n      <td>0.000070</td>\n      <td>2</td>\n      <td>{'model__n_neighbors': 2}</td>\n      <td>0.358216</td>\n      <td>0.409229</td>\n      <td>0.172294</td>\n      <td>0.313246</td>\n      <td>0.101821</td>\n      <td>9</td>\n    </tr>\n    <tr>\n      <th>2</th>\n      <td>0.000593</td>\n      <td>1.620311e-05</td>\n      <td>0.000979</td>\n      <td>0.000077</td>\n      <td>3</td>\n      <td>{'model__n_neighbors': 3}</td>\n      <td>0.413515</td>\n      <td>0.476651</td>\n      <td>0.318534</td>\n      <td>0.402900</td>\n      <td>0.064986</td>\n      <td>1</td>\n    </tr>\n    <tr>\n      <th>3</th>\n      <td>0.000601</td>\n      <td>1.959614e-06</td>\n      <td>0.001020</td>\n      <td>0.000067</td>\n      <td>4</td>\n      <td>{'model__n_neighbors': 4}</td>\n      <td>0.475349</td>\n      <td>0.402495</td>\n      <td>0.273014</td>\n      <td>0.383619</td>\n      <td>0.083675</td>\n      <td>7</td>\n    </tr>\n    <tr>\n      <th>4</th>\n      <td>0.000606</td>\n      <td>9.297306e-06</td>\n      <td>0.001297</td>\n      <td>0.000409</td>\n      <td>5</td>\n      <td>{'model__n_neighbors': 5}</td>\n      <td>0.512318</td>\n      <td>0.347951</td>\n      <td>0.262590</td>\n      <td>0.374286</td>\n      <td>0.103638</td>\n      <td>8</td>\n    </tr>\n    <tr>\n      <th>5</th>\n      <td>0.000731</td>\n      <td>1.824167e-04</td>\n      <td>0.001183</td>\n      <td>0.000147</td>\n      <td>6</td>\n      <td>{'model__n_neighbors': 6}</td>\n      <td>0.533611</td>\n      <td>0.389504</td>\n      <td>0.248482</td>\n      <td>0.390532</td>\n      <td>0.116406</td>\n      <td>6</td>\n    </tr>\n    <tr>\n      <th>6</th>\n      <td>0.000589</td>\n      <td>4.383272e-06</td>\n      <td>0.001138</td>\n      <td>0.000061</td>\n      <td>7</td>\n      <td>{'model__n_neighbors': 7}</td>\n      <td>0.544782</td>\n      <td>0.385199</td>\n      <td>0.243668</td>\n      <td>0.391216</td>\n      <td>0.123003</td>\n      <td>5</td>\n    </tr>\n    <tr>\n      <th>7</th>\n      <td>0.000586</td>\n      <td>1.545129e-06</td>\n      <td>0.001126</td>\n      <td>0.000099</td>\n      <td>8</td>\n      <td>{'model__n_neighbors': 8}</td>\n      <td>0.589644</td>\n      <td>0.394650</td>\n      <td>0.209714</td>\n      <td>0.398003</td>\n      <td>0.155124</td>\n      <td>2</td>\n    </tr>\n    <tr>\n      <th>8</th>\n      <td>0.000589</td>\n      <td>9.602742e-07</td>\n      <td>0.001156</td>\n      <td>0.000110</td>\n      <td>9</td>\n      <td>{'model__n_neighbors': 9}</td>\n      <td>0.590352</td>\n      <td>0.407556</td>\n      <td>0.185253</td>\n      <td>0.394387</td>\n      <td>0.165643</td>\n      <td>3</td>\n    </tr>\n    <tr>\n      <th>9</th>\n      <td>0.000588</td>\n      <td>5.548321e-06</td>\n      <td>0.001180</td>\n      <td>0.000108</td>\n      <td>10</td>\n      <td>{'model__n_neighbors': 10}</td>\n      <td>0.616510</td>\n      <td>0.395077</td>\n      <td>0.164023</td>\n      <td>0.391870</td>\n      <td>0.184741</td>\n      <td>4</td>\n    </tr>\n  </tbody>\n</table>\n</div>"
     },
     "execution_count": 52,
     "metadata": {},
     "output_type": "execute_result"
    }
   ],
   "source": [
    "mod.fit(X, y)\n",
    "pd.DataFrame(mod.cv_results_)"
   ],
   "metadata": {
    "collapsed": false,
    "pycharm": {
     "name": "#%%\n"
    }
   }
  }
 ],
 "metadata": {
  "kernelspec": {
   "display_name": "Python 3",
   "language": "python",
   "name": "python3"
  },
  "language_info": {
   "codemirror_mode": {
    "name": "ipython",
    "version": 2
   },
   "file_extension": ".py",
   "mimetype": "text/x-python",
   "name": "python",
   "nbconvert_exporter": "python",
   "pygments_lexer": "ipython2",
   "version": "2.7.6"
  }
 },
 "nbformat": 4,
 "nbformat_minor": 0
}